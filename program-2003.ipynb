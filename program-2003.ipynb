{
 "metadata": {
  "language_info": {
   "codemirror_mode": {
    "name": "ipython",
    "version": 3
   },
   "file_extension": ".py",
   "mimetype": "text/x-python",
   "name": "python",
   "nbconvert_exporter": "python",
   "pygments_lexer": "ipython3",
   "version": "3.9.5"
  },
  "orig_nbformat": 4,
  "kernelspec": {
   "name": "python3",
   "display_name": "Python 3.9.5 64-bit"
  },
  "interpreter": {
   "hash": "ac59ebe37160ed0dfa835113d9b8498d9f09ceb179beaac4002f036b9467c963"
  }
 },
 "nbformat": 4,
 "nbformat_minor": 2,
 "cells": [
  {
   "cell_type": "code",
   "execution_count": 1,
   "metadata": {},
   "outputs": [
    {
     "output_type": "stream",
     "name": "stdout",
     "text": [
      "Defaulting to user installation because normal site-packages is not writeable\nRequirement already satisfied: cryptography in c:\\users\\akkin\\appdata\\roaming\\python\\python39\\site-packages (3.4.7)\nRequirement already satisfied: cffi>=1.12 in c:\\users\\akkin\\appdata\\roaming\\python\\python39\\site-packages (from cryptography) (1.14.5)\nRequirement already satisfied: pycparser in c:\\users\\akkin\\appdata\\roaming\\python\\python39\\site-packages (from cffi>=1.12->cryptography) (2.20)\n"
     ]
    }
   ],
   "source": [
    "!pip install cryptography"
   ]
  },
  {
   "source": [
    "### Symmetric Encryption"
   ],
   "cell_type": "markdown",
   "metadata": {}
  },
  {
   "cell_type": "code",
   "execution_count": 2,
   "metadata": {},
   "outputs": [],
   "source": [
    "from cryptography.fernet import Fernet"
   ]
  },
  {
   "cell_type": "code",
   "execution_count": 3,
   "metadata": {},
   "outputs": [],
   "source": [
    "symmetric_key = Fernet.generate_key() # generates the symmetric key"
   ]
  },
  {
   "cell_type": "code",
   "execution_count": 4,
   "metadata": {},
   "outputs": [],
   "source": [
    "fernet = Fernet(symmetric_key) # instantiate the fernet class with the key \n",
    "# store this in a file to share afterwards and to use the same key for further communications (best practice)"
   ]
  },
  {
   "cell_type": "code",
   "execution_count": 5,
   "metadata": {},
   "outputs": [
    {
     "output_type": "execute_result",
     "data": {
      "text/plain": [
       "'Hello, anand!'"
      ]
     },
     "metadata": {},
     "execution_count": 5
    }
   ],
   "source": [
    "message = 'Hello, anand!'\n",
    "message"
   ]
  },
  {
   "cell_type": "code",
   "execution_count": 6,
   "metadata": {},
   "outputs": [
    {
     "output_type": "execute_result",
     "data": {
      "text/plain": [
       "b'gAAAAABgxfJtIAxE6W5PT2waFK6YEkmcXNywiaaxG2k1doYlxHwMDCvPc-uqdi4W5WiWDhLvF64lBclqyeGO-n3yGkVUUbzxJg=='"
      ]
     },
     "metadata": {},
     "execution_count": 6
    }
   ],
   "source": [
    "encrypted_message = fernet.encrypt(message.encode())\n",
    "encrypted_message"
   ]
  },
  {
   "cell_type": "code",
   "execution_count": 7,
   "metadata": {},
   "outputs": [
    {
     "output_type": "execute_result",
     "data": {
      "text/plain": [
       "b'Hello, anand!'"
      ]
     },
     "metadata": {},
     "execution_count": 7
    }
   ],
   "source": [
    "decrypted_message = fernet.decrypt(encrypted_message)\n",
    "decrypted_message"
   ]
  },
  {
   "source": [
    "### Hashing to obtain message digests"
   ],
   "cell_type": "markdown",
   "metadata": {}
  },
  {
   "cell_type": "code",
   "execution_count": 8,
   "metadata": {},
   "outputs": [],
   "source": [
    "from hashlib import md5"
   ]
  },
  {
   "cell_type": "code",
   "execution_count": 9,
   "metadata": {},
   "outputs": [
    {
     "output_type": "execute_result",
     "data": {
      "text/plain": [
       "'2162e4925b278d1da9858cc28bc008b3'"
      ]
     },
     "metadata": {},
     "execution_count": 9
    }
   ],
   "source": [
    "encoded_message = md5(b'Hello!! Welcome to ACE!!')\n",
    "encoded_message.hexdigest()"
   ]
  },
  {
   "cell_type": "code",
   "execution_count": 10,
   "metadata": {},
   "outputs": [],
   "source": [
    "from hashlib import sha512"
   ]
  },
  {
   "cell_type": "code",
   "execution_count": 11,
   "metadata": {},
   "outputs": [
    {
     "output_type": "execute_result",
     "data": {
      "text/plain": [
       "'9dfb7f9ee7660c1c6b624c2cb1269bcf176b487af05e07e04cd7bb6df3221ae9b8e9c44588a6e3ce42defe9619655802f0f27faf27f782d715a0c180766a22a2'"
      ]
     },
     "metadata": {},
     "execution_count": 11
    }
   ],
   "source": [
    "encoded_message = sha512(b'Hello!! Welcome to ACE!!')\n",
    "encoded_message.hexdigest()"
   ]
  },
  {
   "source": [
    "### Asymmetric Encryption (RSA)"
   ],
   "cell_type": "markdown",
   "metadata": {}
  },
  {
   "source": [
    "#### Generate Keys"
   ],
   "cell_type": "markdown",
   "metadata": {}
  },
  {
   "cell_type": "code",
   "execution_count": 12,
   "metadata": {},
   "outputs": [],
   "source": [
    "from cryptography.hazmat.backends import default_backend\n",
    "from cryptography.hazmat.primitives.asymmetric import rsa, padding\n",
    "from cryptography.hazmat.primitives import hashes"
   ]
  },
  {
   "cell_type": "code",
   "execution_count": 13,
   "metadata": {},
   "outputs": [],
   "source": [
    "private_key = rsa.generate_private_key(public_exponent=65537, key_size=2048, backend=default_backend())\n",
    "public_key = private_key.public_key()"
   ]
  },
  {
   "source": [
    "#### strore these keys into a file (skip this step)"
   ],
   "cell_type": "markdown",
   "metadata": {}
  },
  {
   "source": [
    "#### Encrypt the message"
   ],
   "cell_type": "markdown",
   "metadata": {}
  },
  {
   "cell_type": "code",
   "execution_count": 14,
   "metadata": {},
   "outputs": [
    {
     "output_type": "execute_result",
     "data": {
      "text/plain": [
       "b'z\\x80\\xe6\\x80\\\\\\x17,\\xb0\\xf8\\x94\\xdc\\xfb\\x8e\\xbaQ\\xb6\\xa1\\xa9V\\xc8\\xae\\xc6\\x00\\xef\\xaeX;\\xcfj\\x14{mO\\xf3\\xd4bZC\\xdf\\x9d\\xa9*\\x0bt\\xac]\\xc3\\xd73\\x9fM\\xd5\\xcb+\\x9eP\\x90\\x8c\\xf8SW;\\xc4\\xd4\\x84\\x0c\\xe9\\xa1\\x16\\x89\\xac\\xfe\\xed_m\\x18\\xa0ZF0\\x86r\\xa0\\xfdi\\x91\\xb6\\x14k\\x0cH\\x14E\\xceO\\xf8\\xe7\\xc1\\xb4H\\x8bt\\xee$=\\xa9j\\x87\\x9a\\x07\\xc9\\x13&@Z}\\xa2\\x07\\xfd\\xc27$?p\\x85\\x7f\\xbf,\\xf9\\xbbGAC\\xcb\\xe7\\xd7\\r\\xda\\xab\\xc8P\\xdf\\xc2Q\\xcd&\\x1a\\xc5\\xd0\\xfb\\x88s\\xfe\\\\\\x9f2\\xac\\xb2\\n?Wf\\xe9L\\x0e\\xde>\\xc0-\\x9b\\xfd\\xd9\\xecU\\xbb\\x01\\xf5\\xd0\\xe0\\x98\\xf7\\x86/\\xab\\xf5S\\x85eU\\x9bO,\\xf9@`\\xed\\xefvuy\\\\\\x1at\\x82\\xd5\\xa7\\x9b\\xbb\\xa1\\x8e\\xf3*\\xc2\\xb7}K\\xee\\x05\\x81^\\xcd\\x01m\\x8e\\x85p\\xad\\xdbN\\xfe=m@d\\xad\\x1e\\xd3\\xf1\\x03h\\x8b\\xa3\\xc8\\xad\\xf7\\xf6\\xe5\\xa9\\xacE@\\\\\\xcb\\xc1\\xb9\\xb8'"
      ]
     },
     "metadata": {},
     "execution_count": 14
    }
   ],
   "source": [
    "message = b'Encrypt me!'\n",
    "encrypted_message = public_key.encrypt(message, padding=padding.OAEP(mgf=padding.MGF1(algorithm=hashes.SHA512()), algorithm=hashes.SHA512(), label=None))\n",
    "encrypted_message"
   ]
  },
  {
   "source": [
    "#### Decrypt message"
   ],
   "cell_type": "markdown",
   "metadata": {}
  },
  {
   "cell_type": "code",
   "execution_count": 15,
   "metadata": {},
   "outputs": [
    {
     "output_type": "execute_result",
     "data": {
      "text/plain": [
       "b'Encrypt me!'"
      ]
     },
     "metadata": {},
     "execution_count": 15
    }
   ],
   "source": [
    "original_message = private_key.decrypt(encrypted_message, padding=padding.OAEP(mgf=padding.MGF1(algorithm=hashes.SHA512()), algorithm=hashes.SHA512(), label=None))\n",
    "original_message"
   ]
  }
 ]
}