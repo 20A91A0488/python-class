{
 "metadata": {
  "language_info": {
   "codemirror_mode": {
    "name": "ipython",
    "version": 3
   },
   "file_extension": ".py",
   "mimetype": "text/x-python",
   "name": "python",
   "nbconvert_exporter": "python",
   "pygments_lexer": "ipython3",
   "version": "3.9.5"
  },
  "orig_nbformat": 4,
  "kernelspec": {
   "name": "python3",
   "display_name": "Python 3.9.5 64-bit"
  },
  "interpreter": {
   "hash": "ac59ebe37160ed0dfa835113d9b8498d9f09ceb179beaac4002f036b9467c963"
  }
 },
 "nbformat": 4,
 "nbformat_minor": 2,
 "cells": [
  {
   "source": [
    "### Opening, reading, writing and closing the text files"
   ],
   "cell_type": "markdown",
   "metadata": {}
  },
  {
   "cell_type": "code",
   "execution_count": 1,
   "metadata": {},
   "outputs": [],
   "source": [
    "file = open('days.txt', 'w') # open a file for writing\n",
    "file.write('Sunday' + '\\n') # writes a line\n",
    "file.writelines(['Monday', '\\n', 'Tuesday', '\\n', 'Wednesday', '\\n', 'Thursday', '\\n', 'Fraday', '\\n', 'Saturday']) # write lines\n",
    "file.close() # close the file"
   ]
  },
  {
   "cell_type": "code",
   "execution_count": 2,
   "metadata": {},
   "outputs": [
    {
     "output_type": "execute_result",
     "data": {
      "text/plain": [
       "True"
      ]
     },
     "metadata": {},
     "execution_count": 2
    }
   ],
   "source": [
    "file.closed # testing the file closed or not"
   ]
  },
  {
   "cell_type": "code",
   "execution_count": 3,
   "metadata": {},
   "outputs": [
    {
     "output_type": "stream",
     "name": "stdout",
     "text": [
      "Sun\nday\n\n['Monday\\n', 'Tuesday\\n', 'Wednesday\\n', 'Thursday\\n', 'Fraday\\n', 'Saturday']\n"
     ]
    }
   ],
   "source": [
    "with open('days.txt', 'r') as file:\n",
    "    print(file.read(3)) # read five characters\n",
    "    print(file.readline()) # reads the entire line including the newline character\n",
    "    print(file.readlines()) # read all lines\n",
    "    # no need to close the with statement will automatically close the file resource"
   ]
  },
  {
   "source": [
    "### Opening, reading, writing and closing the buffered binary files\n",
    "#### 0: sets the reference point at the beginning of the file\n",
    "#### 1: sets the reference point at the current file position\n",
    "#### 2: sets the reference point at the end of the file"
   ],
   "cell_type": "markdown",
   "metadata": {}
  },
  {
   "cell_type": "code",
   "execution_count": 4,
   "metadata": {},
   "outputs": [
    {
     "output_type": "stream",
     "name": "stdout",
     "text": [
      "56\nSunday\nMonday\nTuesday\nWednesday\nThursday\nFraday\nSaturday\n"
     ]
    }
   ],
   "source": [
    "with open('days-binary.txt', 'wb+') as file:\n",
    "    file.write(b'Sunday\\n')\n",
    "    file.write(b'Monday\\n')\n",
    "    file.writelines([b'Tuesday\\n', b'Wednesday\\n', b'Thursday\\n', b'Fraday\\n', b'Saturday'])\n",
    "    print(file.tell())\n",
    "    file.seek(0)\n",
    "    for line in file.readlines():\n",
    "        print(line.rstrip(b'\\n').decode())"
   ]
  },
  {
   "cell_type": "code",
   "execution_count": 5,
   "metadata": {},
   "outputs": [
    {
     "output_type": "stream",
     "name": "stdout",
     "text": [
      "Sunday\nMonday\nTuesday\nWednesday\nThursday\nFraday\nSaturdaySunday\nMonday\nTuesday\nWednesday\nThursday\nFraday\nSaturday\n"
     ]
    }
   ],
   "source": [
    "with open('days-raw.txt', 'a') as file:\n",
    "    file.write('Sunday\\n')\n",
    "    file.write('Monday\\n')\n",
    "    file.writelines(['Tuesday\\n', 'Wednesday\\n'])\n",
    "\n",
    "with open('days-raw.txt', 'a+') as file:\n",
    "    file.writelines(['Thursday\\n', 'Fraday\\n', 'Saturday'])\n",
    "    file.seek(0)\n",
    "    for line in file.readlines():\n",
    "        print(line.rstrip('\\n'))"
   ]
  },
  {
   "source": [
    "### csv file"
   ],
   "cell_type": "markdown",
   "metadata": {}
  },
  {
   "cell_type": "code",
   "execution_count": 6,
   "metadata": {},
   "outputs": [
    {
     "output_type": "stream",
     "name": "stdout",
     "text": [
      "Dr. Ananda Kumar Kinjarapu                         Professor                                          CSE                                                \n\nM Venkatesh                                        Associate Professor                                CSE                                                \n\n"
     ]
    }
   ],
   "source": [
    "import csv\n",
    "with open('employee_file.csv', mode='w+', newline='') as employee_file:\n",
    "    employee_writer = csv.writer(employee_file, delimiter=',', quotechar='\"', quoting=csv.QUOTE_MINIMAL)\n",
    "\n",
    "    employee_writer.writerow(['Dr. Ananda Kumar Kinjarapu', 'Professor', 'CSE'])\n",
    "    employee_writer.writerow(['M Venkatesh', 'Associate Professor', 'CSE'])\n",
    "    employee_file.seek(0)\n",
    "    employee_reader = csv.reader(employee_file, delimiter=',', quotechar='\"', quoting=csv.QUOTE_MINIMAL)\n",
    "    for row in employee_reader:\n",
    "        for col in row:\n",
    "            print(\"%-50s\"%col, end=' ')\n",
    "        print('\\n')"
   ]
  }
 ]
}