{
 "metadata": {
  "language_info": {
   "codemirror_mode": {
    "name": "ipython",
    "version": 3
   },
   "file_extension": ".py",
   "mimetype": "text/x-python",
   "name": "python",
   "nbconvert_exporter": "python",
   "pygments_lexer": "ipython3",
   "version": "3.9.5"
  },
  "orig_nbformat": 4,
  "kernelspec": {
   "name": "python3",
   "display_name": "Python 3.9.5 64-bit"
  },
  "interpreter": {
   "hash": "ac59ebe37160ed0dfa835113d9b8498d9f09ceb179beaac4002f036b9467c963"
  }
 },
 "nbformat": 4,
 "nbformat_minor": 2,
 "cells": [
  {
   "cell_type": "code",
   "execution_count": 1,
   "metadata": {},
   "outputs": [
    {
     "output_type": "stream",
     "name": "stdout",
     "text": [
      "Defaulting to user installation because normal site-packages is not writeable\nRequirement already satisfied: cryptography in c:\\users\\akkin\\appdata\\roaming\\python\\python39\\site-packages (3.4.7)\nRequirement already satisfied: cffi>=1.12 in c:\\users\\akkin\\appdata\\roaming\\python\\python39\\site-packages (from cryptography) (1.14.5)\nRequirement already satisfied: pycparser in c:\\users\\akkin\\appdata\\roaming\\python\\python39\\site-packages (from cffi>=1.12->cryptography) (2.20)\n"
     ]
    }
   ],
   "source": [
    "!pip install cryptography"
   ]
  },
  {
   "cell_type": "code",
   "execution_count": 2,
   "metadata": {},
   "outputs": [],
   "source": [
    "from cryptography.fernet import Fernet"
   ]
  },
  {
   "cell_type": "code",
   "execution_count": 3,
   "metadata": {},
   "outputs": [],
   "source": [
    "symmetric_key = Fernet.generate_key() # generates the symmetric key"
   ]
  },
  {
   "cell_type": "code",
   "execution_count": 4,
   "metadata": {},
   "outputs": [],
   "source": [
    "fernet = Fernet(symmetric_key) # instantiate the fernet class with the key \n",
    "# store this in a file to share afterwards and to use the same key for further communications (best practice)"
   ]
  },
  {
   "cell_type": "code",
   "execution_count": 5,
   "metadata": {},
   "outputs": [
    {
     "output_type": "execute_result",
     "data": {
      "text/plain": [
       "'Hello, anand!'"
      ]
     },
     "metadata": {},
     "execution_count": 5
    }
   ],
   "source": [
    "message = 'Hello, anand!'\n",
    "message"
   ]
  },
  {
   "cell_type": "code",
   "execution_count": 6,
   "metadata": {},
   "outputs": [
    {
     "output_type": "execute_result",
     "data": {
      "text/plain": [
       "b'gAAAAABgxeHQTje3x1z_rED675oqJN0ZwptvssbuHSyaL1RK61bDckl9ddYNohpaeKzvRlOiZBwvf-ND0CAOSYZUMv77ada3Fg=='"
      ]
     },
     "metadata": {},
     "execution_count": 6
    }
   ],
   "source": [
    "encrypted_message = fernet.encrypt(message.encode())\n",
    "encrypted_message"
   ]
  },
  {
   "cell_type": "code",
   "execution_count": 7,
   "metadata": {},
   "outputs": [
    {
     "output_type": "execute_result",
     "data": {
      "text/plain": [
       "b'Hello, anand!'"
      ]
     },
     "metadata": {},
     "execution_count": 7
    }
   ],
   "source": [
    "decrypted_message = fernet.decrypt(encrypted_message)\n",
    "decrypted_message"
   ]
  },
  {
   "cell_type": "code",
   "execution_count": 8,
   "metadata": {},
   "outputs": [],
   "source": [
    "from hashlib import md5"
   ]
  },
  {
   "cell_type": "code",
   "execution_count": 9,
   "metadata": {},
   "outputs": [
    {
     "output_type": "execute_result",
     "data": {
      "text/plain": [
       "'2162e4925b278d1da9858cc28bc008b3'"
      ]
     },
     "metadata": {},
     "execution_count": 9
    }
   ],
   "source": [
    "encoded_message = md5(b'Hello!! Welcome to ACE!!')\n",
    "encoded_message.hexdigest()"
   ]
  },
  {
   "cell_type": "code",
   "execution_count": 10,
   "metadata": {},
   "outputs": [],
   "source": [
    "from hashlib import sha512"
   ]
  },
  {
   "cell_type": "code",
   "execution_count": 11,
   "metadata": {},
   "outputs": [
    {
     "output_type": "execute_result",
     "data": {
      "text/plain": [
       "'9dfb7f9ee7660c1c6b624c2cb1269bcf176b487af05e07e04cd7bb6df3221ae9b8e9c44588a6e3ce42defe9619655802f0f27faf27f782d715a0c180766a22a2'"
      ]
     },
     "metadata": {},
     "execution_count": 11
    }
   ],
   "source": [
    "encoded_message = sha512(b'Hello!! Welcome to ACE!!')\n",
    "encoded_message.hexdigest()"
   ]
  }
 ]
}