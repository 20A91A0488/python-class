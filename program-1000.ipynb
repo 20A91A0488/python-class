{
 "metadata": {
  "language_info": {
   "codemirror_mode": {
    "name": "ipython",
    "version": 3
   },
   "file_extension": ".py",
   "mimetype": "text/x-python",
   "name": "python",
   "nbconvert_exporter": "python",
   "pygments_lexer": "ipython3",
   "version": "3.9.5"
  },
  "orig_nbformat": 2,
  "kernelspec": {
   "name": "python395jvsc74a57bd0ac59ebe37160ed0dfa835113d9b8498d9f09ceb179beaac4002f036b9467c963",
   "display_name": "Python 3.9.5 64-bit"
  },
  "metadata": {
   "interpreter": {
    "hash": "ac59ebe37160ed0dfa835113d9b8498d9f09ceb179beaac4002f036b9467c963"
   }
  }
 },
 "nbformat": 4,
 "nbformat_minor": 2,
 "cells": [
  {
   "source": [
    "### print static text\n",
    "#### string literals enclosed in single quotes or double quotes\n",
    "#### triple single/double quotes to span the string to multiple lines"
   ],
   "cell_type": "markdown",
   "metadata": {}
  },
  {
   "cell_type": "code",
   "execution_count": 1,
   "metadata": {},
   "outputs": [
    {
     "output_type": "stream",
     "name": "stdout",
     "text": [
      "Hello World!\n"
     ]
    }
   ],
   "source": [
    "print('Hello World!')"
   ]
  },
  {
   "cell_type": "code",
   "execution_count": 2,
   "metadata": {},
   "outputs": [
    {
     "output_type": "stream",
     "name": "stdout",
     "text": [
      "Hello World!\n"
     ]
    }
   ],
   "source": [
    "print(\"Hello World!\")"
   ]
  },
  {
   "cell_type": "code",
   "execution_count": 3,
   "metadata": {},
   "outputs": [
    {
     "output_type": "stream",
     "name": "stdout",
     "text": [
      "Hello\nWorld!\n"
     ]
    }
   ],
   "source": [
    "print(\"\"\"Hello\n",
    "World!\"\"\")"
   ]
  },
  {
   "cell_type": "code",
   "execution_count": 4,
   "metadata": {},
   "outputs": [
    {
     "output_type": "stream",
     "name": "stdout",
     "text": [
      "Hello\nWorld\n!\n"
     ]
    }
   ],
   "source": [
    "print('''Hello\n",
    "World\n",
    "!''')"
   ]
  },
  {
   "cell_type": "code",
   "execution_count": 5,
   "metadata": {},
   "outputs": [
    {
     "output_type": "stream",
     "name": "stdout",
     "text": [
      "Hello World!\n"
     ]
    }
   ],
   "source": [
    "print('''\\\n",
    "Hello \\\n",
    "World\\\n",
    "!''')"
   ]
  },
  {
   "source": [
    "### two print functions to print two numeric literals\n",
    "#### print the two values in two separate lines\n",
    "#### by default print function appends new line at the end of each line it prints"
   ],
   "cell_type": "markdown",
   "metadata": {}
  },
  {
   "cell_type": "code",
   "execution_count": 6,
   "metadata": {},
   "outputs": [
    {
     "output_type": "stream",
     "name": "stdout",
     "text": [
      "10\n20.58\n"
     ]
    }
   ],
   "source": [
    "print(10)\n",
    "print(20.58)"
   ]
  },
  {
   "source": [
    "### output of two print functions can be displayed on a same screen"
   ],
   "cell_type": "markdown",
   "metadata": {}
  },
  {
   "cell_type": "code",
   "execution_count": 7,
   "metadata": {},
   "outputs": [
    {
     "output_type": "stream",
     "name": "stdout",
     "text": [
      "10 20.58\n30\n"
     ]
    }
   ],
   "source": [
    "print(10, end=' ')\n",
    "print(20.58)\n",
    "print(30)"
   ]
  },
  {
   "source": [
    "### you can pass more than one value to print function\n",
    "#### by default separated by spaces"
   ],
   "cell_type": "markdown",
   "metadata": {}
  },
  {
   "cell_type": "code",
   "execution_count": 8,
   "metadata": {},
   "outputs": [
    {
     "output_type": "stream",
     "name": "stdout",
     "text": [
      "10 20 30.85\n"
     ]
    }
   ],
   "source": [
    "print(10, 20, 30.85)"
   ]
  },
  {
   "cell_type": "code",
   "execution_count": 9,
   "metadata": {},
   "outputs": [
    {
     "output_type": "stream",
     "name": "stdout",
     "text": [
      "10 20 30.85\n"
     ]
    }
   ],
   "source": [
    "print(10, 20, 30.85, sep=None)"
   ]
  },
  {
   "source": [
    "### multiple values passed to a print function can be separated with comma "
   ],
   "cell_type": "markdown",
   "metadata": {}
  },
  {
   "cell_type": "code",
   "execution_count": 10,
   "metadata": {},
   "outputs": [
    {
     "output_type": "stream",
     "name": "stdout",
     "text": [
      "10,20,30.85\n"
     ]
    }
   ],
   "source": [
    "print(10, 20, 30.85, sep=',')"
   ]
  },
  {
   "source": [
    "### demonstrates print returns no value i.e. None"
   ],
   "cell_type": "markdown",
   "metadata": {}
  },
  {
   "cell_type": "code",
   "execution_count": 11,
   "metadata": {},
   "outputs": [
    {
     "output_type": "stream",
     "name": "stdout",
     "text": [
      "Hello\nNone\n"
     ]
    }
   ],
   "source": [
    "print(print('Hello'))"
   ]
  },
  {
   "source": [
    "#### guess what print() without arguments will print"
   ],
   "cell_type": "markdown",
   "metadata": {}
  },
  {
   "cell_type": "code",
   "execution_count": 12,
   "metadata": {},
   "outputs": [
    {
     "output_type": "stream",
     "name": "stdout",
     "text": [
      "\nnew line\n"
     ]
    }
   ],
   "source": [
    "print()\n",
    "print('new line')"
   ]
  },
  {
   "source": [
    "### printing to a file (standard error represented with sys.stderr)"
   ],
   "cell_type": "markdown",
   "metadata": {}
  },
  {
   "cell_type": "code",
   "execution_count": 13,
   "metadata": {},
   "outputs": [
    {
     "output_type": "stream",
     "name": "stderr",
     "text": [
      "fatal error\n"
     ]
    }
   ],
   "source": [
    "print('fatal error', file=sys.stderr)"
   ]
  },
  {
   "source": [
    "### printing to a file"
   ],
   "cell_type": "markdown",
   "metadata": {}
  },
  {
   "cell_type": "code",
   "execution_count": 14,
   "metadata": {},
   "outputs": [],
   "source": [
    "sourceFile = open('python.txt', 'w+')\n",
    "print('Hello World!', file = sourceFile)\n",
    "print('Pretty cool, huh!', file = sourceFile)\n",
    "sourceFile.close()"
   ]
  },
  {
   "source": [
    "### display a variable's value along with a predefined string"
   ],
   "cell_type": "markdown",
   "metadata": {}
  },
  {
   "cell_type": "code",
   "execution_count": 15,
   "metadata": {},
   "outputs": [],
   "source": [
    "name = 'anand'\n",
    "age = 45"
   ]
  },
  {
   "cell_type": "code",
   "execution_count": 16,
   "metadata": {},
   "outputs": [
    {
     "output_type": "stream",
     "name": "stdout",
     "text": [
      "anand\n"
     ]
    }
   ],
   "source": [
    "print(name)"
   ]
  },
  {
   "cell_type": "code",
   "execution_count": 17,
   "metadata": {},
   "outputs": [
    {
     "output_type": "stream",
     "name": "stdout",
     "text": [
      "45\n"
     ]
    }
   ],
   "source": [
    "print(age)"
   ]
  },
  {
   "cell_type": "code",
   "execution_count": 18,
   "metadata": {},
   "outputs": [
    {
     "output_type": "stream",
     "name": "stdout",
     "text": [
      "anand is a string and 45 is an integer\n"
     ]
    }
   ],
   "source": [
    "print(name, 'is a string and', age, 'is an integer')"
   ]
  },
  {
   "source": [
    "### better way is to use string format method\n",
    "### index numbers are represented with a curly bracket {} representing a placeholder"
   ],
   "cell_type": "markdown",
   "metadata": {}
  },
  {
   "cell_type": "code",
   "execution_count": 19,
   "metadata": {},
   "outputs": [
    {
     "output_type": "stream",
     "name": "stdout",
     "text": [
      "anand is a string and 45 is an integer\n"
     ]
    }
   ],
   "source": [
    "print(\"{} is a string and {} is an integer\".format(name, age))"
   ]
  },
  {
   "cell_type": "code",
   "execution_count": 20,
   "metadata": {},
   "outputs": [
    {
     "output_type": "stream",
     "name": "stdout",
     "text": [
      "anand is a string and 45 is an integer\n"
     ]
    }
   ],
   "source": [
    "print(\"{0} is a string and {1} is an integer\".format(name, age))"
   ]
  },
  {
   "cell_type": "code",
   "execution_count": 21,
   "metadata": {},
   "outputs": [
    {
     "output_type": "stream",
     "name": "stdout",
     "text": [
      "anand is a string and 45 is an integer\n"
     ]
    }
   ],
   "source": [
    "print(\"{1} is a string and {0} is an integer\".format(age, name))"
   ]
  },
  {
   "cell_type": "code",
   "execution_count": 22,
   "metadata": {},
   "outputs": [
    {
     "output_type": "stream",
     "name": "stdout",
     "text": [
      "anand is a string and 45 is an integer\n"
     ]
    }
   ],
   "source": [
    "print(\"%s is a string and %d is an integer\"%(name, age))"
   ]
  },
  {
   "source": [
    "### using f-strings"
   ],
   "cell_type": "markdown",
   "metadata": {}
  },
  {
   "cell_type": "code",
   "execution_count": 23,
   "metadata": {},
   "outputs": [
    {
     "output_type": "stream",
     "name": "stdout",
     "text": [
      "anand is a string and 45 is an integer\n"
     ]
    }
   ],
   "source": [
    "print(f\"{name} is a string and {age} is an integer\")"
   ]
  },
  {
   "cell_type": "code",
   "execution_count": 24,
   "metadata": {},
   "outputs": [
    {
     "output_type": "stream",
     "name": "stdout",
     "text": [
      "name='anand' is a string and age=45 is an integer\n"
     ]
    }
   ],
   "source": [
    "print(f\"{name=} is a string and {age=} is an integer\")"
   ]
  }
 ]
}