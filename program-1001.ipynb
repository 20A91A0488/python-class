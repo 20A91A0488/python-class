{
 "metadata": {
  "language_info": {
   "codemirror_mode": {
    "name": "ipython",
    "version": 3
   },
   "file_extension": ".py",
   "mimetype": "text/x-python",
   "name": "python",
   "nbconvert_exporter": "python",
   "pygments_lexer": "ipython3",
   "version": "3.9.5"
  },
  "orig_nbformat": 2,
  "kernelspec": {
   "name": "python395jvsc74a57bd0ac59ebe37160ed0dfa835113d9b8498d9f09ceb179beaac4002f036b9467c963",
   "display_name": "Python 3.9.5 64-bit"
  },
  "metadata": {
   "interpreter": {
    "hash": "ac59ebe37160ed0dfa835113d9b8498d9f09ceb179beaac4002f036b9467c963"
   }
  }
 },
 "nbformat": 4,
 "nbformat_minor": 2,
 "cells": [
  {
   "source": [
    "### Demonstrating python commnets"
   ],
   "cell_type": "markdown",
   "metadata": {}
  },
  {
   "cell_type": "code",
   "execution_count": 1,
   "metadata": {},
   "outputs": [
    {
     "output_type": "stream",
     "name": "stdout",
     "text": [
      "single-line comment\n"
     ]
    }
   ],
   "source": [
    "# single line comment\n",
    "print('single-line comment')"
   ]
  },
  {
   "cell_type": "code",
   "execution_count": 2,
   "metadata": {},
   "outputs": [
    {
     "output_type": "stream",
     "name": "stdout",
     "text": [
      "string literal enclosed with either single or double quotes not assigned to any variable also act as single-line comment (not preferred) \n"
     ]
    }
   ],
   "source": [
    "'single line comment'\n",
    "print('string literal enclosed with either single or double quotes not assigned to any variable also act as single-line comment (not preferred) ')"
   ]
  },
  {
   "cell_type": "code",
   "execution_count": 3,
   "metadata": {},
   "outputs": [
    {
     "output_type": "stream",
     "name": "stdout",
     "text": [
      "Multi-line comment\n"
     ]
    }
   ],
   "source": [
    "# First comment line\n",
    "# second comment line\n",
    "# and so on...\n",
    "print('Multi-line comment')"
   ]
  },
  {
   "cell_type": "code",
   "execution_count": 4,
   "metadata": {},
   "outputs": [
    {
     "output_type": "stream",
     "name": "stdout",
     "text": [
      "docstring used as a multi-line comment (not preferred)\n"
     ]
    }
   ],
   "source": [
    "'''\n",
    "First line\n",
    "second line\n",
    "and so on...\n",
    "'''\n",
    "print('docstring used as a multi-line comment (not preferred)')"
   ]
  },
  {
   "cell_type": "code",
   "execution_count": 5,
   "metadata": {},
   "outputs": [
    {
     "output_type": "stream",
     "name": "stdout",
     "text": [
      "inline comment\n"
     ]
    }
   ],
   "source": [
    "print('inline comment') # inline comment"
   ]
  }
 ]
}