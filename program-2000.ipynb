{
 "metadata": {
  "language_info": {
   "codemirror_mode": {
    "name": "ipython",
    "version": 3
   },
   "file_extension": ".py",
   "mimetype": "text/x-python",
   "name": "python",
   "nbconvert_exporter": "python",
   "pygments_lexer": "ipython3",
   "version": "3.9.5"
  },
  "orig_nbformat": 2,
  "kernelspec": {
   "name": "python395jvsc74a57bd0ac59ebe37160ed0dfa835113d9b8498d9f09ceb179beaac4002f036b9467c963",
   "display_name": "Python 3.9.5 64-bit"
  },
  "metadata": {
   "interpreter": {
    "hash": "ac59ebe37160ed0dfa835113d9b8498d9f09ceb179beaac4002f036b9467c963"
   }
  }
 },
 "nbformat": 4,
 "nbformat_minor": 2,
 "cells": [
  {
   "source": [
    "### Demonstration of Decision/Selection/branching/conditional statements"
   ],
   "cell_type": "markdown",
   "metadata": {}
  },
  {
   "cell_type": "code",
   "execution_count": 1,
   "metadata": {},
   "outputs": [
    {
     "output_type": "stream",
     "name": "stdout",
     "text": [
      "5 is smaller than 10\nThis statement will always be executed\n"
     ]
    }
   ],
   "source": [
    "num = 5\n",
    "if num < 10 :\n",
    "    print(f'{num} is smaller than 10')\n",
    "print('This statement will always be executed')"
   ]
  },
  {
   "cell_type": "code",
   "execution_count": 2,
   "metadata": {},
   "outputs": [
    {
     "output_type": "stream",
     "name": "stdout",
     "text": [
      "This statement will always be executed\n"
     ]
    }
   ],
   "source": [
    "num = 15\n",
    "if num < 10 :\n",
    "    print(f'{num} is smaller than 10')\n",
    "print('This statement will always be executed')"
   ]
  },
  {
   "cell_type": "code",
   "execution_count": 3,
   "metadata": {},
   "outputs": [
    {
     "output_type": "stream",
     "name": "stdout",
     "text": [
      "TRUE\n"
     ]
    }
   ],
   "source": [
    "num = 10\n",
    "if num :\n",
    "    print('TRUE')"
   ]
  },
  {
   "cell_type": "code",
   "execution_count": 4,
   "metadata": {},
   "outputs": [],
   "source": [
    "num = 0\n",
    "if num :\n",
    "    print('TRUE')"
   ]
  },
  {
   "cell_type": "code",
   "execution_count": 5,
   "metadata": {},
   "outputs": [
    {
     "output_type": "stream",
     "name": "stdout",
     "text": [
      "FOUND\n"
     ]
    }
   ],
   "source": [
    "if 'na' in 'anand':\n",
    "    print('FOUND')\n",
    "else:\n",
    "    print('NOT FOUND')"
   ]
  },
  {
   "cell_type": "code",
   "execution_count": 6,
   "metadata": {},
   "outputs": [
    {
     "output_type": "stream",
     "name": "stdout",
     "text": [
      "NOT FOUND\n"
     ]
    }
   ],
   "source": [
    "if 'ad' in 'anand':\n",
    "    print('FOUND')\n",
    "else:\n",
    "    print('NOT FOUND')"
   ]
  },
  {
   "cell_type": "code",
   "execution_count": 7,
   "metadata": {},
   "outputs": [
    {
     "output_type": "stream",
     "name": "stdout",
     "text": [
      "NOT FOUND\n"
     ]
    }
   ],
   "source": [
    "if 'ad' not in 'anand':\n",
    "    print('NOT FOUND')\n",
    "else:\n",
    "    print('FOUND')"
   ]
  },
  {
   "cell_type": "code",
   "execution_count": 8,
   "metadata": {},
   "outputs": [
    {
     "output_type": "stream",
     "name": "stdout",
     "text": [
      "Number is Zero\n"
     ]
    }
   ],
   "source": [
    "def test(num):\n",
    "    if (num > 0):\n",
    "        print('Number is positive')\n",
    "    elif (num < 0):\n",
    "        print('Number is negative')\n",
    "    else:\n",
    "        print('Number is Zero')\n",
    "test(0)"
   ]
  },
  {
   "cell_type": "code",
   "execution_count": 9,
   "metadata": {},
   "outputs": [
    {
     "output_type": "stream",
     "name": "stdout",
     "text": [
      "Number is positive\n"
     ]
    }
   ],
   "source": [
    "test(10)"
   ]
  },
  {
   "cell_type": "code",
   "execution_count": 10,
   "metadata": {},
   "outputs": [
    {
     "output_type": "stream",
     "name": "stdout",
     "text": [
      "Number is negative\n"
     ]
    }
   ],
   "source": [
    "test(-10)"
   ]
  },
  {
   "cell_type": "code",
   "execution_count": 11,
   "metadata": {},
   "outputs": [
    {
     "output_type": "stream",
     "name": "stdout",
     "text": [
      "you entered a string\n"
     ]
    }
   ],
   "source": [
    "def test(value):\n",
    "    if isinstance(value, bool):\n",
    "        print('you entered a Boolean value')\n",
    "    elif isinstance(value, int):\n",
    "        print('you entered an integer number')\n",
    "    elif isinstance(value, float):\n",
    "        print('you entered a real number')\n",
    "    elif isinstance(value, complex):\n",
    "        print('you entered a complex number')\n",
    "    elif isinstance(value, bool):\n",
    "        print('you entered a Boolean value')\n",
    "    elif isinstance(value, str):\n",
    "        print('you entered a string')\n",
    "    else:\n",
    "        print('Unknown basic data type')\n",
    "test('anand')"
   ]
  },
  {
   "cell_type": "code",
   "execution_count": 12,
   "metadata": {},
   "outputs": [
    {
     "output_type": "stream",
     "name": "stdout",
     "text": [
      "you entered a Boolean value\n"
     ]
    }
   ],
   "source": [
    "test(True)"
   ]
  },
  {
   "cell_type": "code",
   "execution_count": 13,
   "metadata": {},
   "outputs": [
    {
     "output_type": "stream",
     "name": "stdout",
     "text": [
      "you entered an integer number\n"
     ]
    }
   ],
   "source": [
    "test(10)"
   ]
  },
  {
   "cell_type": "code",
   "execution_count": 14,
   "metadata": {},
   "outputs": [
    {
     "output_type": "stream",
     "name": "stdout",
     "text": [
      "you entered a real number\n"
     ]
    }
   ],
   "source": [
    "test(10.58)"
   ]
  },
  {
   "cell_type": "code",
   "execution_count": 15,
   "metadata": {},
   "outputs": [
    {
     "output_type": "stream",
     "name": "stdout",
     "text": [
      "you entered a complex number\n"
     ]
    }
   ],
   "source": [
    "test(3+2j)"
   ]
  },
  {
   "cell_type": "code",
   "execution_count": 16,
   "metadata": {},
   "outputs": [
    {
     "output_type": "stream",
     "name": "stdout",
     "text": [
      "Number is greater than Zero\n"
     ]
    }
   ],
   "source": [
    "num = 7\n",
    "if (num > 0): print('Number is greater than Zero') # one-line if statement"
   ]
  },
  {
   "cell_type": "code",
   "execution_count": 17,
   "metadata": {},
   "outputs": [
    {
     "output_type": "error",
     "ename": "SyntaxError",
     "evalue": "invalid syntax (<ipython-input-17-6e2bfb3a4c7b>, line 2)",
     "traceback": [
      "\u001b[1;36m  File \u001b[1;32m\"<ipython-input-17-6e2bfb3a4c7b>\"\u001b[1;36m, line \u001b[1;32m2\u001b[0m\n\u001b[1;33m    if num % 2 == 1 : print('even') else: print('odd')\u001b[0m\n\u001b[1;37m                                    ^\u001b[0m\n\u001b[1;31mSyntaxError\u001b[0m\u001b[1;31m:\u001b[0m invalid syntax\n"
     ]
    }
   ],
   "source": [
    "num = 7\n",
    "if num % 2 == 1 : print('even') else: print('odd')"
   ]
  },
  {
   "cell_type": "code",
   "execution_count": 18,
   "metadata": {},
   "outputs": [
    {
     "output_type": "stream",
     "name": "stdout",
     "text": [
      "even\n"
     ]
    }
   ],
   "source": [
    "num = 7\n",
    "if num % 2 == 1 : print('even')\n",
    "else: print('odd')"
   ]
  },
  {
   "cell_type": "code",
   "execution_count": 19,
   "metadata": {},
   "outputs": [
    {
     "output_type": "stream",
     "name": "stdout",
     "text": [
      "odd\n"
     ]
    }
   ],
   "source": [
    "print('odd') if num % 2 == 1 else print('even') # better way and one-liner if..else statement"
   ]
  },
  {
   "cell_type": "code",
   "execution_count": 20,
   "metadata": {},
   "outputs": [
    {
     "output_type": "stream",
     "name": "stdout",
     "text": [
      "odd\n"
     ]
    }
   ],
   "source": [
    "print('odd') if num % 2 else print('even')"
   ]
  },
  {
   "cell_type": "code",
   "execution_count": 21,
   "metadata": {},
   "outputs": [
    {
     "output_type": "stream",
     "name": "stdout",
     "text": [
      "value is same and referring to same memory\n"
     ]
    }
   ],
   "source": [
    "a = 10\n",
    "b = 10\n",
    "print('value is same and referring to same memory') if a == b and a is b else None  # bollean expression using logical operations"
   ]
  },
  {
   "source": [
    "### Nested selection statements"
   ],
   "cell_type": "markdown",
   "metadata": {}
  },
  {
   "cell_type": "code",
   "execution_count": 22,
   "metadata": {},
   "outputs": [
    {
     "output_type": "stream",
     "name": "stdout",
     "text": [
      "kid\n"
     ]
    }
   ],
   "source": [
    "def test(age):\n",
    "    print('kid' if age < 13 else 'teenager' if age < 18 else 'adult') # evaluated from left to right, onle-liner if...elif...else\n",
    "test(10)"
   ]
  },
  {
   "cell_type": "code",
   "execution_count": 23,
   "metadata": {},
   "outputs": [
    {
     "output_type": "stream",
     "name": "stdout",
     "text": [
      "teenager\n"
     ]
    }
   ],
   "source": [
    "test(15)"
   ]
  },
  {
   "cell_type": "code",
   "execution_count": 24,
   "metadata": {},
   "outputs": [
    {
     "output_type": "stream",
     "name": "stdout",
     "text": [
      "adult\n"
     ]
    }
   ],
   "source": [
    "test(20)"
   ]
  },
  {
   "cell_type": "code",
   "execution_count": 25,
   "metadata": {},
   "outputs": [
    {
     "output_type": "stream",
     "name": "stdout",
     "text": [
      "kid\n"
     ]
    }
   ],
   "source": [
    "def test(age):\n",
    "    if age < 13 :\n",
    "        print('kid')\n",
    "    else:\n",
    "        if age < 18 :\n",
    "            print('teenager')\n",
    "        else:\n",
    "            print('adult')      # one can convert this into if...elif...else\n",
    "test(10)"
   ]
  },
  {
   "cell_type": "code",
   "execution_count": 26,
   "metadata": {},
   "outputs": [
    {
     "output_type": "stream",
     "name": "stdout",
     "text": [
      "teenager\n"
     ]
    }
   ],
   "source": [
    "test(15)"
   ]
  },
  {
   "cell_type": "code",
   "execution_count": 27,
   "metadata": {},
   "outputs": [
    {
     "output_type": "stream",
     "name": "stdout",
     "text": [
      "adult\n"
     ]
    }
   ],
   "source": [
    "test(20)"
   ]
  },
  {
   "cell_type": "code",
   "execution_count": 28,
   "metadata": {},
   "outputs": [
    {
     "output_type": "stream",
     "name": "stdout",
     "text": [
      "kid\n"
     ]
    }
   ],
   "source": [
    "def test(age):\n",
    "    if age < 13 :\n",
    "        print('kid')\n",
    "    elif age < 18 :\n",
    "        print('teenager')\n",
    "    else:\n",
    "        print('adult')\n",
    "test(10)"
   ]
  },
  {
   "cell_type": "code",
   "execution_count": 29,
   "metadata": {},
   "outputs": [
    {
     "output_type": "stream",
     "name": "stdout",
     "text": [
      "teenager\n"
     ]
    }
   ],
   "source": [
    "test(15)"
   ]
  },
  {
   "cell_type": "code",
   "execution_count": 30,
   "metadata": {},
   "outputs": [
    {
     "output_type": "stream",
     "name": "stdout",
     "text": [
      "adult\n"
     ]
    }
   ],
   "source": [
    "test(20)"
   ]
  },
  {
   "source": [
    "### Demonstration of repetetion structures\n",
    "#### while loop"
   ],
   "cell_type": "markdown",
   "metadata": {}
  },
  {
   "cell_type": "code",
   "execution_count": 31,
   "metadata": {
    "tags": []
   },
   "outputs": [
    {
     "output_type": "stream",
     "name": "stdout",
     "text": [
      "Hello\nHello\nHello\n"
     ]
    }
   ],
   "source": [
    "# prints the given message specified number of times\n",
    "def printmessage(message, times):\n",
    "    num = 1 # intialization of loop control variable\n",
    "    while num <= times: # termination condition\n",
    "        print(message)\n",
    "        num += 1 # updating loop variable in the direction of termination condition\n",
    "\n",
    "printmessage('Hello', 3)"
   ]
  },
  {
   "cell_type": "code",
   "execution_count": 32,
   "metadata": {},
   "outputs": [
    {
     "output_type": "stream",
     "name": "stdout",
     "text": [
      "Hai\nHai\nHai\nHai\nHai\n"
     ]
    }
   ],
   "source": [
    "printmessage('Hai', 5)"
   ]
  },
  {
   "cell_type": "code",
   "execution_count": 33,
   "metadata": {},
   "outputs": [
    {
     "output_type": "execute_result",
     "data": {
      "text/plain": [
       "120"
      ]
     },
     "metadata": {},
     "execution_count": 33
    }
   ],
   "source": [
    "# Factorial of a given positive number\n",
    "def factorial(num):\n",
    "    fact = 1\n",
    "    while num > 1: fact *= num; num -= 1 # one-line while statement\n",
    "    return fact\n",
    "factorial(5)"
   ]
  },
  {
   "cell_type": "code",
   "execution_count": 34,
   "metadata": {},
   "outputs": [
    {
     "output_type": "execute_result",
     "data": {
      "text/plain": [
       "1"
      ]
     },
     "metadata": {},
     "execution_count": 34
    }
   ],
   "source": [
    "factorial(0)"
   ]
  },
  {
   "cell_type": "code",
   "execution_count": 35,
   "metadata": {},
   "outputs": [
    {
     "output_type": "execute_result",
     "data": {
      "text/plain": [
       "1"
      ]
     },
     "metadata": {},
     "execution_count": 35
    }
   ],
   "source": [
    "factorial(1)"
   ]
  },
  {
   "cell_type": "code",
   "execution_count": 36,
   "metadata": {},
   "outputs": [
    {
     "output_type": "stream",
     "name": "stdout",
     "text": [
      "0 "
     ]
    }
   ],
   "source": [
    "# Fibonacci series upto nth number\n",
    "def fibseries(num):\n",
    "    fib1 = 0\n",
    "    if num >= 1:\n",
    "        print(fib1, end= ' ')\n",
    "    \n",
    "    fib2 = 1\n",
    "    if num >= 2:\n",
    "        print(fib2, end= ' ')\n",
    "    \n",
    "    while num > 2:\n",
    "        fib1, fib2 = fib2, fib1 + fib2\n",
    "        print(fib2, end= ' ')\n",
    "        num -= 1\n",
    "\n",
    "fibseries(1)"
   ]
  },
  {
   "cell_type": "code",
   "execution_count": 37,
   "metadata": {},
   "outputs": [
    {
     "output_type": "stream",
     "name": "stdout",
     "text": [
      "0 1 "
     ]
    }
   ],
   "source": [
    "fibseries(2)"
   ]
  },
  {
   "cell_type": "code",
   "execution_count": 38,
   "metadata": {},
   "outputs": [
    {
     "output_type": "stream",
     "name": "stdout",
     "text": [
      "0 1 1 2 3 5 8 13 "
     ]
    }
   ],
   "source": [
    "fibseries(8)"
   ]
  },
  {
   "source": [
    "#### for loop (requires iterables)"
   ],
   "cell_type": "markdown",
   "metadata": {}
  },
  {
   "cell_type": "code",
   "execution_count": 39,
   "metadata": {},
   "outputs": [
    {
     "output_type": "execute_result",
     "data": {
      "text/plain": [
       "range(1, 10, 3)"
      ]
     },
     "metadata": {},
     "execution_count": 39
    }
   ],
   "source": [
    "range(1, 10, 3)"
   ]
  },
  {
   "cell_type": "code",
   "execution_count": 40,
   "metadata": {},
   "outputs": [
    {
     "output_type": "execute_result",
     "data": {
      "text/plain": [
       "[1, 4, 7]"
      ]
     },
     "metadata": {},
     "execution_count": 40
    }
   ],
   "source": [
    "list(range(1, 10, 3)) # sequence generator iterable"
   ]
  },
  {
   "cell_type": "code",
   "execution_count": 41,
   "metadata": {},
   "outputs": [
    {
     "output_type": "stream",
     "name": "stdout",
     "text": [
      "1 4 7 "
     ]
    }
   ],
   "source": [
    "for n in range(1, 10, 3):\n",
    "    print(n, end=' ')"
   ]
  },
  {
   "cell_type": "code",
   "execution_count": 42,
   "metadata": {},
   "outputs": [
    {
     "output_type": "stream",
     "name": "stdout",
     "text": [
      "a n a n d "
     ]
    }
   ],
   "source": [
    "for ch in 'anand':\n",
    "    print(ch, end=' ')"
   ]
  },
  {
   "cell_type": "code",
   "execution_count": 43,
   "metadata": {},
   "outputs": [
    {
     "output_type": "stream",
     "name": "stdout",
     "text": [
      "Hello(5)\n",
      "welcome(7)\n",
      "to(2)\n",
      "Software(8)\n",
      "Testing(7)\n",
      "Help(4)\n",
      "In(2)\n",
      "this(4)\n",
      "article:(8)\n",
      "Loops(5)\n",
      "in(2)\n",
      "Python(6)\n",
      "you’ll(6)\n",
      "learn(5)\n",
      "about(5)\n",
      "loops(5)\n",
      "with(4)\n",
      "practical(9)\n",
      "examples(8)\n",
      "Great(5)\n",
      "right(5)\n",
      "Make(4)\n",
      "sure(4)\n",
      "to(2)\n",
      "follow(6)\n",
      "along(5)\n",
      "as(2)\n",
      "we(2)\n",
      "learn(5)\n",
      "together(8)\n"
     ]
    }
   ],
   "source": [
    "# separate words in the text and print the text along with its length\n",
    "text = '''\n",
    "Hello, welcome to Software Testing Help. In this article:\"Loops in Python\", you’ll learn about loops with practical examples. Great right? Make sure to follow along as we learn together.\n",
    "'''\n",
    "for punc in '.,\\n?!\"': # remove punctuation marks with space\n",
    "    text = text.replace(punc, ' ')\n",
    "for word in text.split():\n",
    "    print(f'{word}({len(word)})')"
   ]
  },
  {
   "cell_type": "code",
   "execution_count": 44,
   "metadata": {},
   "outputs": [
    {
     "output_type": "execute_result",
     "data": {
      "text/plain": [
       "True"
      ]
     },
     "metadata": {},
     "execution_count": 44
    }
   ],
   "source": [
    "# prime number checking\n",
    "from math import sqrt\n",
    "def isprime(num):\n",
    "    k = int(sqrt(num))\n",
    "    for d in range(2, k + 1):\n",
    "        if num % d == 0:\n",
    "            return False\n",
    "    return True\n",
    "\n",
    "isprime(2)"
   ]
  },
  {
   "cell_type": "code",
   "execution_count": 45,
   "metadata": {},
   "outputs": [
    {
     "output_type": "execute_result",
     "data": {
      "text/plain": [
       "False"
      ]
     },
     "metadata": {},
     "execution_count": 45
    }
   ],
   "source": [
    "isprime(27)"
   ]
  },
  {
   "cell_type": "code",
   "execution_count": 46,
   "metadata": {},
   "outputs": [
    {
     "output_type": "execute_result",
     "data": {
      "text/plain": [
       "True"
      ]
     },
     "metadata": {},
     "execution_count": 46
    }
   ],
   "source": [
    "isprime(47)"
   ]
  },
  {
   "source": [
    "### loops with break and continue"
   ],
   "cell_type": "markdown",
   "metadata": {}
  },
  {
   "cell_type": "code",
   "execution_count": 47,
   "metadata": {},
   "outputs": [
    {
     "output_type": "stream",
     "name": "stdout",
     "text": [
      "6 3 0 3 2 2 7 8 7 1 3 0 8 2 0 6 0 8 0 7 7 5 "
     ]
    }
   ],
   "source": [
    "from random import randint\n",
    "while True:\n",
    "    digit = randint(0, 9)\n",
    "    if digit == 4 or digit == 9:\n",
    "        continue\n",
    "    print(digit, end=' ')\n",
    "    if digit == 5:\n",
    "        break"
   ]
  },
  {
   "cell_type": "code",
   "execution_count": 48,
   "metadata": {},
   "outputs": [
    {
     "output_type": "stream",
     "name": "stdout",
     "text": [
      "[5, 1, 8, 6, 9, 4, 0, 2, 7, 3]\n5 "
     ]
    }
   ],
   "source": [
    "from random import shuffle\n",
    "digits = list(range(0, 10))\n",
    "shuffle(digits)\n",
    "print(digits)\n",
    "for digit in digits:\n",
    "    if digit == 4 or digit == 9:\n",
    "        continue\n",
    "    print(digit, end=' ')\n",
    "    if digit == 5:\n",
    "        break"
   ]
  },
  {
   "source": [
    "### Nested loops and break with else"
   ],
   "cell_type": "markdown",
   "metadata": {}
  },
  {
   "cell_type": "code",
   "execution_count": 49,
   "metadata": {},
   "outputs": [
    {
     "output_type": "stream",
     "name": "stdout",
     "text": [
      "2 ia a prime number\n3 ia a prime number\n4 equals 2 * 2\n5 ia a prime number\n6 equals 2 * 3\n7 ia a prime number\n8 equals 2 * 4\n9 equals 3 * 3\n"
     ]
    }
   ],
   "source": [
    "for num in range(2, 10):\n",
    "    k = 2\n",
    "    while k < num:\n",
    "        if num % k == 0:\n",
    "            print(f'{num} equals {k} * {num//k}')\n",
    "            break\n",
    "        k += 1\n",
    "    else:\n",
    "        print(f'{num} ia a prime number')"
   ]
  },
  {
   "source": [
    "### Infinite loop and break"
   ],
   "cell_type": "markdown",
   "metadata": {}
  },
  {
   "cell_type": "code",
   "execution_count": 50,
   "metadata": {},
   "outputs": [
    {
     "output_type": "stream",
     "name": "stdout",
     "text": [
      "9\n3 25 19 15 24 11 20 1 16 2 4 10 2 17 3 23 16 7 10 21 17 3 23 7 14 23 20 4 14 3 12 5 19 22 13 6 14 13 21 "
     ]
    }
   ],
   "source": [
    "num = randint(1, 25)\n",
    "print(num)\n",
    "while True:\n",
    "    guess = randint(1, 25)\n",
    "    if guess == num:\n",
    "        break\n",
    "    print(guess, end=' ')"
   ]
  },
  {
   "source": [
    "### one line loop statement"
   ],
   "cell_type": "markdown",
   "metadata": {}
  },
  {
   "cell_type": "code",
   "execution_count": 51,
   "metadata": {},
   "outputs": [
    {
     "output_type": "stream",
     "name": "stdout",
     "text": [
      "0 1 2 3 4 5 6 7 8 9 "
     ]
    }
   ],
   "source": [
    "for x in range(10) : print(x, end=' ')"
   ]
  },
  {
   "cell_type": "code",
   "execution_count": 52,
   "metadata": {},
   "outputs": [
    {
     "output_type": "stream",
     "name": "stdout",
     "text": [
      "0 2 4 6 8 "
     ]
    }
   ],
   "source": [
    "for x in range(10) : print(x, end=' ') if x % 2 == 0 else None"
   ]
  },
  {
   "cell_type": "code",
   "execution_count": 53,
   "metadata": {
    "tags": []
   },
   "outputs": [
    {
     "output_type": "stream",
     "name": "stdout",
     "text": [
      "3 5 12 "
     ]
    }
   ],
   "source": [
    "num = 0\n",
    "while num <= 10: num += randint(0, 9); print(num, end=' ')"
   ]
  },
  {
   "cell_type": "code",
   "execution_count": null,
   "metadata": {},
   "outputs": [],
   "source": []
  }
 ]
}