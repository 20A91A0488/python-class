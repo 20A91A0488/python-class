{
 "metadata": {
  "language_info": {
   "codemirror_mode": {
    "name": "ipython",
    "version": 3
   },
   "file_extension": ".py",
   "mimetype": "text/x-python",
   "name": "python",
   "nbconvert_exporter": "python",
   "pygments_lexer": "ipython3",
   "version": "3.9.5"
  },
  "orig_nbformat": 2,
  "kernelspec": {
   "name": "python3",
   "display_name": "Python 3.9.5 64-bit"
  },
  "metadata": {
   "interpreter": {
    "hash": "ac59ebe37160ed0dfa835113d9b8498d9f09ceb179beaac4002f036b9467c963"
   }
  },
  "interpreter": {
   "hash": "ac59ebe37160ed0dfa835113d9b8498d9f09ceb179beaac4002f036b9467c963"
  }
 },
 "nbformat": 4,
 "nbformat_minor": 2,
 "cells": [
  {
   "source": [
    "### Demonstration of Decision/Selection/branching/conditional statements"
   ],
   "cell_type": "markdown",
   "metadata": {}
  },
  {
   "cell_type": "code",
   "execution_count": 1,
   "metadata": {},
   "outputs": [
    {
     "output_type": "stream",
     "name": "stdout",
     "text": [
      "5 is smaller than 10\nThis statement will always be executed\n"
     ]
    }
   ],
   "source": [
    "num = 5\n",
    "if num < 10 :\n",
    "    print(f'{num} is smaller than 10')\n",
    "print('This statement will always be executed')"
   ]
  },
  {
   "cell_type": "code",
   "execution_count": 2,
   "metadata": {},
   "outputs": [
    {
     "output_type": "stream",
     "name": "stdout",
     "text": [
      "This statement will always be executed\n"
     ]
    }
   ],
   "source": [
    "num = 15\n",
    "if num < 10 :\n",
    "    print(f'{num} is smaller than 10')\n",
    "print('This statement will always be executed')"
   ]
  },
  {
   "cell_type": "code",
   "execution_count": 3,
   "metadata": {},
   "outputs": [
    {
     "output_type": "stream",
     "name": "stdout",
     "text": [
      "TRUE\n"
     ]
    }
   ],
   "source": [
    "num = 10\n",
    "if num :\n",
    "    print('TRUE')"
   ]
  },
  {
   "cell_type": "code",
   "execution_count": 4,
   "metadata": {},
   "outputs": [],
   "source": [
    "num = 0\n",
    "if num :\n",
    "    print('TRUE')"
   ]
  },
  {
   "cell_type": "code",
   "execution_count": 5,
   "metadata": {},
   "outputs": [
    {
     "output_type": "stream",
     "name": "stdout",
     "text": [
      "FOUND\n"
     ]
    }
   ],
   "source": [
    "if 'na' in 'anand':\n",
    "    print('FOUND')\n",
    "else:\n",
    "    print('NOT FOUND')"
   ]
  },
  {
   "cell_type": "code",
   "execution_count": 6,
   "metadata": {},
   "outputs": [
    {
     "output_type": "stream",
     "name": "stdout",
     "text": [
      "NOT FOUND\n"
     ]
    }
   ],
   "source": [
    "if 'ad' in 'anand':\n",
    "    print('FOUND')\n",
    "else:\n",
    "    print('NOT FOUND')"
   ]
  },
  {
   "cell_type": "code",
   "execution_count": 7,
   "metadata": {},
   "outputs": [
    {
     "output_type": "stream",
     "name": "stdout",
     "text": [
      "NOT FOUND\n"
     ]
    }
   ],
   "source": [
    "if 'ad' not in 'anand':\n",
    "    print('NOT FOUND')\n",
    "else:\n",
    "    print('FOUND')"
   ]
  },
  {
   "cell_type": "code",
   "execution_count": 8,
   "metadata": {},
   "outputs": [
    {
     "output_type": "stream",
     "name": "stdout",
     "text": [
      "Number is Zero\n"
     ]
    }
   ],
   "source": [
    "def test(num):\n",
    "    if (num > 0):\n",
    "        print('Number is positive')\n",
    "    elif (num < 0):\n",
    "        print('Number is negative')\n",
    "    else:\n",
    "        print('Number is Zero')\n",
    "test(0)"
   ]
  },
  {
   "cell_type": "code",
   "execution_count": 9,
   "metadata": {},
   "outputs": [
    {
     "output_type": "stream",
     "name": "stdout",
     "text": [
      "Number is positive\n"
     ]
    }
   ],
   "source": [
    "test(10)"
   ]
  },
  {
   "cell_type": "code",
   "execution_count": 10,
   "metadata": {},
   "outputs": [
    {
     "output_type": "stream",
     "name": "stdout",
     "text": [
      "Number is negative\n"
     ]
    }
   ],
   "source": [
    "test(-10)"
   ]
  },
  {
   "cell_type": "code",
   "execution_count": 11,
   "metadata": {},
   "outputs": [
    {
     "output_type": "stream",
     "name": "stdout",
     "text": [
      "you entered a string\n"
     ]
    }
   ],
   "source": [
    "def test(value):\n",
    "    if isinstance(value, bool):\n",
    "        print('you entered a Boolean value')\n",
    "    elif isinstance(value, int):\n",
    "        print('you entered an integer number')\n",
    "    elif isinstance(value, float):\n",
    "        print('you entered a real number')\n",
    "    elif isinstance(value, complex):\n",
    "        print('you entered a complex number')\n",
    "    elif isinstance(value, str):\n",
    "        print('you entered a string')\n",
    "    else:\n",
    "        print('Unknown basic data type')\n",
    "test('anand')"
   ]
  },
  {
   "cell_type": "code",
   "execution_count": 12,
   "metadata": {},
   "outputs": [
    {
     "output_type": "stream",
     "name": "stdout",
     "text": [
      "you entered a Boolean value\n"
     ]
    }
   ],
   "source": [
    "test(True)"
   ]
  },
  {
   "cell_type": "code",
   "execution_count": 13,
   "metadata": {},
   "outputs": [
    {
     "output_type": "stream",
     "name": "stdout",
     "text": [
      "you entered an integer number\n"
     ]
    }
   ],
   "source": [
    "test(10)"
   ]
  },
  {
   "cell_type": "code",
   "execution_count": 14,
   "metadata": {},
   "outputs": [
    {
     "output_type": "stream",
     "name": "stdout",
     "text": [
      "you entered a real number\n"
     ]
    }
   ],
   "source": [
    "test(10.58)"
   ]
  },
  {
   "cell_type": "code",
   "execution_count": 15,
   "metadata": {},
   "outputs": [
    {
     "output_type": "stream",
     "name": "stdout",
     "text": [
      "you entered a complex number\n"
     ]
    }
   ],
   "source": [
    "test(3+2j)"
   ]
  },
  {
   "cell_type": "code",
   "execution_count": 16,
   "metadata": {},
   "outputs": [
    {
     "output_type": "stream",
     "name": "stdout",
     "text": [
      "Unknown basic data type\n"
     ]
    }
   ],
   "source": [
    "test([])"
   ]
  },
  {
   "cell_type": "code",
   "execution_count": 17,
   "metadata": {},
   "outputs": [
    {
     "output_type": "stream",
     "name": "stdout",
     "text": [
      "Number is greater than Zero\n"
     ]
    }
   ],
   "source": [
    "num = 7\n",
    "if num > 0: print('Number is greater than Zero') # one-line if statement"
   ]
  },
  {
   "cell_type": "code",
   "execution_count": 18,
   "metadata": {},
   "outputs": [
    {
     "output_type": "stream",
     "name": "stdout",
     "text": [
      "7\nTest\n"
     ]
    }
   ],
   "source": [
    "if num > 0: print(num); print('Test')"
   ]
  },
  {
   "cell_type": "code",
   "execution_count": 19,
   "metadata": {},
   "outputs": [
    {
     "output_type": "error",
     "ename": "SyntaxError",
     "evalue": "invalid syntax (<ipython-input-19-6e2bfb3a4c7b>, line 2)",
     "traceback": [
      "\u001b[1;36m  File \u001b[1;32m\"<ipython-input-19-6e2bfb3a4c7b>\"\u001b[1;36m, line \u001b[1;32m2\u001b[0m\n\u001b[1;33m    if num % 2 == 1 : print('even') else: print('odd')\u001b[0m\n\u001b[1;37m                                    ^\u001b[0m\n\u001b[1;31mSyntaxError\u001b[0m\u001b[1;31m:\u001b[0m invalid syntax\n"
     ]
    }
   ],
   "source": [
    "num = 7\n",
    "if num % 2 == 1 : print('even') else: print('odd')"
   ]
  },
  {
   "cell_type": "code",
   "execution_count": 20,
   "metadata": {},
   "outputs": [
    {
     "output_type": "stream",
     "name": "stdout",
     "text": [
      "odd\n"
     ]
    }
   ],
   "source": [
    "num = 7\n",
    "if num % 2 == 1 : print('odd')\n",
    "else: print('even')"
   ]
  },
  {
   "cell_type": "code",
   "execution_count": 21,
   "metadata": {},
   "outputs": [
    {
     "output_type": "stream",
     "name": "stdout",
     "text": [
      "odd\n"
     ]
    }
   ],
   "source": [
    "print('odd') if num % 2 == 1 else print('even') # better way and one-liner if..else statement"
   ]
  },
  {
   "cell_type": "code",
   "execution_count": 22,
   "metadata": {},
   "outputs": [
    {
     "output_type": "stream",
     "name": "stdout",
     "text": [
      "odd\n"
     ]
    }
   ],
   "source": [
    "print('odd') if num % 2 else print('even')"
   ]
  },
  {
   "cell_type": "code",
   "execution_count": 23,
   "metadata": {},
   "outputs": [
    {
     "output_type": "stream",
     "name": "stdout",
     "text": [
      "value is same and referring to same memory\n"
     ]
    }
   ],
   "source": [
    "a = 10\n",
    "b = 10\n",
    "print('value is same and referring to same memory') if a == b and a is b else None  # bollean expression using logical operations"
   ]
  },
  {
   "cell_type": "code",
   "execution_count": 24,
   "metadata": {},
   "outputs": [
    {
     "output_type": "error",
     "ename": "SyntaxError",
     "evalue": "invalid syntax (<ipython-input-24-7f3b895ee55c>, line 1)",
     "traceback": [
      "\u001b[1;36m  File \u001b[1;32m\"<ipython-input-24-7f3b895ee55c>\"\u001b[1;36m, line \u001b[1;32m1\u001b[0m\n\u001b[1;33m    print('value is same and referring to same memory') if a == b and a is b\u001b[0m\n\u001b[1;37m                                                                            ^\u001b[0m\n\u001b[1;31mSyntaxError\u001b[0m\u001b[1;31m:\u001b[0m invalid syntax\n"
     ]
    }
   ],
   "source": [
    "print('value is same and referring to same memory') if a == b and a is b"
   ]
  },
  {
   "cell_type": "code",
   "execution_count": 25,
   "metadata": {},
   "outputs": [
    {
     "output_type": "stream",
     "name": "stdout",
     "text": [
      "value is same and referring to same memory\n"
     ]
    }
   ],
   "source": [
    "if a == b and a is b : print('value is same and referring to same memory')"
   ]
  },
  {
   "source": [
    "### Nested selection statements"
   ],
   "cell_type": "markdown",
   "metadata": {}
  },
  {
   "cell_type": "code",
   "execution_count": 26,
   "metadata": {},
   "outputs": [
    {
     "output_type": "stream",
     "name": "stdout",
     "text": [
      "kid\n"
     ]
    }
   ],
   "source": [
    "def test(age):\n",
    "    print('kid' if age < 13 else 'teenager' if age < 18 else 'adult') # evaluated from left to right, onle-liner if...elif...else\n",
    "test(10)"
   ]
  },
  {
   "cell_type": "code",
   "execution_count": 27,
   "metadata": {},
   "outputs": [
    {
     "output_type": "stream",
     "name": "stdout",
     "text": [
      "teenager\n"
     ]
    }
   ],
   "source": [
    "test(15)"
   ]
  },
  {
   "cell_type": "code",
   "execution_count": 28,
   "metadata": {},
   "outputs": [
    {
     "output_type": "stream",
     "name": "stdout",
     "text": [
      "adult\n"
     ]
    }
   ],
   "source": [
    "test(20)"
   ]
  },
  {
   "cell_type": "code",
   "execution_count": 29,
   "metadata": {},
   "outputs": [
    {
     "output_type": "stream",
     "name": "stdout",
     "text": [
      "kid\n"
     ]
    }
   ],
   "source": [
    "def test(age):\n",
    "    if age < 13 :\n",
    "        print('kid')\n",
    "    else:\n",
    "        if age < 18 :\n",
    "            print('teenager')\n",
    "        else:\n",
    "            print('adult')      # one can convert this into if...elif...else\n",
    "test(10)"
   ]
  },
  {
   "cell_type": "code",
   "execution_count": 30,
   "metadata": {},
   "outputs": [
    {
     "output_type": "stream",
     "name": "stdout",
     "text": [
      "teenager\n"
     ]
    }
   ],
   "source": [
    "test(15)"
   ]
  },
  {
   "cell_type": "code",
   "execution_count": 31,
   "metadata": {},
   "outputs": [
    {
     "output_type": "stream",
     "name": "stdout",
     "text": [
      "adult\n"
     ]
    }
   ],
   "source": [
    "test(20)"
   ]
  },
  {
   "cell_type": "code",
   "execution_count": 32,
   "metadata": {},
   "outputs": [
    {
     "output_type": "stream",
     "name": "stdout",
     "text": [
      "kid\n"
     ]
    }
   ],
   "source": [
    "def test(age):\n",
    "    if age < 13 :\n",
    "        print('kid')\n",
    "    elif age < 18 :\n",
    "        print('teenager')\n",
    "    else:\n",
    "        print('adult')\n",
    "test(10)"
   ]
  },
  {
   "cell_type": "code",
   "execution_count": 33,
   "metadata": {},
   "outputs": [
    {
     "output_type": "stream",
     "name": "stdout",
     "text": [
      "teenager\n"
     ]
    }
   ],
   "source": [
    "test(15)"
   ]
  },
  {
   "cell_type": "code",
   "execution_count": 34,
   "metadata": {},
   "outputs": [
    {
     "output_type": "stream",
     "name": "stdout",
     "text": [
      "adult\n"
     ]
    }
   ],
   "source": [
    "test(20)"
   ]
  },
  {
   "source": [
    "### Demonstration of repetetion structures\n",
    "#### while loop"
   ],
   "cell_type": "markdown",
   "metadata": {}
  },
  {
   "cell_type": "code",
   "execution_count": 35,
   "metadata": {
    "tags": []
   },
   "outputs": [
    {
     "output_type": "stream",
     "name": "stdout",
     "text": [
      "Hello\nHello\nHello\n"
     ]
    }
   ],
   "source": [
    "# prints the given message specified number of times\n",
    "def printmessage(message, times):\n",
    "    num = 1 # intialization of loop control variable\n",
    "    while num <= times: # termination condition\n",
    "        print(message)\n",
    "        num += 1 # updating loop variable in the direction of termination condition\n",
    "\n",
    "printmessage('Hello', 3)"
   ]
  },
  {
   "cell_type": "code",
   "execution_count": 36,
   "metadata": {},
   "outputs": [
    {
     "output_type": "stream",
     "name": "stdout",
     "text": [
      "Hai\nHai\nHai\nHai\nHai\n"
     ]
    }
   ],
   "source": [
    "printmessage('Hai', 5)"
   ]
  },
  {
   "cell_type": "code",
   "execution_count": 37,
   "metadata": {},
   "outputs": [
    {
     "output_type": "execute_result",
     "data": {
      "text/plain": [
       "120"
      ]
     },
     "metadata": {},
     "execution_count": 37
    }
   ],
   "source": [
    "# Factorial of a given positive number\n",
    "def factorial(num):\n",
    "    fact = 1\n",
    "    while num > 1: fact *= num; num -= 1 # one-line while statement\n",
    "    return fact\n",
    "factorial(5)"
   ]
  },
  {
   "cell_type": "code",
   "execution_count": 38,
   "metadata": {},
   "outputs": [
    {
     "output_type": "execute_result",
     "data": {
      "text/plain": [
       "1"
      ]
     },
     "metadata": {},
     "execution_count": 38
    }
   ],
   "source": [
    "factorial(0)"
   ]
  },
  {
   "cell_type": "code",
   "execution_count": 39,
   "metadata": {},
   "outputs": [
    {
     "output_type": "execute_result",
     "data": {
      "text/plain": [
       "1"
      ]
     },
     "metadata": {},
     "execution_count": 39
    }
   ],
   "source": [
    "factorial(1)"
   ]
  },
  {
   "cell_type": "code",
   "execution_count": 40,
   "metadata": {},
   "outputs": [
    {
     "output_type": "stream",
     "name": "stdout",
     "text": [
      "0 "
     ]
    }
   ],
   "source": [
    "# Fibonacci series upto nth number\n",
    "def fibseries(num):\n",
    "    fib1 = 0\n",
    "    if num >= 1: print(fib1, end= ' ')\n",
    "    \n",
    "    fib2 = 1\n",
    "    if num >= 2: print(fib2, end= ' ')\n",
    "    \n",
    "    while num > 2:\n",
    "        fib1, fib2 = fib2, fib1 + fib2\n",
    "        print(fib2, end= ' ')\n",
    "        num -= 1\n",
    "\n",
    "fibseries(1)"
   ]
  },
  {
   "cell_type": "code",
   "execution_count": 41,
   "metadata": {},
   "outputs": [
    {
     "output_type": "stream",
     "name": "stdout",
     "text": [
      "0 1 "
     ]
    }
   ],
   "source": [
    "fibseries(2)"
   ]
  },
  {
   "cell_type": "code",
   "execution_count": 42,
   "metadata": {},
   "outputs": [
    {
     "output_type": "stream",
     "name": "stdout",
     "text": [
      "0 1 1 2 3 5 8 13 "
     ]
    }
   ],
   "source": [
    "fibseries(8)"
   ]
  },
  {
   "source": [
    "#### for loop (requires iterables)"
   ],
   "cell_type": "markdown",
   "metadata": {}
  },
  {
   "cell_type": "code",
   "execution_count": 43,
   "metadata": {},
   "outputs": [
    {
     "output_type": "execute_result",
     "data": {
      "text/plain": [
       "range(1, 10, 3)"
      ]
     },
     "metadata": {},
     "execution_count": 43
    }
   ],
   "source": [
    "range(1, 10, 3)"
   ]
  },
  {
   "cell_type": "code",
   "execution_count": 44,
   "metadata": {},
   "outputs": [
    {
     "output_type": "execute_result",
     "data": {
      "text/plain": [
       "[1, 4, 7]"
      ]
     },
     "metadata": {},
     "execution_count": 44
    }
   ],
   "source": [
    "list(range(1, 10, 3)) # sequence generator iterable"
   ]
  },
  {
   "cell_type": "code",
   "execution_count": 45,
   "metadata": {},
   "outputs": [
    {
     "output_type": "stream",
     "name": "stdout",
     "text": [
      "1 4 7 "
     ]
    }
   ],
   "source": [
    "for n in range(1, 10, 3):\n",
    "    print(n, end=' ')"
   ]
  },
  {
   "cell_type": "code",
   "execution_count": 46,
   "metadata": {},
   "outputs": [
    {
     "output_type": "stream",
     "name": "stdout",
     "text": [
      "a n a n d "
     ]
    }
   ],
   "source": [
    "for ch in 'anand':\n",
    "    print(ch, end=' ')"
   ]
  },
  {
   "cell_type": "code",
   "execution_count": 47,
   "metadata": {},
   "outputs": [
    {
     "output_type": "stream",
     "name": "stdout",
     "text": [
      " Hello  welcome to Software Testing Help  In this article  Loops in Python   you’ll learn about loops with practical examples  Great right  Make sure to follow along as we learn together  \nHello(5)\nwelcome(7)\nto(2)\nSoftware(8)\nTesting(7)\nHelp(4)\nIn(2)\nthis(4)\narticle(7)\nLoops(5)\nin(2)\nPython(6)\nyou’ll(6)\nlearn(5)\nabout(5)\nloops(5)\nwith(4)\npractical(9)\nexamples(8)\nGreat(5)\nright(5)\nMake(4)\nsure(4)\nto(2)\nfollow(6)\nalong(5)\nas(2)\nwe(2)\nlearn(5)\ntogether(8)\n"
     ]
    }
   ],
   "source": [
    "# separate words in the text and print the text along with its length\n",
    "text = '''\n",
    "Hello, welcome to Software Testing Help. In this article:\"Loops in Python\", you’ll learn about loops with practical examples. Great right? Make sure to follow along as we learn together.\n",
    "'''\n",
    "for punc in '.,\\n?:\"': # remove punctuation marks with space\n",
    "    text = text.replace(punc, ' ')\n",
    "print(text)\n",
    "for word in text.split():\n",
    "    print(f'{word}({len(word)})')"
   ]
  },
  {
   "cell_type": "code",
   "execution_count": 48,
   "metadata": {},
   "outputs": [
    {
     "output_type": "execute_result",
     "data": {
      "text/plain": [
       "True"
      ]
     },
     "metadata": {},
     "execution_count": 48
    }
   ],
   "source": [
    "# prime number checking\n",
    "from math import sqrt\n",
    "def isprime(num):\n",
    "    k = int(sqrt(num))\n",
    "    for d in range(2, k + 1):\n",
    "        if num % d == 0:\n",
    "            return False\n",
    "    return True\n",
    "\n",
    "isprime(2)"
   ]
  },
  {
   "cell_type": "code",
   "execution_count": 49,
   "metadata": {},
   "outputs": [
    {
     "output_type": "execute_result",
     "data": {
      "text/plain": [
       "False"
      ]
     },
     "metadata": {},
     "execution_count": 49
    }
   ],
   "source": [
    "isprime(27)"
   ]
  },
  {
   "cell_type": "code",
   "execution_count": 50,
   "metadata": {},
   "outputs": [
    {
     "output_type": "execute_result",
     "data": {
      "text/plain": [
       "True"
      ]
     },
     "metadata": {},
     "execution_count": 50
    }
   ],
   "source": [
    "isprime(47)"
   ]
  },
  {
   "source": [
    "### loops with break and continue"
   ],
   "cell_type": "markdown",
   "metadata": {}
  },
  {
   "cell_type": "code",
   "execution_count": 51,
   "metadata": {},
   "outputs": [
    {
     "output_type": "stream",
     "name": "stdout",
     "text": [
      "7 8 1 8 7 0 0 2 3 8 7 5 15\n"
     ]
    }
   ],
   "source": [
    "from random import randint\n",
    "count = 0\n",
    "while True:\n",
    "    digit = randint(0, 9)\n",
    "    count += 1\n",
    "    if digit == 4 or digit == 9:\n",
    "        continue\n",
    "    print(digit, end=' ')\n",
    "    if digit == 5:\n",
    "        break\n",
    "print(count)"
   ]
  },
  {
   "cell_type": "code",
   "execution_count": 52,
   "metadata": {},
   "outputs": [
    {
     "output_type": "stream",
     "name": "stdout",
     "text": [
      "[2, 5, 3, 9, 6, 0, 4, 7, 8, 1]\n2 5 "
     ]
    }
   ],
   "source": [
    "from random import shuffle\n",
    "digits = list(range(0, 10)) # [0, 1, 2, 3, ,4 ,5 ,6 ,7, 8, 9]\n",
    "shuffle(digits)\n",
    "print(digits)\n",
    "for digit in digits:\n",
    "    if digit == 4 or digit == 9:\n",
    "        continue\n",
    "    print(digit, end=' ')\n",
    "    if digit == 5:\n",
    "        break"
   ]
  },
  {
   "source": [
    "### Nested loops and break with else"
   ],
   "cell_type": "markdown",
   "metadata": {}
  },
  {
   "cell_type": "code",
   "execution_count": 53,
   "metadata": {},
   "outputs": [
    {
     "output_type": "stream",
     "name": "stdout",
     "text": [
      "2 is a prime number\n3 is a prime number\n4 equals 2 * 2\n5 is a prime number\n6 equals 2 * 3\n7 is a prime number\n8 equals 2 * 4\n9 equals 3 * 3\n"
     ]
    }
   ],
   "source": [
    "for num in range(2, 10): # [2, 3, 4, ,5 ,6 ,7 ,8, 9]\n",
    "    k = 2\n",
    "    while k < num:\n",
    "        if num % k == 0:\n",
    "            print(f'{num} equals {k} * {num//k}')\n",
    "            break\n",
    "        k += 1\n",
    "    else:\n",
    "        print(f'{num} is a prime number')"
   ]
  },
  {
   "source": [
    "### Infinite loop and break"
   ],
   "cell_type": "markdown",
   "metadata": {}
  },
  {
   "cell_type": "code",
   "execution_count": 54,
   "metadata": {},
   "outputs": [
    {
     "output_type": "stream",
     "name": "stdout",
     "text": [
      "11\n10 4 17 4 20 16 17 22 1 21 2 19 17 21 12 20 13 25 14 23 9 2 6 1 24 2 16 5 "
     ]
    }
   ],
   "source": [
    "num = randint(1, 25)\n",
    "print(num)\n",
    "while True:\n",
    "    guess = randint(1, 25)\n",
    "    if guess == num:\n",
    "        break\n",
    "    print(guess, end=' ')"
   ]
  },
  {
   "source": [
    "### one line loop statement"
   ],
   "cell_type": "markdown",
   "metadata": {}
  },
  {
   "cell_type": "code",
   "execution_count": 55,
   "metadata": {},
   "outputs": [
    {
     "output_type": "stream",
     "name": "stdout",
     "text": [
      "0 1 2 3 4 5 6 7 8 9 "
     ]
    }
   ],
   "source": [
    "for x in range(10) : print(x, end=' ')"
   ]
  },
  {
   "cell_type": "code",
   "execution_count": 56,
   "metadata": {},
   "outputs": [
    {
     "output_type": "stream",
     "name": "stdout",
     "text": [
      "0 2 4 6 8 "
     ]
    }
   ],
   "source": [
    "for x in range(10) : print(x, end=' ') if x % 2 == 0 else None"
   ]
  },
  {
   "cell_type": "code",
   "execution_count": 57,
   "metadata": {},
   "outputs": [
    {
     "output_type": "error",
     "ename": "SyntaxError",
     "evalue": "invalid syntax (<ipython-input-57-e9fc9775e0dd>, line 1)",
     "traceback": [
      "\u001b[1;36m  File \u001b[1;32m\"<ipython-input-57-e9fc9775e0dd>\"\u001b[1;36m, line \u001b[1;32m1\u001b[0m\n\u001b[1;33m    for x in range(10) : if x % 2 == 0 : print(x, end = ' ')\u001b[0m\n\u001b[1;37m                         ^\u001b[0m\n\u001b[1;31mSyntaxError\u001b[0m\u001b[1;31m:\u001b[0m invalid syntax\n"
     ]
    }
   ],
   "source": [
    "for x in range(10) : if x % 2 == 0 : print(x, end = ' ')"
   ]
  },
  {
   "cell_type": "code",
   "execution_count": 58,
   "metadata": {
    "tags": []
   },
   "outputs": [
    {
     "output_type": "stream",
     "name": "stdout",
     "text": [
      "3 7 16 "
     ]
    }
   ],
   "source": [
    "num = 0\n",
    "while num <= 10: num += randint(0, 9); print(num, end=' ')"
   ]
  }
 ]
}