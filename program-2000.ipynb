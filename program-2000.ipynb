{
 "metadata": {
  "language_info": {
   "codemirror_mode": {
    "name": "ipython",
    "version": 3
   },
   "file_extension": ".py",
   "mimetype": "text/x-python",
   "name": "python",
   "nbconvert_exporter": "python",
   "pygments_lexer": "ipython3",
   "version": "3.9.5"
  },
  "orig_nbformat": 2,
  "kernelspec": {
   "name": "python395jvsc74a57bd0ac59ebe37160ed0dfa835113d9b8498d9f09ceb179beaac4002f036b9467c963",
   "display_name": "Python 3.9.5 64-bit"
  },
  "metadata": {
   "interpreter": {
    "hash": "ac59ebe37160ed0dfa835113d9b8498d9f09ceb179beaac4002f036b9467c963"
   }
  }
 },
 "nbformat": 4,
 "nbformat_minor": 2,
 "cells": [
  {
   "source": [
    "### Demonstration of Decision/Selection/branching/conditional statements"
   ],
   "cell_type": "markdown",
   "metadata": {}
  },
  {
   "cell_type": "code",
   "execution_count": 2,
   "metadata": {},
   "outputs": [
    {
     "output_type": "stream",
     "name": "stdout",
     "text": [
      "5 is smaller than 10\nThis statement will always be executed\n"
     ]
    }
   ],
   "source": [
    "num = 5\n",
    "if num < 10 :\n",
    "    print(f'{num} is smaller than 10')\n",
    "print('This statement will always be executed')"
   ]
  },
  {
   "cell_type": "code",
   "execution_count": 3,
   "metadata": {},
   "outputs": [
    {
     "output_type": "stream",
     "name": "stdout",
     "text": [
      "This statement will always be executed\n"
     ]
    }
   ],
   "source": [
    "num = 15\n",
    "if num < 10 :\n",
    "    print(f'{num} is smaller than 10')\n",
    "print('This statement will always be executed')"
   ]
  },
  {
   "cell_type": "code",
   "execution_count": 4,
   "metadata": {},
   "outputs": [
    {
     "output_type": "stream",
     "name": "stdout",
     "text": [
      "TRUE\n"
     ]
    }
   ],
   "source": [
    "num = 10\n",
    "if num :\n",
    "    print('TRUE')"
   ]
  },
  {
   "cell_type": "code",
   "execution_count": 5,
   "metadata": {},
   "outputs": [],
   "source": [
    "num = 0\n",
    "if num :\n",
    "    print('TRUE')"
   ]
  },
  {
   "cell_type": "code",
   "execution_count": 6,
   "metadata": {},
   "outputs": [
    {
     "output_type": "stream",
     "name": "stdout",
     "text": [
      "FOUND\n"
     ]
    }
   ],
   "source": [
    "if 'na' in 'anand':\n",
    "    print('FOUND')\n",
    "else:\n",
    "    print('NOT FOUND')"
   ]
  },
  {
   "cell_type": "code",
   "execution_count": 7,
   "metadata": {},
   "outputs": [
    {
     "output_type": "stream",
     "name": "stdout",
     "text": [
      "NOT FOUND\n"
     ]
    }
   ],
   "source": [
    "if 'ad' in 'anand':\n",
    "    print('FOUND')\n",
    "else:\n",
    "    print('NOT FOUND')"
   ]
  },
  {
   "cell_type": "code",
   "execution_count": 8,
   "metadata": {},
   "outputs": [
    {
     "output_type": "stream",
     "name": "stdout",
     "text": [
      "NOT FOUND\n"
     ]
    }
   ],
   "source": [
    "if 'ad' not in 'anand':\n",
    "    print('NOT FOUND')\n",
    "else:\n",
    "    print('FOUND')"
   ]
  },
  {
   "cell_type": "code",
   "execution_count": 13,
   "metadata": {},
   "outputs": [
    {
     "output_type": "stream",
     "name": "stdout",
     "text": [
      "Number is negative\n"
     ]
    }
   ],
   "source": [
    "num = int(input('enter number: '))\n",
    "if (num > 0):\n",
    "    print('Number is positive')\n",
    "elif (num < 0):\n",
    "    print('Number is negative')\n",
    "else:\n",
    "    print('Number is Zero')"
   ]
  },
  {
   "cell_type": "code",
   "execution_count": 22,
   "metadata": {},
   "outputs": [
    {
     "output_type": "stream",
     "name": "stdout",
     "text": [
      "you entered a real number\n"
     ]
    }
   ],
   "source": [
    "num = eval(input('enter number: '))\n",
    "if isinstance(num, int):\n",
    "    print('you entered an integer number')\n",
    "elif isinstance(num, float):\n",
    "    print('you entered a real number')\n",
    "elif isinstance(num, complex):\n",
    "    print('you entered a complex number')\n",
    "else:\n",
    "    print('Unknown numeric type')"
   ]
  },
  {
   "cell_type": "code",
   "execution_count": 23,
   "metadata": {},
   "outputs": [
    {
     "output_type": "stream",
     "name": "stdout",
     "text": [
      "Number is greater than Zero\n"
     ]
    }
   ],
   "source": [
    "num = 7\n",
    "if (num > 0): print('Number is greater than Zero') # one-line if statement"
   ]
  },
  {
   "cell_type": "code",
   "execution_count": 33,
   "metadata": {},
   "outputs": [
    {
     "output_type": "error",
     "ename": "SyntaxError",
     "evalue": "invalid syntax (<ipython-input-33-c6723546e8bf>, line 2)",
     "traceback": [
      "\u001b[1;36m  File \u001b[1;32m\"<ipython-input-33-c6723546e8bf>\"\u001b[1;36m, line \u001b[1;32m2\u001b[0m\n\u001b[1;33m    if a % 2 == 1 : print('even') else: print('odd')\u001b[0m\n\u001b[1;37m                                  ^\u001b[0m\n\u001b[1;31mSyntaxError\u001b[0m\u001b[1;31m:\u001b[0m invalid syntax\n"
     ]
    }
   ],
   "source": [
    "num = 7\n",
    "if a % 2 == 1 : print('even') else: print('odd')"
   ]
  },
  {
   "cell_type": "code",
   "execution_count": 35,
   "metadata": {},
   "outputs": [
    {
     "output_type": "stream",
     "name": "stdout",
     "text": [
      "odd\n"
     ]
    }
   ],
   "source": [
    "num = 7\n",
    "if a % 2 == 1 : print('even')\n",
    "else: print('odd')"
   ]
  },
  {
   "cell_type": "code",
   "execution_count": 27,
   "metadata": {},
   "outputs": [
    {
     "output_type": "stream",
     "name": "stdout",
     "text": [
      "even\n"
     ]
    }
   ],
   "source": [
    "print('odd') if a % 2 == 1 else print('even') # better way and one-liner if..else statement"
   ]
  },
  {
   "cell_type": "code",
   "execution_count": 26,
   "metadata": {},
   "outputs": [
    {
     "output_type": "stream",
     "name": "stdout",
     "text": [
      "value is same and referring to same memory\n"
     ]
    }
   ],
   "source": [
    "a = 10\n",
    "b = 10\n",
    "print('value is same and referring to same memory') if a == b and a is b else None  # bollean expression using logical operations"
   ]
  },
  {
   "source": [
    "### Nested selection statements"
   ],
   "cell_type": "markdown",
   "metadata": {}
  },
  {
   "cell_type": "code",
   "execution_count": 31,
   "metadata": {},
   "outputs": [
    {
     "output_type": "stream",
     "name": "stdout",
     "text": [
      "adult\n"
     ]
    }
   ],
   "source": [
    "age = int(input('Enter Age: '))\n",
    "print('kid' if age < 13 else 'teenager' if age < 18 else 'adult') # evaluated from left to right, onle-liner if...elif...else"
   ]
  },
  {
   "cell_type": "code",
   "execution_count": 32,
   "metadata": {},
   "outputs": [
    {
     "output_type": "stream",
     "name": "stdout",
     "text": [
      "teenager\n"
     ]
    }
   ],
   "source": [
    "age = int(input('Enter Age: '))\n",
    "if age < 13 :\n",
    "    printf('kid')\n",
    "else:\n",
    "    if age < 18 :\n",
    "        print('teenager')\n",
    "    else:\n",
    "        print('adult')      # one can convert this into if...elif...else"
   ]
  },
  {
   "cell_type": "code",
   "execution_count": 36,
   "metadata": {},
   "outputs": [
    {
     "output_type": "stream",
     "name": "stdout",
     "text": [
      "adult\n"
     ]
    }
   ],
   "source": [
    "age = int(input('Enter Age: '))\n",
    "if age < 13 :\n",
    "    printf('kid')\n",
    "elif age < 18 :\n",
    "    print('teenager')\n",
    "else:\n",
    "    print('adult')"
   ]
  },
  {
   "source": [
    "### Demonstration of repetetion structures\n",
    "#### while loop"
   ],
   "cell_type": "markdown",
   "metadata": {}
  },
  {
   "cell_type": "code",
   "execution_count": 40,
   "metadata": {
    "tags": []
   },
   "outputs": [
    {
     "output_type": "stream",
     "name": "stdout",
     "text": [
      "Hello\nHello\nHello\n"
     ]
    }
   ],
   "source": [
    "# prints the given message specified number of times\n",
    "def printmessage(message, times):\n",
    "    num = 1 # intialization of loop control variable\n",
    "    while num <= times: # termination condition\n",
    "        print(message)\n",
    "        num += 1 # updating loop variable in the direction of termination condition\n",
    "\n",
    "printmessage('Hello', 3)"
   ]
  },
  {
   "cell_type": "code",
   "execution_count": 41,
   "metadata": {},
   "outputs": [
    {
     "output_type": "stream",
     "name": "stdout",
     "text": [
      "Hai\nHai\nHai\nHai\nHai\n"
     ]
    }
   ],
   "source": [
    "printmessage('Hai', 5)"
   ]
  },
  {
   "cell_type": "code",
   "execution_count": 45,
   "metadata": {},
   "outputs": [
    {
     "output_type": "execute_result",
     "data": {
      "text/plain": [
       "120"
      ]
     },
     "metadata": {},
     "execution_count": 45
    }
   ],
   "source": [
    "# Factorial of a given positive number\n",
    "def factorial(num):\n",
    "    fact = 1\n",
    "    while num > 1: fact *= num; num -= 1 # one-line while statement\n",
    "    return fact\n",
    "factorial(5)"
   ]
  },
  {
   "cell_type": "code",
   "execution_count": 44,
   "metadata": {},
   "outputs": [
    {
     "output_type": "execute_result",
     "data": {
      "text/plain": [
       "1"
      ]
     },
     "metadata": {},
     "execution_count": 44
    }
   ],
   "source": [
    "factorial(0)"
   ]
  },
  {
   "cell_type": "code",
   "execution_count": 46,
   "metadata": {},
   "outputs": [
    {
     "output_type": "execute_result",
     "data": {
      "text/plain": [
       "1"
      ]
     },
     "metadata": {},
     "execution_count": 46
    }
   ],
   "source": [
    "factorial(1)"
   ]
  },
  {
   "cell_type": "code",
   "execution_count": 23,
   "metadata": {},
   "outputs": [
    {
     "output_type": "stream",
     "name": "stdout",
     "text": [
      "0 "
     ]
    }
   ],
   "source": [
    "# Fibonacci series upto nth number\n",
    "def fibseries(num):\n",
    "    fib1 = 0\n",
    "    if num >= 1:\n",
    "        print(fib1, end= ' ')\n",
    "    \n",
    "    fib2 = 1\n",
    "    if num >= 2:\n",
    "        print(fib2, end= ' ')\n",
    "    \n",
    "    while num > 2:\n",
    "        fib1, fib2 = fib2, fib1 + fib2\n",
    "        print(fib2, end= ' ')\n",
    "        num -= 1\n",
    "\n",
    "fibseries(1)"
   ]
  },
  {
   "cell_type": "code",
   "execution_count": 24,
   "metadata": {},
   "outputs": [
    {
     "output_type": "stream",
     "name": "stdout",
     "text": [
      "0 1 "
     ]
    }
   ],
   "source": [
    "fibseries(2)"
   ]
  },
  {
   "cell_type": "code",
   "execution_count": 25,
   "metadata": {},
   "outputs": [
    {
     "output_type": "stream",
     "name": "stdout",
     "text": [
      "0 1 1 2 3 5 8 13 "
     ]
    }
   ],
   "source": [
    "fibseries(8)"
   ]
  },
  {
   "source": [
    "#### for loop (requires iterables)"
   ],
   "cell_type": "markdown",
   "metadata": {}
  },
  {
   "cell_type": "code",
   "execution_count": 1,
   "metadata": {},
   "outputs": [
    {
     "output_type": "execute_result",
     "data": {
      "text/plain": [
       "range(1, 10, 3)"
      ]
     },
     "metadata": {},
     "execution_count": 1
    }
   ],
   "source": [
    "range(1, 10, 3)"
   ]
  },
  {
   "cell_type": "code",
   "execution_count": 2,
   "metadata": {},
   "outputs": [
    {
     "output_type": "execute_result",
     "data": {
      "text/plain": [
       "[1, 4, 7]"
      ]
     },
     "metadata": {},
     "execution_count": 2
    }
   ],
   "source": [
    "list(range(1, 10, 3)) # sequence generator iterable"
   ]
  },
  {
   "cell_type": "code",
   "execution_count": 3,
   "metadata": {},
   "outputs": [
    {
     "output_type": "stream",
     "name": "stdout",
     "text": [
      "1 4 7 "
     ]
    }
   ],
   "source": [
    "for n in range(1, 10, 3):\n",
    "    print(n, end=' ')"
   ]
  },
  {
   "cell_type": "code",
   "execution_count": 4,
   "metadata": {},
   "outputs": [
    {
     "output_type": "stream",
     "name": "stdout",
     "text": [
      "a n a n d "
     ]
    }
   ],
   "source": [
    "for ch in 'anand':\n",
    "    print(ch, end=' ')"
   ]
  },
  {
   "cell_type": "code",
   "execution_count": 13,
   "metadata": {},
   "outputs": [
    {
     "output_type": "stream",
     "name": "stdout",
     "text": [
      "Hello(5)\nwelcome(7)\nto(2)\nSoftware(8)\nTesting(7)\nHelp(4)\nIn(2)\nthis(4)\narticle:(8)\nLoops(5)\nin(2)\nPython(6)\nyou’ll(6)\nlearn(5)\nabout(5)\nloops(5)\nwith(4)\npractical(9)\nexamples(8)\nGreat(5)\nright(5)\nMake(4)\nsure(4)\nto(2)\nfollow(6)\nalong(5)\nas(2)\nwe(2)\nlearn(5)\ntogether(8)\n"
     ]
    }
   ],
   "source": [
    "# separate words in the text and print the text along with its length\n",
    "text = '''\n",
    "Hello, welcome to Software Testing Help. In this article:\"Loops in Python\", you’ll learn about loops with practical examples. Great right? Make sure to follow along as we learn together.\n",
    "'''\n",
    "for punc in '.,\\n?!\"': # remove punctuation marks with space\n",
    "    text = text.replace(punc, ' ')\n",
    "for word in text.split():\n",
    "    print(f'{word}({len(word)})')"
   ]
  },
  {
   "cell_type": "code",
   "execution_count": 17,
   "metadata": {},
   "outputs": [
    {
     "output_type": "execute_result",
     "data": {
      "text/plain": [
       "True"
      ]
     },
     "metadata": {},
     "execution_count": 17
    }
   ],
   "source": [
    "# prime number checking\n",
    "from math import sqrt\n",
    "def isprime(num):\n",
    "    k = int(sqrt(num))\n",
    "    for d in range(2, k + 1):\n",
    "        if num % d == 0:\n",
    "            return False\n",
    "    return True\n",
    "\n",
    "isprime(2)"
   ]
  },
  {
   "cell_type": "code",
   "execution_count": 18,
   "metadata": {},
   "outputs": [
    {
     "output_type": "execute_result",
     "data": {
      "text/plain": [
       "False"
      ]
     },
     "metadata": {},
     "execution_count": 18
    }
   ],
   "source": [
    "isprime(27)"
   ]
  },
  {
   "cell_type": "code",
   "execution_count": 19,
   "metadata": {},
   "outputs": [
    {
     "output_type": "execute_result",
     "data": {
      "text/plain": [
       "True"
      ]
     },
     "metadata": {},
     "execution_count": 19
    }
   ],
   "source": [
    "isprime(47)"
   ]
  },
  {
   "cell_type": "code",
   "execution_count": null,
   "metadata": {},
   "outputs": [],
   "source": []
  }
 ]
}