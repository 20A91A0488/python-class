{
 "metadata": {
  "language_info": {
   "codemirror_mode": {
    "name": "ipython",
    "version": 3
   },
   "file_extension": ".py",
   "mimetype": "text/x-python",
   "name": "python",
   "nbconvert_exporter": "python",
   "pygments_lexer": "ipython3",
   "version": "3.9.5"
  },
  "orig_nbformat": 2,
  "kernelspec": {
   "name": "python395jvsc74a57bd0ac59ebe37160ed0dfa835113d9b8498d9f09ceb179beaac4002f036b9467c963",
   "display_name": "Python 3.9.5 64-bit"
  },
  "metadata": {
   "interpreter": {
    "hash": "ac59ebe37160ed0dfa835113d9b8498d9f09ceb179beaac4002f036b9467c963"
   }
  }
 },
 "nbformat": 4,
 "nbformat_minor": 2,
 "cells": [
  {
   "source": [
    "### Reading input from the keyboard"
   ],
   "cell_type": "markdown",
   "metadata": {}
  },
  {
   "cell_type": "code",
   "execution_count": 1,
   "metadata": {},
   "outputs": [
    {
     "output_type": "stream",
     "name": "stdout",
     "text": [
      "Ananda Kumar\n<class 'str'>\n"
     ]
    }
   ],
   "source": [
    "name = input('Enter your name: ')\n",
    "print(name)\n",
    "print(type(name))"
   ]
  },
  {
   "cell_type": "code",
   "execution_count": 2,
   "metadata": {},
   "outputs": [
    {
     "output_type": "stream",
     "name": "stdout",
     "text": [
      "45\n<class 'str'>\n"
     ]
    }
   ],
   "source": [
    "age = input('Enter your age: ')\n",
    "print(age)\n",
    "print(type(age))"
   ]
  },
  {
   "cell_type": "code",
   "execution_count": 3,
   "metadata": {},
   "outputs": [
    {
     "output_type": "stream",
     "name": "stdout",
     "text": [
      "45\n<class 'int'>\n"
     ]
    }
   ],
   "source": [
    "age = int(age)\n",
    "print(age)\n",
    "print(type(age))"
   ]
  },
  {
   "cell_type": "code",
   "execution_count": 4,
   "metadata": {},
   "outputs": [
    {
     "output_type": "stream",
     "name": "stdout",
     "text": [
      "70.48\n<class 'float'>\n"
     ]
    }
   ],
   "source": [
    "percentage = float(input())\n",
    "print(percentage)\n",
    "print(type(percentage))"
   ]
  },
  {
   "source": [
    "### better way to convert to the appropriate type is using eval() function"
   ],
   "cell_type": "markdown",
   "metadata": {}
  },
  {
   "cell_type": "code",
   "execution_count": 5,
   "metadata": {},
   "outputs": [
    {
     "output_type": "stream",
     "name": "stdout",
     "text": [
      "70.48\n<class 'float'>\n"
     ]
    }
   ],
   "source": [
    "percentage = eval(input())\n",
    "print(percentage)\n",
    "print(type(percentage))"
   ]
  },
  {
   "source": [
    "### print static text\n",
    "#### string literals enclosed in single quotes or double quotes\n",
    "#### triple single/double quotes to span the string to multiple lines"
   ],
   "cell_type": "markdown",
   "metadata": {}
  },
  {
   "cell_type": "code",
   "execution_count": 6,
   "metadata": {},
   "outputs": [
    {
     "output_type": "stream",
     "name": "stdout",
     "text": [
      "Hello World!\n"
     ]
    }
   ],
   "source": [
    "print('Hello World!')"
   ]
  },
  {
   "cell_type": "code",
   "execution_count": 7,
   "metadata": {},
   "outputs": [
    {
     "output_type": "stream",
     "name": "stdout",
     "text": [
      "Hello World!\n"
     ]
    }
   ],
   "source": [
    "print(\"Hello World!\")"
   ]
  },
  {
   "cell_type": "code",
   "execution_count": 8,
   "metadata": {},
   "outputs": [
    {
     "output_type": "stream",
     "name": "stdout",
     "text": [
      "Hello\nWorld!\n"
     ]
    }
   ],
   "source": [
    "print(\"\"\"Hello\n",
    "World!\"\"\")"
   ]
  },
  {
   "cell_type": "code",
   "execution_count": 9,
   "metadata": {},
   "outputs": [
    {
     "output_type": "stream",
     "name": "stdout",
     "text": [
      "Hello\nWorld\n!\n"
     ]
    }
   ],
   "source": [
    "print('''Hello\n",
    "World\n",
    "!''')"
   ]
  },
  {
   "cell_type": "code",
   "execution_count": 10,
   "metadata": {},
   "outputs": [
    {
     "output_type": "stream",
     "name": "stdout",
     "text": [
      "Hello World!\n"
     ]
    }
   ],
   "source": [
    "print('''\\\n",
    "Hello \\\n",
    "World\\\n",
    "!''')"
   ]
  },
  {
   "source": [
    "### two print functions to print two numeric literals\n",
    "#### print the two values in two separate lines\n",
    "#### by default print function appends new line at the end of each line it prints"
   ],
   "cell_type": "markdown",
   "metadata": {}
  },
  {
   "cell_type": "code",
   "execution_count": 11,
   "metadata": {},
   "outputs": [
    {
     "output_type": "stream",
     "name": "stdout",
     "text": [
      "10\n20.58\n"
     ]
    }
   ],
   "source": [
    "print(10)\n",
    "print(20.58)"
   ]
  },
  {
   "source": [
    "### output of two print functions can be displayed on a same screen"
   ],
   "cell_type": "markdown",
   "metadata": {}
  },
  {
   "cell_type": "code",
   "execution_count": 12,
   "metadata": {},
   "outputs": [
    {
     "output_type": "stream",
     "name": "stdout",
     "text": [
      "10 20.58\n30\n"
     ]
    }
   ],
   "source": [
    "print(10, end=' ')\n",
    "print(20.58)\n",
    "print(30)"
   ]
  },
  {
   "source": [
    "### you can pass more than one value to print function\n",
    "#### by default separated by spaces"
   ],
   "cell_type": "markdown",
   "metadata": {}
  },
  {
   "cell_type": "code",
   "execution_count": 13,
   "metadata": {},
   "outputs": [
    {
     "output_type": "stream",
     "name": "stdout",
     "text": [
      "10 20 30.85\n"
     ]
    }
   ],
   "source": [
    "print(10, 20, 30.85)"
   ]
  },
  {
   "cell_type": "code",
   "execution_count": 14,
   "metadata": {},
   "outputs": [
    {
     "output_type": "stream",
     "name": "stdout",
     "text": [
      "10 20 30.85\n"
     ]
    }
   ],
   "source": [
    "print(10, 20, 30.85, sep=None)"
   ]
  },
  {
   "cell_type": "code",
   "execution_count": 15,
   "metadata": {},
   "outputs": [
    {
     "output_type": "stream",
     "name": "stdout",
     "text": [
      "10,20,30.85\n"
     ]
    }
   ],
   "source": [
    "print(10, 20, 30.85, sep=',')"
   ]
  },
  {
   "source": [
    "### demonstrates print returns no value i.e. None"
   ],
   "cell_type": "markdown",
   "metadata": {}
  },
  {
   "cell_type": "code",
   "execution_count": 16,
   "metadata": {},
   "outputs": [
    {
     "output_type": "stream",
     "name": "stdout",
     "text": [
      "Hello\nNone\n"
     ]
    }
   ],
   "source": [
    "print(print('Hello'))"
   ]
  },
  {
   "source": [
    "#### guess what print() without arguments will print"
   ],
   "cell_type": "markdown",
   "metadata": {}
  },
  {
   "cell_type": "code",
   "execution_count": 17,
   "metadata": {},
   "outputs": [
    {
     "output_type": "stream",
     "name": "stdout",
     "text": [
      "\nnew line\n"
     ]
    }
   ],
   "source": [
    "print()\n",
    "print('new line')"
   ]
  },
  {
   "source": [
    "### printing to a file"
   ],
   "cell_type": "markdown",
   "metadata": {}
  },
  {
   "cell_type": "code",
   "execution_count": 18,
   "metadata": {},
   "outputs": [
    {
     "output_type": "stream",
     "name": "stderr",
     "text": [
      "fatal error\n"
     ]
    }
   ],
   "source": [
    "print('fatal error', file=sys.stderr)"
   ]
  },
  {
   "cell_type": "code",
   "execution_count": 19,
   "metadata": {},
   "outputs": [],
   "source": [
    "sourceFile = open('python.txt', 'w+')\n",
    "print('Hello World!', file = sourceFile)\n",
    "print('Pretty cool, huh!', file = sourceFile)\n",
    "sourceFile.close()"
   ]
  },
  {
   "source": [
    "### display a variable's value along with a predefined string"
   ],
   "cell_type": "markdown",
   "metadata": {}
  },
  {
   "cell_type": "code",
   "execution_count": 20,
   "metadata": {},
   "outputs": [
    {
     "output_type": "stream",
     "name": "stdout",
     "text": [
      "anand is a string and 45 is an integer\n"
     ]
    }
   ],
   "source": [
    "name = 'anand'\n",
    "age = 45\n",
    "print(name, 'is a string and', age, 'is an integer')"
   ]
  },
  {
   "source": [
    "### formatting using string modulo operator"
   ],
   "cell_type": "markdown",
   "metadata": {}
  },
  {
   "cell_type": "code",
   "execution_count": 21,
   "metadata": {},
   "outputs": [
    {
     "output_type": "stream",
     "name": "stdout",
     "text": [
      "anand is a string and 45 is an integer\n"
     ]
    }
   ],
   "source": [
    "print(\"%s is a string and %d is an integer\"%(name, age))"
   ]
  },
  {
   "cell_type": "code",
   "execution_count": 22,
   "metadata": {},
   "outputs": [
    {
     "output_type": "stream",
     "name": "stdout",
     "text": [
      "   42,     42,       42\n"
     ]
    }
   ],
   "source": [
    "print('%5d, %6i, %8u' % (42, 42, 42)) # all indicates decimal integers only"
   ]
  },
  {
   "cell_type": "code",
   "execution_count": 23,
   "metadata": {},
   "outputs": [
    {
     "output_type": "stream",
     "name": "stdout",
     "text": [
      "42, 52, 2a, 2A\n"
     ]
    }
   ],
   "source": [
    "print('%d, %o, %x, %X' % (42, 42, 42, 42)) # decimal, octal, hexadecimal "
   ]
  },
  {
   "cell_type": "code",
   "execution_count": 24,
   "metadata": {},
   "outputs": [
    {
     "output_type": "stream",
     "name": "stdout",
     "text": [
      "25.2, 25.250000\n"
     ]
    }
   ],
   "source": [
    "print('%.1f, %F' % (25.25, 25.25)) # floating point"
   ]
  },
  {
   "cell_type": "code",
   "execution_count": 25,
   "metadata": {},
   "outputs": [
    {
     "output_type": "stream",
     "name": "stdout",
     "text": [
      "2.525000e+01, 2.525000E+01\n"
     ]
    }
   ],
   "source": [
    "print('%e, %E' % (25.25, 25.25)) # exponential normalized floating point representation"
   ]
  },
  {
   "cell_type": "code",
   "execution_count": 26,
   "metadata": {},
   "outputs": [
    {
     "output_type": "stream",
     "name": "stdout",
     "text": [
      "25.25, 2.5E-08\n"
     ]
    }
   ],
   "source": [
    "print('%g, %G' % (25.25, 0.000000025)) # floating point or exponential morethan 6 decimals changed to exponential"
   ]
  },
  {
   "cell_type": "code",
   "execution_count": 27,
   "metadata": {},
   "outputs": [
    {
     "output_type": "stream",
     "name": "stdout",
     "text": [
      "Hello, 'python', 'world'\n"
     ]
    }
   ],
   "source": [
    "print('%s, %r, %a' % ('Hello', 'python', 'world')) # strings"
   ]
  },
  {
   "cell_type": "code",
   "execution_count": 28,
   "metadata": {},
   "outputs": [
    {
     "output_type": "stream",
     "name": "stdout",
     "text": [
      "A %\n"
     ]
    }
   ],
   "source": [
    "print('%c %%' % ('A')) # single character, % symbol"
   ]
  },
  {
   "cell_type": "code",
   "execution_count": 29,
   "metadata": {},
   "outputs": [
    {
     "output_type": "stream",
     "name": "stdout",
     "text": [
      "  123\n  123\n"
     ]
    }
   ],
   "source": [
    "print('%*d' % (5, 123)) # both are same * takes the value from the tuple\n",
    "print('%5d' % (123))"
   ]
  },
  {
   "cell_type": "code",
   "execution_count": 30,
   "metadata": {},
   "outputs": [
    {
     "output_type": "stream",
     "name": "stdout",
     "text": [
      "  123\n00123\n"
     ]
    }
   ],
   "source": [
    "print('%5d' % 123) \n",
    "print('%05d' % 123)"
   ]
  },
  {
   "cell_type": "code",
   "execution_count": 31,
   "metadata": {},
   "outputs": [
    {
     "output_type": "stream",
     "name": "stdout",
     "text": [
      "  123\n123  \n"
     ]
    }
   ],
   "source": [
    "print('%5d' % 123)  # right justification (default)\n",
    "print('%-5d' % 123) # changed to left justification"
   ]
  },
  {
   "cell_type": "code",
   "execution_count": 32,
   "metadata": {},
   "outputs": [
    {
     "output_type": "stream",
     "name": "stdout",
     "text": [
      "  123\n +123\n"
     ]
    }
   ],
   "source": [
    "print('%5d' % 123)\n",
    "print('%+5d' % 123)"
   ]
  },
  {
   "cell_type": "code",
   "execution_count": 33,
   "metadata": {},
   "outputs": [
    {
     "output_type": "stream",
     "name": "stdout",
     "text": [
      "0o52\n"
     ]
    }
   ],
   "source": [
    "print('%#o' % 42) #Display of base or decimal point for integer and floating point values"
   ]
  },
  {
   "source": [
    "### better way is to use string format method\n",
    "#### index numbers are represented with a curly bracket {} representing a placeholder"
   ],
   "cell_type": "markdown",
   "metadata": {}
  },
  {
   "cell_type": "code",
   "execution_count": 34,
   "metadata": {},
   "outputs": [
    {
     "output_type": "stream",
     "name": "stdout",
     "text": [
      "anand is a string and 45 is an integer\n"
     ]
    }
   ],
   "source": [
    "print(\"{} is a string and {} is an integer\".format(name, age))"
   ]
  },
  {
   "cell_type": "code",
   "execution_count": 35,
   "metadata": {},
   "outputs": [
    {
     "output_type": "stream",
     "name": "stdout",
     "text": [
      "anand is a string and 45 is an integer\n"
     ]
    }
   ],
   "source": [
    "print(\"{0} is a string and {1} is an integer\".format(name, age))"
   ]
  },
  {
   "cell_type": "code",
   "execution_count": 36,
   "metadata": {},
   "outputs": [
    {
     "output_type": "stream",
     "name": "stdout",
     "text": [
      "anand is a string and 45 is an integer\n"
     ]
    }
   ],
   "source": [
    "print(\"{1} is a string and {0} is an integer\".format(age, name))"
   ]
  },
  {
   "cell_type": "code",
   "execution_count": 37,
   "metadata": {},
   "outputs": [
    {
     "output_type": "stream",
     "name": "stdout",
     "text": [
      "anand      is a string and   45 is an integer\n"
     ]
    }
   ],
   "source": [
    "print(\"{:10s} is a string and {:4d} is an integer\".format(name, age))"
   ]
  },
  {
   "cell_type": "code",
   "execution_count": 38,
   "metadata": {},
   "outputs": [
    {
     "output_type": "stream",
     "name": "stdout",
     "text": [
      "anand      is a string and   45 is an integer\n"
     ]
    }
   ],
   "source": [
    "print(\"{0:10s} is a string and {1:4d} is an integer\".format(name, age))"
   ]
  },
  {
   "source": [
    "### format using f-strings"
   ],
   "cell_type": "markdown",
   "metadata": {}
  },
  {
   "cell_type": "code",
   "execution_count": 39,
   "metadata": {},
   "outputs": [
    {
     "output_type": "stream",
     "name": "stdout",
     "text": [
      "anand is a string and 45 is an integer\n"
     ]
    }
   ],
   "source": [
    "print(f\"{name} is a string and {age} is an integer\")"
   ]
  },
  {
   "cell_type": "code",
   "execution_count": 40,
   "metadata": {},
   "outputs": [
    {
     "output_type": "stream",
     "name": "stdout",
     "text": [
      "name='anand' is a string and age=45 is an integer\n"
     ]
    }
   ],
   "source": [
    "print(f\"{name=} is a string and {age=} is an integer\")"
   ]
  },
  {
   "cell_type": "code",
   "execution_count": 41,
   "metadata": {},
   "outputs": [
    {
     "output_type": "stream",
     "name": "stdout",
     "text": [
      "anand is a string and   45 is an integer\n"
     ]
    }
   ],
   "source": [
    "print(f\"{name} is a string and {age:4d} is an integer\")"
   ]
  },
  {
   "cell_type": "code",
   "execution_count": 42,
   "metadata": {},
   "outputs": [
    {
     "output_type": "stream",
     "name": "stdout",
     "text": [
      "name='anand' is a string and age=  45 is an integer\n"
     ]
    }
   ],
   "source": [
    "print(f\"{name=} is a string and {age=:4d} is an integer\")"
   ]
  }
 ]
}