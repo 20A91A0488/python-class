{
 "cells": [
  {
   "cell_type": "markdown",
   "source": [
    "### 1.1 Write a program that asks the user for a weight in kilograms and converts it to pounds. There are 2.2 pounds in a kilogram"
   ],
   "metadata": {}
  },
  {
   "cell_type": "code",
   "execution_count": 3,
   "source": [
    "kilograms = float(input('Enter weight in Kilograms: '))\r\n",
    "pounds = kilograms * 2.2\r\n",
    "print(f'{kilograms} Kilograms = {pounds} Pounds')"
   ],
   "outputs": [
    {
     "output_type": "stream",
     "name": "stdout",
     "text": [
      "10.0 Kilograms = 22.0 Pounds\n"
     ]
    }
   ],
   "metadata": {}
  },
  {
   "cell_type": "markdown",
   "source": [
    "### 1.2 Write a program that asks the user to enter three numbers (use three separate input statements). Create variables called total and average that hold the sum and average of the three numbers and print out the values of total and average"
   ],
   "metadata": {}
  },
  {
   "cell_type": "code",
   "execution_count": 4,
   "source": [
    "num1 = int(input('Enter First Number: '))\r\n",
    "num2 = int(input('Enter Second Number: '))\r\n",
    "num3 = int(input('Enter Third Number: '))\r\n",
    "total = num1 + num2 + num3\r\n",
    "average = total / 3\r\n",
    "print(f'{num1} + {num2} + {num3} = {total}')\r\n",
    "print(f'Average({num1}, {num2}, {num3}) = {average:.2f}')"
   ],
   "outputs": [
    {
     "output_type": "stream",
     "name": "stdout",
     "text": [
      "10 + 20 + 30 = 60\n",
      "Average(10, 20, 30) = 20.00\n"
     ]
    }
   ],
   "metadata": {}
  },
  {
   "cell_type": "markdown",
   "source": [
    "### 2.1 Write a program that uses a for loop to print the numbers 8, 11, 14, 17, 20, . . . , 83, 86, 89"
   ],
   "metadata": {}
  },
  {
   "cell_type": "code",
   "execution_count": 6,
   "source": [
    "for val in range(8,90,3):\r\n",
    "    print(val, end=', ')"
   ],
   "outputs": [
    {
     "output_type": "stream",
     "name": "stdout",
     "text": [
      "8, 11, 14, 17, 20, 23, 26, 29, 32, 35, 38, 41, 44, 47, 50, 53, 56, 59, 62, 65, 68, 71, 74, 77, 80, 83, 86, 89, "
     ]
    }
   ],
   "metadata": {}
  },
  {
   "cell_type": "markdown",
   "source": [
    "### 2.2 Write a program that asks the user for their name and how many times to print it. The program should print out the user’s name the specified number of times"
   ],
   "metadata": {}
  },
  {
   "cell_type": "code",
   "execution_count": 8,
   "source": [
    "name = input('Enter your name')\r\n",
    "times = int(input('Enter the number of times to repeat: '))\r\n",
    "print((name + ' ') * times)\r\n",
    "print((name + '\\n') * times)"
   ],
   "outputs": [
    {
     "output_type": "stream",
     "name": "stdout",
     "text": [
      "anand anand anand \n",
      "anand\n",
      "anand\n",
      "anand\n",
      "\n"
     ]
    }
   ],
   "metadata": {}
  },
  {
   "cell_type": "markdown",
   "source": [
    "### 3.1 Use a for loop to print a triangle like the one below. Allow the user to specify how high the triangle should be"
   ],
   "metadata": {}
  },
  {
   "cell_type": "code",
   "execution_count": 12,
   "source": [
    "height = int(input('Enter the triangle height: ')) + 1\r\n",
    "for i in range(1, height): print('*' * i)"
   ],
   "outputs": [
    {
     "output_type": "stream",
     "name": "stdout",
     "text": [
      "*\n",
      "**\n",
      "***\n",
      "****\n",
      "*****\n"
     ]
    }
   ],
   "metadata": {}
  },
  {
   "cell_type": "markdown",
   "source": [
    "### 3.2 Generate a random number between 1 and 10. Ask the user to guess the number and print a message based on whether they get it right or not"
   ],
   "metadata": {}
  },
  {
   "cell_type": "code",
   "execution_count": 13,
   "source": [
    "import random\r\n",
    "rand = random.randint(1, 10)\r\n",
    "guess = int(input('Guess the number'))\r\n",
    "if guess == rand :\r\n",
    "    print('Yes, you guessed the number')\r\n",
    "else:\r\n",
    "    print('No, your guess is wrong')\r\n",
    "\r\n",
    "print('your gess is {}'.format('correct' if guess == rand else 'wrong'))"
   ],
   "outputs": [
    {
     "output_type": "stream",
     "name": "stdout",
     "text": [
      "No, your guess is wrong\n",
      "your gess is wrong\n"
     ]
    }
   ],
   "metadata": {}
  },
  {
   "cell_type": "markdown",
   "source": [
    "### 3.3 Write a program that asks the user for two numbers and prints Close if the numbers are within .001 of each other and Not close otherwise"
   ],
   "metadata": {}
  },
  {
   "cell_type": "code",
   "execution_count": 19,
   "source": [
    "num1 = float(input('Enter First Number: '))\r\n",
    "num2 = float(input('Enter Second Number: '))\r\n",
    "print(num1, num2, num1 - num2)\r\n",
    "diff = abs(int((num1 - num2) * 1000) / 1000)\r\n",
    "print(diff)\r\n",
    "print('Close' if diff <= 0.001 else 'Not Close')"
   ],
   "outputs": [
    {
     "output_type": "stream",
     "name": "stdout",
     "text": [
      "10.12 10.121 -0.0010000000000012221\n",
      "0.001\n",
      "Close\n"
     ]
    }
   ],
   "metadata": {}
  },
  {
   "cell_type": "markdown",
   "source": [
    "### 4.1 Write a program that asks the user to enter a word and prints out whether that word contains any vowels"
   ],
   "metadata": {}
  },
  {
   "cell_type": "code",
   "execution_count": 20,
   "source": [
    "word = input('Enter a word: ')\r\n",
    "for ch in word:\r\n",
    "    if ch in 'aeiouAEIOU':\r\n",
    "        print(f'{word} contains vowels')\r\n",
    "        break\r\n",
    "print(f'{word} contains NO vowels')"
   ],
   "outputs": [
    {
     "output_type": "stream",
     "name": "stdout",
     "text": [
      "rhythms contains NO vowels\n"
     ]
    }
   ],
   "metadata": {}
  },
  {
   "cell_type": "markdown",
   "source": [
    "### 4.2 Write a program that asks the user to enter two strings. The program should then check to see if the strings are of the same length. If they are not, the program should print an appropriate message and exit. If they are of the same length, the program should alternate the characters of the two strings. For example, if the user enters abcde and ABCDE the program should print out AaBbCcDdEe"
   ],
   "metadata": {}
  },
  {
   "cell_type": "code",
   "execution_count": 24,
   "source": [
    "str1 = input(\"Enter First String: \")\r\n",
    "str2 = input(\"Enter Second String: \")\r\n",
    "l1 = len(str1)\r\n",
    "l2 = len(str2)\r\n",
    "if l1 != l2:\r\n",
    "    print(f'len({str1}) = {l1} and len({str2}) = {l2}')\r\n",
    "else:\r\n",
    "    str = ''\r\n",
    "    for i in range(l1):\r\n",
    "        str += str1[i] + str2[i]\r\n",
    "    print(str1, str2, str)"
   ],
   "outputs": [
    {
     "output_type": "stream",
     "name": "stdout",
     "text": [
      "anand kumar aknuamnadr\n"
     ]
    }
   ],
   "metadata": {}
  },
  {
   "cell_type": "markdown",
   "source": [
    "### 4.3 Write a program that asks the user for a large integer and inserts commas into it according to the standard American convention for commas in large numbers. For instance, if the user enters 1000000, the output should be 1,000,000"
   ],
   "metadata": {}
  },
  {
   "cell_type": "code",
   "execution_count": 25,
   "source": [
    "num = int(input('Enter a large number: '))\r\n",
    "print(f'{num:,}')"
   ],
   "outputs": [
    {
     "output_type": "stream",
     "name": "stdout",
     "text": [
      "1,000,000\n"
     ]
    }
   ],
   "metadata": {}
  },
  {
   "cell_type": "markdown",
   "source": [
    "### 4.4 In algebraic expressions, the symbol for multiplication is often left out, as in 3x+4y or 3(x+5). Computers prefer those expressions to include the multiplication symbol, like 3*x+4*y or 3*(x+5). Write a program that asks the user for an algebraic expression and then inserts multiplication symbols where appropriate"
   ],
   "metadata": {}
  },
  {
   "cell_type": "code",
   "execution_count": 8,
   "source": [
    "expr = input('Enter a mathematical expression: ')\r\n",
    "print(expr)\r\n",
    "conv_expr = ''\r\n",
    "for i in range(len(expr)-1):\r\n",
    "    if expr[i].isalnum() and (expr[i+1].isalpha() or expr[i+1] == '('):\r\n",
    "        conv_expr += expr[i] + '*'\r\n",
    "    elif expr[i] == ')' and expr[i+1] == '(':\r\n",
    "        conv_expr += expr[i] + '*'\r\n",
    "    else:\r\n",
    "        conv_expr += expr[i]\r\n",
    "conv_expr += expr[i+1]\r\n",
    "print(conv_expr)"
   ],
   "outputs": [
    {
     "output_type": "stream",
     "name": "stdout",
     "text": [
      "(100xy + 58yz)(x + y)\n",
      "(100*x*y + 58*y*z)*(x + y)\n"
     ]
    }
   ],
   "metadata": {}
  },
  {
   "cell_type": "markdown",
   "source": [
    "### 5.1 Write a program that generates a list of 20 random numbers between 1 and 100. \r\n",
    "#### (a) Print the list. \r\n",
    "#### (b) Print the average of the elements in the list. \r\n",
    "#### (c) Print the largest and smallest values in the list. \r\n",
    "#### (d) Print the second largest and second smallest entries in the list \r\n",
    "#### (e) Print how many even numbers are in the list."
   ],
   "metadata": {}
  },
  {
   "cell_type": "code",
   "execution_count": 13,
   "source": [
    "import random\r\n",
    "num_list = [random.randint(1, 100) for i in range(20)]\r\n",
    "print(num_list)\r\n",
    "print('Average = {:.2f}'.format(sum(num_list) / 20))\r\n",
    "mn, mx = min(num_list), max(num_list)\r\n",
    "print(f'Lagrest Value = {mx} and Smallest Value = {mn}')\r\n",
    "num_set = set(num_list)\r\n",
    "num_set.remove(mn)\r\n",
    "num_set.remove(mx)\r\n",
    "mn, mx = min(num_set), max(num_set)\r\n",
    "print(f'Second Lagrest Value = {mx} and Second Smallest Value = {mn}')\r\n",
    "even_count = len([x for x in num_list if x & 1 == 0])\r\n",
    "print(f'Number of even numbers = {even_count}')"
   ],
   "outputs": [
    {
     "output_type": "stream",
     "name": "stdout",
     "text": [
      "[98, 7, 70, 80, 38, 10, 48, 27, 83, 84, 6, 39, 18, 50, 52, 94, 28, 41, 63, 56]\n",
      "Average = 49.60\n",
      "Lagrest Value = 98 and Smallest Value = 6\n",
      "Second Lagrest Value = 94 and Second Smallest Value = 7\n",
      "Number of even numbers = 14\n"
     ]
    }
   ],
   "metadata": {}
  },
  {
   "cell_type": "markdown",
   "source": [
    "### 5.2 Write a program that asks the user for an integer and creates a list that consists of the factors of that integer"
   ],
   "metadata": {}
  },
  {
   "cell_type": "code",
   "execution_count": 16,
   "source": [
    "import math\r\n",
    "num = int(input('Enter an Integer value: '))\r\n",
    "factors = [1, num]\r\n",
    "ci = 1\r\n",
    "for i in range(2, int(math.sqrt(num)) + 1):\r\n",
    "    if num % i == 0:\r\n",
    "        d = num // i\r\n",
    "        factors.insert(ci, i)\r\n",
    "        if d != i:\r\n",
    "            ci += 1\r\n",
    "            factors.insert(ci, d)\r\n",
    "print(num)\r\n",
    "print(*factors)"
   ],
   "outputs": [
    {
     "output_type": "stream",
     "name": "stdout",
     "text": [
      "80\n",
      "1 2 4 5 8 10 16 20 40 80\n"
     ]
    }
   ],
   "metadata": {}
  },
  {
   "cell_type": "markdown",
   "source": [
    "### 5.3 Write a program that generates 100 random integers that are either 0 or 1. Then find the longest run of zeros in a row. For instance, the longest run of zeros in [1,0,1,1,0,0,0,0,1,0,0] is 4"
   ],
   "metadata": {}
  },
  {
   "cell_type": "code",
   "execution_count": 21,
   "source": [
    "import random\r\n",
    "\r\n",
    "def longest_zero_runlength(bin_list):\r\n",
    "    mrl = 0\r\n",
    "    rl = 0\r\n",
    "    p = 1\r\n",
    "    for x in bin_list:\r\n",
    "        if x == 0:\r\n",
    "            if p == 0:\r\n",
    "                rl += 1\r\n",
    "            else:\r\n",
    "                rl = 1\r\n",
    "                p = 0\r\n",
    "        elif p == 0:\r\n",
    "            mrl = max(mrl, rl)\r\n",
    "            p = 1\r\n",
    "    return mrl\r\n",
    "\r\n",
    "bin_list = [random.randint(0,1) for x in range(100)]\r\n",
    "print(bin_list)\r\n",
    "print(f'Longest run of zeros = {longest_zero_runlength(bin_list)}')"
   ],
   "outputs": [
    {
     "output_type": "stream",
     "name": "stdout",
     "text": [
      "[1, 1, 0, 1, 0, 1, 0, 1, 0, 0, 1, 1, 0, 0, 0, 0, 1, 0, 0, 0, 1, 0, 1, 1, 0, 0, 0, 1, 0, 1, 0, 0, 0, 1, 1, 1, 1, 1, 1, 1, 1, 1, 0, 0, 1, 1, 0, 1, 0, 1, 1, 0, 1, 1, 0, 0, 1, 1, 0, 1, 1, 0, 1, 1, 1, 1, 0, 1, 0, 1, 1, 1, 0, 0, 0, 0, 0, 0, 1, 1, 0, 1, 0, 0, 0, 1, 1, 0, 1, 0, 1, 0, 1, 1, 1, 0, 1, 0, 1, 1]\n",
      "Longest run of zeros = 6\n"
     ]
    }
   ],
   "metadata": {}
  },
  {
   "cell_type": "markdown",
   "source": [
    "### 6.1 Write a program that removes any repeated items from a list so that each item appears at most once. For instance, the list [1,1,2,3,4,3,0,0] would become [1,2,3,4,0]"
   ],
   "metadata": {}
  },
  {
   "cell_type": "code",
   "execution_count": 23,
   "source": [
    "list_with_dups = [1,2,1,3,4,3,0,2,0]\r\n",
    "list_without_dups_no_input_order = list(set(list_with_dups))\r\n",
    "print(*list_with_dups)\r\n",
    "print(*list_without_dups_no_input_order)\r\n",
    "list_without_dups = dict.fromkeys(list_with_dups)\r\n",
    "print(*list_without_dups)"
   ],
   "outputs": [
    {
     "output_type": "stream",
     "name": "stdout",
     "text": [
      "1 2 1 3 4 3 0 2 0\n",
      "0 1 2 3 4\n",
      "1 2 3 4 0\n"
     ]
    }
   ],
   "metadata": {}
  },
  {
   "cell_type": "markdown",
   "source": [
    "### 6.2 Write a program that asks the user to enter a length in feet. The program should then give the user the option to convert from feet into inches, yards, miles, millimeters, centimeters, meters, or kilometers. Say if the user enters a 1, then the program converts to inches, if they enter a 2, then the program converts to yards, etc. While this can be done with if statements,it is much shorter with lists and it is also easier to add new conversions if you use lists"
   ],
   "metadata": {}
  },
  {
   "cell_type": "code",
   "execution_count": 26,
   "source": [
    "units = ['inches', 'yards', 'miles', 'millimeters', 'centimeters', 'meters', 'kilometers']\r\n",
    "conv_from_feet = [12, 0.33333, 0.000189393939, 304.8, 30.48, 0.3048, 0.0003048]\r\n",
    "feets = float(input('Enter length in feets: '))\r\n",
    "for i, v in enumerate(units):\r\n",
    "    print(f'Enter {i + 1} to convert feets to {v}')\r\n",
    "i = int(input('Enter your choice')) - 1\r\n",
    "print(f'The length in {units[i]} = {feets * conv_from_feet[i]}')"
   ],
   "outputs": [
    {
     "output_type": "stream",
     "name": "stdout",
     "text": [
      "Enter 1 to convert feets to inches\n",
      "Enter 2 to convert feets to yards\n",
      "Enter 3 to convert feets to miles\n",
      "Enter 4 to convert feets to millimeters\n",
      "Enter 5 to convert feets to centimeters\n",
      "Enter 6 to convert feets to meters\n",
      "Enter 7 to convert feets to kilometers\n",
      "The length in meters = 3.048\n"
     ]
    }
   ],
   "metadata": {}
  },
  {
   "cell_type": "markdown",
   "source": [
    "### 6.3 Write a python script to perform following operations:\r\n",
    "#### i) Create a matrix and print it \r\n",
    "#### ii) Perform Addition of 2 matrices\r\n",
    "#### iii)Perform multiplication of 2 matrices"
   ],
   "metadata": {}
  },
  {
   "cell_type": "code",
   "execution_count": 4,
   "source": [
    "def create_matrix(rows, cols):\r\n",
    "    matrix = []\r\n",
    "    for r in range(rows):\r\n",
    "        row = []\r\n",
    "        for c in range(cols):\r\n",
    "            v = int(input(f'Enter element at row {r}, column {c} :'))\r\n",
    "            row.append(v)\r\n",
    "        matrix.append(row)\r\n",
    "    return matrix\r\n",
    "\r\n",
    "def mat_add(first, second):\r\n",
    "    matrix = []\r\n",
    "    if len(first) == len(second) and len(first[0]) == len(second[0]):\r\n",
    "        matrix = [[first[i][j] + second[i][j]  for j in range(len(first[0]))] for i in range(len(first))]\r\n",
    "    return matrix\r\n",
    "\r\n",
    "def mat_mul(first, second):\r\n",
    "    matrix = []\r\n",
    "    if len(first[0]) == len(second):\r\n",
    "        matrix = [[sum(a*b for a, b in zip(row, col)) for col in zip(*second)] for row in first]\r\n",
    "    return matrix\r\n",
    "\r\n",
    "def disp(matrix):\r\n",
    "    for row in matrix:\r\n",
    "        for val in row:\r\n",
    "            print(f'{val:3d}', end=' ')\r\n",
    "        print()\r\n",
    "\r\n",
    "rows = int(input('Enter number of rows: '))\r\n",
    "cols = int(input('Enter number of columns: '))\r\n",
    "mat1 = create_matrix(rows, cols)\r\n",
    "mat2 = create_matrix(rows, cols)\r\n",
    "res = mat_add(mat1, mat2)\r\n",
    "disp(res)\r\n",
    "print('-----------------')\r\n",
    "res = mat_mul(mat1, mat2)\r\n",
    "disp(res)"
   ],
   "outputs": [
    {
     "output_type": "stream",
     "name": "stdout",
     "text": [
      "  5   5 \n",
      "  5   5 \n",
      "  8   5 \n",
      " 20  13 \n"
     ]
    }
   ],
   "metadata": {}
  },
  {
   "cell_type": "markdown",
   "source": [
    "### 7.1 Write a function called sum_digits that is given an integer num and returns the sum of the digits of num"
   ],
   "metadata": {}
  },
  {
   "cell_type": "code",
   "execution_count": 2,
   "source": [
    "def sum_digits(num):\r\n",
    "    digits = [int(d) for d in str(num)]\r\n",
    "    return sum(digits)\r\n",
    "\r\n",
    "print(sum_digits(123))"
   ],
   "outputs": [
    {
     "output_type": "stream",
     "name": "stdout",
     "text": [
      "6\n"
     ]
    }
   ],
   "metadata": {}
  },
  {
   "cell_type": "markdown",
   "source": [
    "### 7.2 Write a function called first_diff that is given two strings and returns the first location in which the strings differ. If the strings are identical, it should return -1"
   ],
   "metadata": {}
  },
  {
   "cell_type": "code",
   "execution_count": 3,
   "source": [
    "def first_diff(str1, str2):\r\n",
    "    ms = min(len(str1), len(str2))\r\n",
    "    for i in range(ms):\r\n",
    "        if str1[i] != str2[i]: return i\r\n",
    "    return -1\r\n",
    "\r\n",
    "print(first_diff('anand', 'anand'))\r\n",
    "print(first_diff('anand', 'ananth'))"
   ],
   "outputs": [
    {
     "output_type": "stream",
     "name": "stdout",
     "text": [
      "-1\n",
      "4\n"
     ]
    }
   ],
   "metadata": {}
  },
  {
   "cell_type": "markdown",
   "source": [
    "### 7.3 Write a function called number_of_factors that takes an integer and returns how many factors the number has"
   ],
   "metadata": {}
  },
  {
   "cell_type": "code",
   "execution_count": 4,
   "source": [
    "import math\r\n",
    "\r\n",
    "def number_of_factors(num):\r\n",
    "    count = 2\r\n",
    "    for i in range(2, int(math.sqrt(num)) + 1):\r\n",
    "        if num % i == 0:\r\n",
    "            count += 1 if num // i == i else 2\r\n",
    "    return count if num > 2 else num\r\n",
    "\r\n",
    "print(number_of_factors(1))\r\n",
    "print(number_of_factors(2))\r\n",
    "print(number_of_factors(12))"
   ],
   "outputs": [
    {
     "output_type": "stream",
     "name": "stdout",
     "text": [
      "1\n",
      "2\n",
      "6\n"
     ]
    }
   ],
   "metadata": {}
  },
  {
   "cell_type": "markdown",
   "source": [
    "### 7.4 Write a function called is_sorted that is given a list and returns True if the list is sorted and False otherwise"
   ],
   "metadata": {}
  },
  {
   "cell_type": "code",
   "execution_count": 4,
   "source": [
    "def is_sorted(nums):\r\n",
    "    if len(nums) <= 1:\r\n",
    "        return True\r\n",
    "    else:\r\n",
    "        desc = True if nums[0] > nums[1] else False\r\n",
    "        if desc:\r\n",
    "            for i in range(1, len(nums) - 1):\r\n",
    "                if nums[i] < nums[i+1]: return False\r\n",
    "            return True\r\n",
    "        else:\r\n",
    "            for i in range(1, len(nums) - 1):\r\n",
    "                if nums[i] > nums[i+1]: return False\r\n",
    "            return True\r\n",
    "\r\n",
    "print(is_sorted([]))\r\n",
    "print(is_sorted([1]))\r\n",
    "print(is_sorted([1, 2, 3]))\r\n",
    "print(is_sorted([3, 2, 1]))\r\n",
    "print(is_sorted([1, 3, 2]))"
   ],
   "outputs": [
    {
     "output_type": "stream",
     "name": "stdout",
     "text": [
      "True\n",
      "True\n",
      "True\n",
      "True\n",
      "False\n"
     ]
    }
   ],
   "metadata": {}
  },
  {
   "cell_type": "markdown",
   "source": [
    "### 8.1 Write a function called root that is given a number x and an integer n and returns x1/n . In the function definition, set the default value of n to 2"
   ],
   "metadata": {}
  },
  {
   "cell_type": "code",
   "execution_count": 10,
   "source": [
    "def root(x, n = 2, /):\r\n",
    "    return round(x ** (1/n), 3)\r\n",
    "\r\n",
    "print(root(4,2))\r\n",
    "print(root(81,4))\r\n",
    "print(root(2))"
   ],
   "outputs": [
    {
     "output_type": "stream",
     "name": "stdout",
     "text": [
      "2.0\n",
      "3.0\n",
      "1.414\n"
     ]
    }
   ],
   "metadata": {}
  },
  {
   "cell_type": "markdown",
   "source": [
    "### 8.2 Write a function called primes that is given a number n and returns a list of the first n primes. Let the default value of n be 100"
   ],
   "metadata": {}
  },
  {
   "cell_type": "code",
   "execution_count": 8,
   "source": [
    "import math\r\n",
    "def is_prime(n):\r\n",
    "    for k in range(2, int(math.sqrt(n)) + 1):\r\n",
    "        if n % k == 0: return False\r\n",
    "    return True\r\n",
    "\r\n",
    "def primes(n=100):\r\n",
    "    if n == 0: return []\r\n",
    "    elif n == 1: return [2]\r\n",
    "    else:\r\n",
    "        primes = [2]\r\n",
    "        k = 3\r\n",
    "        while n > 1:\r\n",
    "            if is_prime(k):\r\n",
    "                primes.append(k)\r\n",
    "                n -= 1\r\n",
    "            k += 2\r\n",
    "    return primes\r\n",
    "\r\n",
    "print(primes(0))\r\n",
    "print(primes(1))\r\n",
    "print(primes(10))"
   ],
   "outputs": [
    {
     "output_type": "stream",
     "name": "stdout",
     "text": [
      "[]\n",
      "[2]\n",
      "[2, 3, 5, 7, 11, 13, 17, 19, 23, 29]\n"
     ]
    }
   ],
   "metadata": {}
  },
  {
   "cell_type": "markdown",
   "source": [
    "### 8.3 Write a function called merge that takes two already sorted lists of possibly different lengths, and merges them into a single sorted list\r\n",
    "### a) Using sort method  b) without using sort method"
   ],
   "metadata": {}
  },
  {
   "cell_type": "code",
   "execution_count": 15,
   "source": [
    "def merge1(lst1, lst2):\r\n",
    "    return sorted(lst1 + lst2)\r\n",
    "\r\n",
    "def merge2(lst1, lst2):\r\n",
    "    l1 = len(lst1)\r\n",
    "    l2 = len(lst2)\r\n",
    "    i1 = 0\r\n",
    "    i2 = 0\r\n",
    "    res = []\r\n",
    "    while i1 < l1 and i2 < l2:\r\n",
    "        if lst1[i1] <= lst2[i2]:\r\n",
    "            res.append(lst1[i1])\r\n",
    "            i1 += 1\r\n",
    "        else:\r\n",
    "            res.append(lst2[i2])\r\n",
    "            i2 += 1\r\n",
    "    \r\n",
    "    while i1 < l1:\r\n",
    "        res.append(lst1[i1])\r\n",
    "        i1 += 1\r\n",
    "\r\n",
    "    while i2 < l2:\r\n",
    "        res.append(lst2[i2])\r\n",
    "        i2 += 1\r\n",
    "    \r\n",
    "    return res\r\n",
    "\r\n",
    "print(merge1([1,3,5], [2,4,6]))\r\n",
    "print(merge2([1,3,5], [2,4,6]))\r\n",
    "print(merge2([1,3,5], [2,4,6,7,8]))\r\n",
    "print(merge2([1,3,5], [2]))"
   ],
   "outputs": [
    {
     "output_type": "stream",
     "name": "stdout",
     "text": [
      "[1, 2, 3, 4, 5, 6]\n",
      "[1, 2, 3, 4, 5, 6]\n",
      "[1, 2, 3, 4, 5, 6, 7, 8]\n",
      "[1, 2, 3, 5]\n"
     ]
    }
   ],
   "metadata": {}
  },
  {
   "cell_type": "markdown",
   "source": [
    "### 8.4 Write a program that asks the user for a word and finds all the smaller words that can be made from the letters of that word. The number of occurrences of a letter in a smaller word can’t exceed the number of occurrences of the letter in the user’s word"
   ],
   "metadata": {}
  },
  {
   "cell_type": "code",
   "execution_count": 20,
   "source": [
    "from itertools import permutations\r\n",
    "\r\n",
    "def powerset(word):\r\n",
    "    for i in range(0, len(word) + 1):\r\n",
    "        for p in permutations(word, i):\r\n",
    "            print(''.join(p), end=' ')\r\n",
    "\r\n",
    "powerset('and')"
   ],
   "outputs": [
    {
     "output_type": "stream",
     "name": "stdout",
     "text": [
      " a n d an ad na nd da dn and adn nad nda dan dna "
     ]
    }
   ],
   "metadata": {}
  },
  {
   "cell_type": "markdown",
   "source": [
    "### 9.1 Write a program that reads a file consisting of email addresses, each on its own line. Your program should print out a string consisting of those email addresses separated by semicolons"
   ],
   "metadata": {}
  },
  {
   "cell_type": "code",
   "execution_count": 29,
   "source": [
    "with open('emails.txt') as f:\r\n",
    "    lines = [x.strip() for x in f.readlines()]\r\n",
    "    print(*lines, sep=';', end=' ')"
   ],
   "outputs": [
    {
     "output_type": "stream",
     "name": "stdout",
     "text": [
      "akkinjarapu@gmail.com;anandakumark@aec.edu.in;venkateshm@aec.edu.in "
     ]
    }
   ],
   "metadata": {}
  },
  {
   "cell_type": "markdown",
   "source": [
    "### 9.2 Write a program that reads a list of temperatures from a file called temps.txt, converts those temperatures to Fahrenheit, and writes the results to a file called ftemps.txt"
   ],
   "metadata": {}
  },
  {
   "cell_type": "code",
   "execution_count": 31,
   "source": [
    "with open('ctemps.txt') as f1, open('ftemps.txt', 'w') as f2:\r\n",
    "    f2.writelines([str(int(ct.strip()) * 9 / 5 +32) + '\\n' for ct in f1.readlines()])"
   ],
   "outputs": [],
   "metadata": {}
  },
  {
   "cell_type": "markdown",
   "source": [
    "### 9.3 Write a program to count frequency of characters in a given file"
   ],
   "metadata": {}
  },
  {
   "cell_type": "code",
   "execution_count": 32,
   "source": [
    "fc = {}\r\n",
    "with open('emails.txt') as f:\r\n",
    "    for ch in f.read():\r\n",
    "        if ch.isprintable():\r\n",
    "            fc[ch] = fc.get(ch, 0) + 1\r\n",
    "print(fc)"
   ],
   "outputs": [
    {
     "output_type": "stream",
     "name": "stdout",
     "text": [
      "{'a': 11, 'k': 5, 'i': 4, 'n': 6, 'j': 1, 'r': 2, 'p': 1, 'u': 4, '@': 3, 'g': 1, 'm': 4, 'l': 1, '.': 5, 'c': 3, 'o': 1, 'd': 3, 'e': 6, 'v': 1, 't': 1, 's': 1, 'h': 1}\n"
     ]
    }
   ],
   "metadata": {}
  },
  {
   "cell_type": "markdown",
   "source": [
    "### 10.1 Write a class called Product. The class should have fields called name, amount, and price, holding the product’s name, the number of items of that product in stock, and the regular price of the product. There should be a method get_price that receives the number of items to be bought and returns a the cost of buying that many items, where the regular price is charged for orders of less than 10 items, a 10% discount is applied for orders of between 10 and 99 items, and a 20% discount is applied for orders of 100 or more items. There should also be a method called make_purchase that receives the number of items to be bought and decreases amount by that much"
   ],
   "metadata": {}
  },
  {
   "cell_type": "code",
   "execution_count": 33,
   "source": [
    "class Product:\r\n",
    "    def __init__(self, name, amount, price) -> None:\r\n",
    "        self.name = name\r\n",
    "        self.amount = amount\r\n",
    "        self.price = price\r\n",
    "\r\n",
    "    def get_price(self, qty):\r\n",
    "        if qty >= 100:\r\n",
    "            return self.price * 8 / 10\r\n",
    "        elif qty >= 10:\r\n",
    "            return self.price * 9 / 10\r\n",
    "        else:\r\n",
    "            return self.price\r\n",
    "\r\n",
    "    def make_purchase(self, qty):\r\n",
    "        self.amount = max(0, self.amount - qty)\r\n",
    "\r\n",
    "    def __str__(self) -> str:\r\n",
    "        return f'Product[{self.amount} {self.name} available @{self.price}]'\r\n",
    "\r\n",
    "p = Product('custard apple', 200, 25)\r\n",
    "print(p)\r\n",
    "print(p.get_price(4))\r\n",
    "print(p.get_price(25))\r\n",
    "print(p.get_price(150))\r\n",
    "p.make_purchase(25)\r\n",
    "print(p)"
   ],
   "outputs": [
    {
     "output_type": "stream",
     "name": "stdout",
     "text": [
      "Product[200 custard apple available @25]\n",
      "25\n",
      "22.5\n",
      "20.0\n",
      "Product[175 custard apple available @25]\n"
     ]
    }
   ],
   "metadata": {}
  },
  {
   "cell_type": "markdown",
   "source": [
    "### 10.2 Write a class called Time whose only field is a time in seconds. It should have a method called convert_to_minutes that returns a string of minutes and seconds formatted as in the following example: if seconds is 230, the method should return '5:50'. It should also have a method called convert_to_hours that returns a string of hours, minutes, and seconds formatted analogously to the previous method"
   ],
   "metadata": {}
  },
  {
   "cell_type": "code",
   "execution_count": 39,
   "source": [
    "class Time:\r\n",
    "    def __init__(self, seconds):\r\n",
    "        self.seconds = seconds\r\n",
    "\r\n",
    "    def convert_to_minites(self):\r\n",
    "        return f'{self.seconds // 60}:{self.seconds % 60}'\r\n",
    "\r\n",
    "    def convert_to_hours(self):\r\n",
    "        hours = self.seconds // 3600\r\n",
    "        rem_seconds = self.seconds - (hours) * 3600\r\n",
    "        return f'{hours:02d}:{rem_seconds // 60:02d}:{rem_seconds % 60:02d}'\r\n",
    "\r\n",
    "t = Time(230)\r\n",
    "print(t.convert_to_minites())\r\n",
    "print(t.convert_to_hours())"
   ],
   "outputs": [
    {
     "output_type": "stream",
     "name": "stdout",
     "text": [
      "3:50\n",
      "00:03:50\n"
     ]
    }
   ],
   "metadata": {}
  },
  {
   "cell_type": "markdown",
   "source": [
    "### 10.3 Write a class called Converter. The user will pass a length and a unit when declaring an object from the class—for example, c = Converter(9,'inches'). The possible units are inches, feet, yards, miles, kilometers, meters, centimeters, and millimeters. For each of these units there should be a method that returns the length converted into those units. For example, using the Converter object created above, the user could call c.feet() and should get 0.75 as the result"
   ],
   "metadata": {}
  },
  {
   "cell_type": "code",
   "execution_count": 6,
   "source": [
    "class Converter:\r\n",
    "    def __init__(self, length, units) -> None:\r\n",
    "        self.length = length\r\n",
    "        self.units = units\r\n",
    "        self.convertions = {'miles' : 1, 'yards': 1760, 'feet': 5280, \r\n",
    "                            'inches' : 63360, 'kilometers': 1.60934, \r\n",
    "                            'meters': 1609.34, 'centimeters': 160934, 'millimeters': 1609340}\r\n",
    "\r\n",
    "    def inches(self):\r\n",
    "        return self.length * self.convertions.get('inches') / self.convertions.get(self.units)\r\n",
    "\r\n",
    "    def feet(self):\r\n",
    "        return self.length * self.convertions.get('feet') / self.convertions.get(self.units)\r\n",
    "\r\n",
    "    def yards(self):\r\n",
    "        return self.length * self.convertions.get('yards') / self.convertions.get(self.units)\r\n",
    "\r\n",
    "    def miles(self):\r\n",
    "        return self.length * self.convertions.get('miles') / self.convertions.get(self.units)\r\n",
    "\r\n",
    "    def kilometers(self):\r\n",
    "        return self.length * self.convertions.get('kilometers') / self.convertions.get(self.units)\r\n",
    "\r\n",
    "    def meters(self):\r\n",
    "        return self.length * self.convertions.get('meters') / self.convertions.get(self.units)\r\n",
    "\r\n",
    "    def centimeters(self):\r\n",
    "        return self.length * self.convertions.get('centimeters') / self.convertions.get(self.units)\r\n",
    "\r\n",
    "    def millimeters(self):\r\n",
    "        return self.length * self.convertions.get('millimeters') / self.convertions.get(self.units)\r\n",
    "\r\n",
    "c = Converter(10, 'kilometers')\r\n",
    "print(c.inches())\r\n",
    "print(c.feet())\r\n",
    "print(c.yards())\r\n",
    "print(c.miles())\r\n",
    "print(c.meters())\r\n",
    "print(c.centimeters())\r\n",
    "print(c.millimeters())"
   ],
   "outputs": [
    {
     "output_type": "stream",
     "name": "stdout",
     "text": [
      "393701.76594131754\n",
      "32808.4804951098\n",
      "10936.1601650366\n",
      "6.213727366498068\n",
      "10000.0\n",
      "1000000.0\n",
      "10000000.0\n"
     ]
    }
   ],
   "metadata": {}
  },
  {
   "cell_type": "markdown",
   "source": [
    "### 11.1 Write a Python class to implement pow(x, n)"
   ],
   "metadata": {}
  },
  {
   "cell_type": "code",
   "execution_count": 24,
   "source": [
    "class Power:\r\n",
    "    @classmethod\r\n",
    "    def pow(self, x, n):\r\n",
    "        if n == 0: return 1\r\n",
    "        p = 1\r\n",
    "        while(n > 0):\r\n",
    "            if n & 1: p *= x\r\n",
    "            n >>= 1\r\n",
    "            x *= x\r\n",
    "\r\n",
    "        return p\r\n",
    "\r\n",
    "    @classmethod\r\n",
    "    def rpow(self, x, n):\r\n",
    "        if n == 0: return 1\r\n",
    "        elif n == 1: return x\r\n",
    "        v = self.rpow(x, n >> 1)\r\n",
    "        if n & 1 == 1: return v * v * x\r\n",
    "        else: return v * v\r\n",
    "\r\n",
    "print(Power.pow(3, 0))\r\n",
    "print(Power.pow(3, 1))\r\n",
    "print(Power.pow(3, 4))\r\n",
    "print(Power.pow(2, 7))\r\n",
    "print(Power.rpow(2, 7))"
   ],
   "outputs": [
    {
     "output_type": "stream",
     "name": "stdout",
     "text": [
      "1\n",
      "3\n",
      "81\n",
      "128\n",
      "128\n"
     ]
    }
   ],
   "metadata": {}
  },
  {
   "cell_type": "markdown",
   "source": [
    "### 11.2 Write a Python class to reverse a string word by word"
   ],
   "metadata": {}
  },
  {
   "cell_type": "code",
   "execution_count": null,
   "source": [
    "class ReverseWords:\r\n",
    "    @classmethod\r\n",
    "    def reverse(self, line):\r\n",
    "        return ' '.join(reversed(line.split()))\r\n",
    "\r\n",
    "print(ReverseWords.reverse('Welcome to python programming'))"
   ],
   "outputs": [],
   "metadata": {}
  }
 ],
 "metadata": {
  "orig_nbformat": 4,
  "language_info": {
   "name": "python",
   "version": "3.9.5",
   "mimetype": "text/x-python",
   "codemirror_mode": {
    "name": "ipython",
    "version": 3
   },
   "pygments_lexer": "ipython3",
   "nbconvert_exporter": "python",
   "file_extension": ".py"
  },
  "kernelspec": {
   "name": "python3",
   "display_name": "Python 3.9.5 64-bit"
  },
  "interpreter": {
   "hash": "ac59ebe37160ed0dfa835113d9b8498d9f09ceb179beaac4002f036b9467c963"
  }
 },
 "nbformat": 4,
 "nbformat_minor": 2
}