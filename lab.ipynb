{
 "cells": [
  {
   "cell_type": "markdown",
   "source": [
    "### 1.1 Write a program that asks the user for a weight in kilograms and converts it to pounds. There are 2.2 pounds in a kilogram"
   ],
   "metadata": {}
  },
  {
   "cell_type": "code",
   "execution_count": 3,
   "source": [
    "kilograms = float(input('Enter weight in Kilograms: '))\r\n",
    "pounds = kilograms * 2.2\r\n",
    "print(f'{kilograms} Kilograms = {pounds} Pounds')"
   ],
   "outputs": [
    {
     "output_type": "stream",
     "name": "stdout",
     "text": [
      "10.0 Kilograms = 22.0 Pounds\n"
     ]
    }
   ],
   "metadata": {}
  },
  {
   "cell_type": "markdown",
   "source": [
    "### 1.2 Write a program that asks the user to enter three numbers (use three separate input statements). Create variables called total and average that hold the sum and average of the three numbers and print out the values of total and average"
   ],
   "metadata": {}
  },
  {
   "cell_type": "code",
   "execution_count": 4,
   "source": [
    "num1 = int(input('Enter First Number: '))\r\n",
    "num2 = int(input('Enter Second Number: '))\r\n",
    "num3 = int(input('Enter Third Number: '))\r\n",
    "total = num1 + num2 + num3\r\n",
    "average = total / 3\r\n",
    "print(f'{num1} + {num2} + {num3} = {total}')\r\n",
    "print(f'Average({num1}, {num2}, {num3}) = {average:.2f}')"
   ],
   "outputs": [
    {
     "output_type": "stream",
     "name": "stdout",
     "text": [
      "10 + 20 + 30 = 60\n",
      "Average(10, 20, 30) = 20.00\n"
     ]
    }
   ],
   "metadata": {}
  },
  {
   "cell_type": "markdown",
   "source": [
    "### 2.1 Write a program that uses a for loop to print the numbers 8, 11, 14, 17, 20, . . . , 83, 86, 89"
   ],
   "metadata": {}
  },
  {
   "cell_type": "code",
   "execution_count": 6,
   "source": [
    "for val in range(8,90,3):\r\n",
    "    print(val, end=', ')"
   ],
   "outputs": [
    {
     "output_type": "stream",
     "name": "stdout",
     "text": [
      "8, 11, 14, 17, 20, 23, 26, 29, 32, 35, 38, 41, 44, 47, 50, 53, 56, 59, 62, 65, 68, 71, 74, 77, 80, 83, 86, 89, "
     ]
    }
   ],
   "metadata": {}
  },
  {
   "cell_type": "markdown",
   "source": [
    "### 2.2 Write a program that asks the user for their name and how many times to print it. The program should print out the user’s name the specified number of times"
   ],
   "metadata": {}
  },
  {
   "cell_type": "code",
   "execution_count": 8,
   "source": [
    "name = input('Enter your name')\r\n",
    "times = int(input('Enter the number of times to repeat: '))\r\n",
    "print((name + ' ') * times)\r\n",
    "print((name + '\\n') * times)"
   ],
   "outputs": [
    {
     "output_type": "stream",
     "name": "stdout",
     "text": [
      "anand anand anand \n",
      "anand\n",
      "anand\n",
      "anand\n",
      "\n"
     ]
    }
   ],
   "metadata": {}
  },
  {
   "cell_type": "markdown",
   "source": [
    "### 3.1 Use a for loop to print a triangle like the one below. Allow the user to specify how high the triangle should be"
   ],
   "metadata": {}
  },
  {
   "cell_type": "code",
   "execution_count": 12,
   "source": [
    "height = int(input('Enter the triangle height: ')) + 1\r\n",
    "for i in range(1, height): print('*' * i)"
   ],
   "outputs": [
    {
     "output_type": "stream",
     "name": "stdout",
     "text": [
      "*\n",
      "**\n",
      "***\n",
      "****\n",
      "*****\n"
     ]
    }
   ],
   "metadata": {}
  },
  {
   "cell_type": "markdown",
   "source": [
    "### 3.2 Generate a random number between 1 and 10. Ask the user to guess the number and print a message based on whether they get it right or not"
   ],
   "metadata": {}
  },
  {
   "cell_type": "code",
   "execution_count": 13,
   "source": [
    "import random\r\n",
    "rand = random.randint(1, 10)\r\n",
    "guess = int(input('Guess the number'))\r\n",
    "if guess == rand :\r\n",
    "    print('Yes, you guessed the number')\r\n",
    "else:\r\n",
    "    print('No, your guess is wrong')\r\n",
    "\r\n",
    "print('your gess is {}'.format('correct' if guess == rand else 'wrong'))"
   ],
   "outputs": [
    {
     "output_type": "stream",
     "name": "stdout",
     "text": [
      "No, your guess is wrong\n",
      "your gess is wrong\n"
     ]
    }
   ],
   "metadata": {}
  },
  {
   "cell_type": "markdown",
   "source": [
    "### 3.3 Write a program that asks the user for two numbers and prints Close if the numbers are within .001 of each other and Not close otherwise"
   ],
   "metadata": {}
  },
  {
   "cell_type": "code",
   "execution_count": 19,
   "source": [
    "num1 = float(input('Enter First Number: '))\r\n",
    "num2 = float(input('Enter Second Number: '))\r\n",
    "print(num1, num2, num1 - num2)\r\n",
    "diff = abs(int((num1 - num2) * 1000) / 1000)\r\n",
    "print(diff)\r\n",
    "print('Close' if diff <= 0.001 else 'Not Close')"
   ],
   "outputs": [
    {
     "output_type": "stream",
     "name": "stdout",
     "text": [
      "10.12 10.121 -0.0010000000000012221\n",
      "0.001\n",
      "Close\n"
     ]
    }
   ],
   "metadata": {}
  },
  {
   "cell_type": "markdown",
   "source": [
    "### 4.1 Write a program that asks the user to enter a word and prints out whether that word contains any vowels"
   ],
   "metadata": {}
  },
  {
   "cell_type": "code",
   "execution_count": 20,
   "source": [
    "word = input('Enter a word: ')\r\n",
    "for ch in word:\r\n",
    "    if ch in 'aeiouAEIOU':\r\n",
    "        print(f'{word} contains vowels')\r\n",
    "        break\r\n",
    "print(f'{word} contains NO vowels')"
   ],
   "outputs": [
    {
     "output_type": "stream",
     "name": "stdout",
     "text": [
      "rhythms contains NO vowels\n"
     ]
    }
   ],
   "metadata": {}
  },
  {
   "cell_type": "markdown",
   "source": [
    "### 4.2 Write a program that asks the user to enter two strings. The program should then check to see if the strings are of the same length. If they are not, the program should print an appropriate message and exit. If they are of the same length, the program should alternate the characters of the two strings. For example, if the user enters abcde and ABCDE the program should print out AaBbCcDdEe"
   ],
   "metadata": {}
  },
  {
   "cell_type": "code",
   "execution_count": 24,
   "source": [
    "str1 = input(\"Enter First String: \")\r\n",
    "str2 = input(\"Enter Second String: \")\r\n",
    "l1 = len(str1)\r\n",
    "l2 = len(str2)\r\n",
    "if l1 != l2:\r\n",
    "    print(f'len({str1}) = {l1} and len({str2}) = {l2}')\r\n",
    "else:\r\n",
    "    str = ''\r\n",
    "    for i in range(l1):\r\n",
    "        str += str1[i] + str2[i]\r\n",
    "    print(str1, str2, str)"
   ],
   "outputs": [
    {
     "output_type": "stream",
     "name": "stdout",
     "text": [
      "anand kumar aknuamnadr\n"
     ]
    }
   ],
   "metadata": {}
  },
  {
   "cell_type": "markdown",
   "source": [
    "### 4.3 Write a program that asks the user for a large integer and inserts commas into it according to the standard American convention for commas in large numbers. For instance, if the user enters 1000000, the output should be 1,000,000"
   ],
   "metadata": {}
  },
  {
   "cell_type": "code",
   "execution_count": 25,
   "source": [
    "num = int(input('Enter a large number: '))\r\n",
    "print(f'{num:,}')"
   ],
   "outputs": [
    {
     "output_type": "stream",
     "name": "stdout",
     "text": [
      "1,000,000\n"
     ]
    }
   ],
   "metadata": {}
  },
  {
   "cell_type": "markdown",
   "source": [
    "### 4.4 In algebraic expressions, the symbol for multiplication is often left out, as in 3x+4y or 3(x+5). Computers prefer those expressions to include the multiplication symbol, like 3*x+4*y or 3*(x+5). Write a program that asks the user for an algebraic expression and then inserts multiplication symbols where appropriate"
   ],
   "metadata": {}
  },
  {
   "cell_type": "code",
   "execution_count": 8,
   "source": [
    "expr = input('Enter a mathematical expression: ')\r\n",
    "print(expr)\r\n",
    "conv_expr = ''\r\n",
    "for i in range(len(expr)-1):\r\n",
    "    if expr[i].isalnum() and (expr[i+1].isalpha() or expr[i+1] == '('):\r\n",
    "        conv_expr += expr[i] + '*'\r\n",
    "    elif expr[i] == ')' and expr[i+1] == '(':\r\n",
    "        conv_expr += expr[i] + '*'\r\n",
    "    else:\r\n",
    "        conv_expr += expr[i]\r\n",
    "conv_expr += expr[i+1]\r\n",
    "print(conv_expr)"
   ],
   "outputs": [
    {
     "output_type": "stream",
     "name": "stdout",
     "text": [
      "(100xy + 58yz)(x + y)\n",
      "(100*x*y + 58*y*z)*(x + y)\n"
     ]
    }
   ],
   "metadata": {}
  },
  {
   "cell_type": "markdown",
   "source": [
    "### 5.1 Write a program that generates a list of 20 random numbers between 1 and 100. \r\n",
    "#### (a) Print the list. \r\n",
    "#### (b) Print the average of the elements in the list. \r\n",
    "#### (c) Print the largest and smallest values in the list. \r\n",
    "#### (d) Print the second largest and second smallest entries in the list \r\n",
    "#### (e) Print how many even numbers are in the list."
   ],
   "metadata": {}
  },
  {
   "cell_type": "code",
   "execution_count": 13,
   "source": [
    "import random\r\n",
    "num_list = [random.randint(1, 100) for i in range(20)]\r\n",
    "print(num_list)\r\n",
    "print('Average = {:.2f}'.format(sum(num_list) / 20))\r\n",
    "mn, mx = min(num_list), max(num_list)\r\n",
    "print(f'Lagrest Value = {mx} and Smallest Value = {mn}')\r\n",
    "num_set = set(num_list)\r\n",
    "num_set.remove(mn)\r\n",
    "num_set.remove(mx)\r\n",
    "mn, mx = min(num_set), max(num_set)\r\n",
    "print(f'Second Lagrest Value = {mx} and Second Smallest Value = {mn}')\r\n",
    "even_count = len([x for x in num_list if x & 1 == 0])\r\n",
    "print(f'Number of even numbers = {even_count}')"
   ],
   "outputs": [
    {
     "output_type": "stream",
     "name": "stdout",
     "text": [
      "[98, 7, 70, 80, 38, 10, 48, 27, 83, 84, 6, 39, 18, 50, 52, 94, 28, 41, 63, 56]\n",
      "Average = 49.60\n",
      "Lagrest Value = 98 and Smallest Value = 6\n",
      "Second Lagrest Value = 94 and Second Smallest Value = 7\n",
      "Number of even numbers = 14\n"
     ]
    }
   ],
   "metadata": {}
  },
  {
   "cell_type": "markdown",
   "source": [
    "### 5.2 Write a program that asks the user for an integer and creates a list that consists of the factors of that integer"
   ],
   "metadata": {}
  },
  {
   "cell_type": "code",
   "execution_count": 16,
   "source": [
    "import math\r\n",
    "num = int(input('Enter an Integer value: '))\r\n",
    "factors = [1, num]\r\n",
    "ci = 1\r\n",
    "for i in range(2, int(math.sqrt(num)) + 1):\r\n",
    "    if num % i == 0:\r\n",
    "        d = num // i\r\n",
    "        factors.insert(ci, i)\r\n",
    "        if d != i:\r\n",
    "            ci += 1\r\n",
    "            factors.insert(ci, d)\r\n",
    "print(num)\r\n",
    "print(*factors)"
   ],
   "outputs": [
    {
     "output_type": "stream",
     "name": "stdout",
     "text": [
      "80\n",
      "1 2 4 5 8 10 16 20 40 80\n"
     ]
    }
   ],
   "metadata": {}
  },
  {
   "cell_type": "markdown",
   "source": [
    "### 5.3 Write a program that generates 100 random integers that are either 0 or 1. Then find the longest run of zeros in a row. For instance, the longest run of zeros in [1,0,1,1,0,0,0,0,1,0,0] is 4"
   ],
   "metadata": {}
  },
  {
   "cell_type": "code",
   "execution_count": 21,
   "source": [
    "import random\r\n",
    "\r\n",
    "def longest_zero_runlength(bin_list):\r\n",
    "    mrl = 0\r\n",
    "    rl = 0\r\n",
    "    p = 1\r\n",
    "    for x in bin_list:\r\n",
    "        if x == 0:\r\n",
    "            if p == 0:\r\n",
    "                rl += 1\r\n",
    "            else:\r\n",
    "                rl = 1\r\n",
    "                p = 0\r\n",
    "        elif p == 0:\r\n",
    "            mrl = max(mrl, rl)\r\n",
    "            p = 1\r\n",
    "    return mrl\r\n",
    "\r\n",
    "bin_list = [random.randint(0,1) for x in range(100)]\r\n",
    "print(bin_list)\r\n",
    "print(f'Longest run of zeros = {longest_zero_runlength(bin_list)}')"
   ],
   "outputs": [
    {
     "output_type": "stream",
     "name": "stdout",
     "text": [
      "[1, 1, 0, 1, 0, 1, 0, 1, 0, 0, 1, 1, 0, 0, 0, 0, 1, 0, 0, 0, 1, 0, 1, 1, 0, 0, 0, 1, 0, 1, 0, 0, 0, 1, 1, 1, 1, 1, 1, 1, 1, 1, 0, 0, 1, 1, 0, 1, 0, 1, 1, 0, 1, 1, 0, 0, 1, 1, 0, 1, 1, 0, 1, 1, 1, 1, 0, 1, 0, 1, 1, 1, 0, 0, 0, 0, 0, 0, 1, 1, 0, 1, 0, 0, 0, 1, 1, 0, 1, 0, 1, 0, 1, 1, 1, 0, 1, 0, 1, 1]\n",
      "Longest run of zeros = 6\n"
     ]
    }
   ],
   "metadata": {}
  },
  {
   "cell_type": "markdown",
   "source": [
    "### 6.1 Write a program that removes any repeated items from a list so that each item appears at most once. For instance, the list [1,1,2,3,4,3,0,0] would become [1,2,3,4,0]"
   ],
   "metadata": {}
  },
  {
   "cell_type": "code",
   "execution_count": 23,
   "source": [
    "list_with_dups = [1,2,1,3,4,3,0,2,0]\r\n",
    "list_without_dups_no_input_order = list(set(list_with_dups))\r\n",
    "print(*list_with_dups)\r\n",
    "print(*list_without_dups_no_input_order)\r\n",
    "list_without_dups = dict.fromkeys(list_with_dups)\r\n",
    "print(*list_without_dups)"
   ],
   "outputs": [
    {
     "output_type": "stream",
     "name": "stdout",
     "text": [
      "1 2 1 3 4 3 0 2 0\n",
      "0 1 2 3 4\n",
      "1 2 3 4 0\n"
     ]
    }
   ],
   "metadata": {}
  },
  {
   "cell_type": "markdown",
   "source": [
    "### 6.2 Write a program that asks the user to enter a length in feet. The program should then give the user the option to convert from feet into inches, yards, miles, millimeters, centimeters, meters, or kilometers. Say if the user enters a 1, then the program converts to inches, if they enter a 2, then the program converts to yards, etc. While this can be done with if statements,it is much shorter with lists and it is also easier to add new conversions if you use lists"
   ],
   "metadata": {}
  },
  {
   "cell_type": "code",
   "execution_count": 26,
   "source": [
    "units = ['inches', 'yards', 'miles', 'millimeters', 'centimeters', 'meters', 'kilometers']\r\n",
    "conv_from_feet = [12, 0.33333, 0.000189393939, 304.8, 30.48, 0.3048, 0.0003048]\r\n",
    "feets = float(input('Enter length in feets: '))\r\n",
    "for i, v in enumerate(units):\r\n",
    "    print(f'Enter {i + 1} to convert feets to {v}')\r\n",
    "i = int(input('Enter your choice')) - 1\r\n",
    "print(f'The length in {units[i]} = {feets * conv_from_feet[i]}')"
   ],
   "outputs": [
    {
     "output_type": "stream",
     "name": "stdout",
     "text": [
      "Enter 1 to convert feets to inches\n",
      "Enter 2 to convert feets to yards\n",
      "Enter 3 to convert feets to miles\n",
      "Enter 4 to convert feets to millimeters\n",
      "Enter 5 to convert feets to centimeters\n",
      "Enter 6 to convert feets to meters\n",
      "Enter 7 to convert feets to kilometers\n",
      "The length in meters = 3.048\n"
     ]
    }
   ],
   "metadata": {}
  },
  {
   "cell_type": "markdown",
   "source": [
    "### 6.3 Write a python script to perform following operations:\r\n",
    "#### i) Create a matrix and print it \r\n",
    "#### ii) Perform Addition of 2 matrices\r\n",
    "#### iii)Perform multiplication of 2 matrices"
   ],
   "metadata": {}
  },
  {
   "cell_type": "code",
   "execution_count": 4,
   "source": [
    "def create_matrix(rows, cols):\r\n",
    "    matrix = []\r\n",
    "    for r in range(rows):\r\n",
    "        row = []\r\n",
    "        for c in range(cols):\r\n",
    "            v = int(input(f'Enter element at row {r}, column {c} :'))\r\n",
    "            row.append(v)\r\n",
    "        matrix.append(row)\r\n",
    "    return matrix\r\n",
    "\r\n",
    "def mat_add(first, second):\r\n",
    "    matrix = []\r\n",
    "    if len(first) == len(second) and len(first[0]) == len(second[0]):\r\n",
    "        matrix = [[first[i][j] + second[i][j]  for j in range(len(first[0]))] for i in range(len(first))]\r\n",
    "    return matrix\r\n",
    "\r\n",
    "def mat_mul(first, second):\r\n",
    "    matrix = []\r\n",
    "    if len(first[0]) == len(second):\r\n",
    "        matrix = [[sum(a*b for a, b in zip(row, col)) for col in zip(*second)] for row in first]\r\n",
    "    return matrix\r\n",
    "\r\n",
    "def disp(matrix):\r\n",
    "    for row in matrix:\r\n",
    "        for val in row:\r\n",
    "            print(f'{val:3d}', end=' ')\r\n",
    "        print()\r\n",
    "\r\n",
    "rows = int(input('Enter number of rows: '))\r\n",
    "cols = int(input('Enter number of columns: '))\r\n",
    "mat1 = create_matrix(rows, cols)\r\n",
    "mat2 = create_matrix(rows, cols)\r\n",
    "res = mat_add(mat1, mat2)\r\n",
    "disp(res)\r\n",
    "print('-----------------')\r\n",
    "res = mat_mul(mat1, mat2)\r\n",
    "disp(res)"
   ],
   "outputs": [
    {
     "output_type": "stream",
     "name": "stdout",
     "text": [
      "  5   5 \n",
      "  5   5 \n",
      "  8   5 \n",
      " 20  13 \n"
     ]
    }
   ],
   "metadata": {}
  }
 ],
 "metadata": {
  "orig_nbformat": 4,
  "language_info": {
   "name": "python",
   "version": "3.9.5",
   "mimetype": "text/x-python",
   "codemirror_mode": {
    "name": "ipython",
    "version": 3
   },
   "pygments_lexer": "ipython3",
   "nbconvert_exporter": "python",
   "file_extension": ".py"
  },
  "kernelspec": {
   "name": "python3",
   "display_name": "Python 3.9.5 64-bit"
  },
  "interpreter": {
   "hash": "ac59ebe37160ed0dfa835113d9b8498d9f09ceb179beaac4002f036b9467c963"
  }
 },
 "nbformat": 4,
 "nbformat_minor": 2
}