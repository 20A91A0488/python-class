{
 "metadata": {
  "language_info": {
   "codemirror_mode": {
    "name": "ipython",
    "version": 3
   },
   "file_extension": ".py",
   "mimetype": "text/x-python",
   "name": "python",
   "nbconvert_exporter": "python",
   "pygments_lexer": "ipython3",
   "version": "3.9.5"
  },
  "orig_nbformat": 2,
  "kernelspec": {
   "name": "python3",
   "display_name": "Python 3.9.5 64-bit"
  },
  "metadata": {
   "interpreter": {
    "hash": "ac59ebe37160ed0dfa835113d9b8498d9f09ceb179beaac4002f036b9467c963"
   }
  },
  "interpreter": {
   "hash": "ac59ebe37160ed0dfa835113d9b8498d9f09ceb179beaac4002f036b9467c963"
  }
 },
 "nbformat": 4,
 "nbformat_minor": 2,
 "cells": [
  {
   "source": [
    "### Strings and Number Systems"
   ],
   "cell_type": "markdown",
   "metadata": {}
  },
  {
   "cell_type": "code",
   "execution_count": 1,
   "metadata": {},
   "outputs": [
    {
     "output_type": "execute_result",
     "data": {
      "text/plain": [
       "10"
      ]
     },
     "metadata": {},
     "execution_count": 1
    }
   ],
   "source": [
    "int('10') # string to int"
   ]
  },
  {
   "cell_type": "code",
   "execution_count": 2,
   "metadata": {},
   "outputs": [
    {
     "output_type": "execute_result",
     "data": {
      "text/plain": [
       "'0o12'"
      ]
     },
     "metadata": {},
     "execution_count": 2
    }
   ],
   "source": [
    "oct(int('10')) # string to oct"
   ]
  },
  {
   "cell_type": "code",
   "execution_count": 3,
   "metadata": {},
   "outputs": [
    {
     "output_type": "execute_result",
     "data": {
      "text/plain": [
       "'0xa'"
      ]
     },
     "metadata": {},
     "execution_count": 3
    }
   ],
   "source": [
    "hex(int('10')) # string to hex"
   ]
  },
  {
   "cell_type": "code",
   "execution_count": 4,
   "metadata": {},
   "outputs": [
    {
     "output_type": "execute_result",
     "data": {
      "text/plain": [
       "'0b1010'"
      ]
     },
     "metadata": {},
     "execution_count": 4
    }
   ],
   "source": [
    "bin(int('10')) # string to binary"
   ]
  },
  {
   "cell_type": "code",
   "execution_count": 5,
   "metadata": {},
   "outputs": [
    {
     "output_type": "execute_result",
     "data": {
      "text/plain": [
       "'10'"
      ]
     },
     "metadata": {},
     "execution_count": 5
    }
   ],
   "source": [
    "str(10) # int to string"
   ]
  },
  {
   "cell_type": "code",
   "execution_count": 6,
   "metadata": {},
   "outputs": [
    {
     "output_type": "execute_result",
     "data": {
      "text/plain": [
       "'10'"
      ]
     },
     "metadata": {},
     "execution_count": 6
    }
   ],
   "source": [
    "str(0o12) # oct to string"
   ]
  },
  {
   "cell_type": "code",
   "execution_count": 7,
   "metadata": {},
   "outputs": [
    {
     "output_type": "execute_result",
     "data": {
      "text/plain": [
       "'10'"
      ]
     },
     "metadata": {},
     "execution_count": 7
    }
   ],
   "source": [
    "str(0xa) # hex to string"
   ]
  },
  {
   "cell_type": "code",
   "execution_count": 8,
   "metadata": {},
   "outputs": [
    {
     "output_type": "execute_result",
     "data": {
      "text/plain": [
       "'10'"
      ]
     },
     "metadata": {},
     "execution_count": 8
    }
   ],
   "source": [
    "str(0b1010) # binary to string"
   ]
  },
  {
   "cell_type": "code",
   "execution_count": 9,
   "metadata": {},
   "outputs": [
    {
     "output_type": "execute_result",
     "data": {
      "text/plain": [
       "10.68"
      ]
     },
     "metadata": {},
     "execution_count": 9
    }
   ],
   "source": [
    "float('10.68') # string to binary"
   ]
  },
  {
   "cell_type": "code",
   "execution_count": 10,
   "metadata": {},
   "outputs": [
    {
     "output_type": "execute_result",
     "data": {
      "text/plain": [
       "10.68"
      ]
     },
     "metadata": {},
     "execution_count": 10
    }
   ],
   "source": [
    "float('10.68') # string to float"
   ]
  },
  {
   "cell_type": "code",
   "execution_count": 11,
   "metadata": {},
   "outputs": [
    {
     "output_type": "execute_result",
     "data": {
      "text/plain": [
       "0.00023"
      ]
     },
     "metadata": {},
     "execution_count": 11
    }
   ],
   "source": [
    "float('23e-5')"
   ]
  },
  {
   "cell_type": "code",
   "execution_count": 12,
   "metadata": {},
   "outputs": [
    {
     "output_type": "execute_result",
     "data": {
      "text/plain": [
       "'10.68'"
      ]
     },
     "metadata": {},
     "execution_count": 12
    }
   ],
   "source": [
    "str(10.68) # float to string"
   ]
  },
  {
   "cell_type": "code",
   "execution_count": 13,
   "metadata": {},
   "outputs": [
    {
     "output_type": "execute_result",
     "data": {
      "text/plain": [
       "'0x1.55c28f5c28f5cp+3'"
      ]
     },
     "metadata": {},
     "execution_count": 13
    }
   ],
   "source": [
    "float('10.68').hex() # string to hex"
   ]
  },
  {
   "cell_type": "code",
   "execution_count": 14,
   "metadata": {},
   "outputs": [
    {
     "output_type": "execute_result",
     "data": {
      "text/plain": [
       "'10.68'"
      ]
     },
     "metadata": {},
     "execution_count": 14
    }
   ],
   "source": [
    "str(float.fromhex('0x1.55c28f5c28f5cp+3')) # hex to string"
   ]
  },
  {
   "source": [
    "### no float to octal conversion \n",
    "### separate function to be developed"
   ],
   "cell_type": "markdown",
   "metadata": {}
  },
  {
   "cell_type": "code",
   "execution_count": 15,
   "metadata": {},
   "outputs": [],
   "source": [
    "#better implementation using list data structure\n",
    "from decimal import Decimal\n",
    "def float_to_octal(num, precision=4):\n",
    "    # converting the whole part\n",
    "    whole = int(num)\n",
    "    octstr = oct(whole)[2:]\n",
    "    octstr += '.'\n",
    "\n",
    "    #converting fractional part\n",
    "    fraction = Decimal(num - whole)\n",
    "    for i in range(precision):\n",
    "        fraction *= 8\n",
    "        digit = int(fraction)\n",
    "        octstr += str(digit)\n",
    "        fraction -= digit\n",
    "        if fraction.is_zero():\n",
    "            break\n",
    "    return float(octstr)"
   ]
  },
  {
   "cell_type": "code",
   "execution_count": 16,
   "metadata": {},
   "outputs": [
    {
     "output_type": "execute_result",
     "data": {
      "text/plain": [
       "3.1075"
      ]
     },
     "metadata": {},
     "execution_count": 16
    }
   ],
   "source": [
    "float_to_octal(3.14)"
   ]
  },
  {
   "cell_type": "code",
   "execution_count": 17,
   "metadata": {},
   "outputs": [
    {
     "output_type": "execute_result",
     "data": {
      "text/plain": [
       "0.005"
      ]
     },
     "metadata": {},
     "execution_count": 17
    }
   ],
   "source": [
    "float_to_octal(0.01)"
   ]
  },
  {
   "cell_type": "code",
   "execution_count": 18,
   "metadata": {},
   "outputs": [
    {
     "output_type": "execute_result",
     "data": {
      "text/plain": [
       "14.2463"
      ]
     },
     "metadata": {},
     "execution_count": 18
    }
   ],
   "source": [
    "float_to_octal(12.325)"
   ]
  },
  {
   "cell_type": "code",
   "execution_count": 19,
   "metadata": {},
   "outputs": [
    {
     "output_type": "execute_result",
     "data": {
      "text/plain": [
       "31.0"
      ]
     },
     "metadata": {},
     "execution_count": 19
    }
   ],
   "source": [
    "float_to_octal(25)"
   ]
  },
  {
   "cell_type": "code",
   "execution_count": 20,
   "metadata": {},
   "outputs": [],
   "source": [
    "def octal_to_float(num, precision = 4):\n",
    "    whole = int(num)\n",
    "    fraction = Decimal(num - whole)\n",
    "\n",
    "    # convert the whole part\n",
    "    fv = 0\n",
    "    pv = 1\n",
    "    while whole > 0:\n",
    "        digit = whole % 10\n",
    "        fv += digit * pv\n",
    "        whole //= 10\n",
    "        pv <<= 3\n",
    "\n",
    "    #converting fractional part\n",
    "    pv = 1 / 8\n",
    "    while not fraction.is_zero():\n",
    "        fraction *= 10\n",
    "        digit = int(fraction)\n",
    "        fv += digit * pv\n",
    "        fraction -= digit\n",
    "        pv /= 8\n",
    "    \n",
    "    return round(fv, precision)"
   ]
  },
  {
   "cell_type": "code",
   "execution_count": 21,
   "metadata": {},
   "outputs": [
    {
     "output_type": "execute_result",
     "data": {
      "text/plain": [
       "12.325"
      ]
     },
     "metadata": {},
     "execution_count": 21
    }
   ],
   "source": [
    "octal_to_float(14.2463)\n"
   ]
  },
  {
   "cell_type": "code",
   "execution_count": 22,
   "metadata": {},
   "outputs": [
    {
     "output_type": "execute_result",
     "data": {
      "text/plain": [
       "(3+2j)"
      ]
     },
     "metadata": {},
     "execution_count": 22
    }
   ],
   "source": [
    "complex('3+2j') # string to complex"
   ]
  },
  {
   "cell_type": "code",
   "execution_count": 23,
   "metadata": {},
   "outputs": [
    {
     "output_type": "execute_result",
     "data": {
      "text/plain": [
       "'(3+2j)'"
      ]
     },
     "metadata": {},
     "execution_count": 23
    }
   ],
   "source": [
    "str(3+2j) # complex to string"
   ]
  },
  {
   "cell_type": "code",
   "execution_count": 24,
   "metadata": {},
   "outputs": [
    {
     "output_type": "error",
     "ename": "TypeError",
     "evalue": "can't convert complex to float",
     "traceback": [
      "\u001b[1;31m---------------------------------------------------------------------------\u001b[0m",
      "\u001b[1;31mTypeError\u001b[0m                                 Traceback (most recent call last)",
      "\u001b[1;32m<ipython-input-24-e2a6884e52c8>\u001b[0m in \u001b[0;36m<module>\u001b[1;34m\u001b[0m\n\u001b[1;32m----> 1\u001b[1;33m \u001b[0mfloat\u001b[0m\u001b[1;33m(\u001b[0m\u001b[1;36m3\u001b[0m\u001b[1;33m+\u001b[0m\u001b[1;36m2j\u001b[0m\u001b[1;33m)\u001b[0m \u001b[1;31m# no complex to floar or int conversion\u001b[0m\u001b[1;33m\u001b[0m\u001b[1;33m\u001b[0m\u001b[0m\n\u001b[0m",
      "\u001b[1;31mTypeError\u001b[0m: can't convert complex to float"
     ]
    }
   ],
   "source": [
    "float(3+2j) # no complex to floar or int conversion"
   ]
  },
  {
   "cell_type": "code",
   "execution_count": 25,
   "metadata": {},
   "outputs": [
    {
     "output_type": "execute_result",
     "data": {
      "text/plain": [
       "(10+0j)"
      ]
     },
     "metadata": {},
     "execution_count": 25
    }
   ],
   "source": [
    "complex(10) # int to complex conversion"
   ]
  },
  {
   "cell_type": "code",
   "execution_count": 26,
   "metadata": {},
   "outputs": [
    {
     "output_type": "execute_result",
     "data": {
      "text/plain": [
       "(1-2j)"
      ]
     },
     "metadata": {},
     "execution_count": 26
    }
   ],
   "source": [
    "complex(1, -2)"
   ]
  },
  {
   "cell_type": "code",
   "execution_count": 27,
   "metadata": {},
   "outputs": [
    {
     "output_type": "execute_result",
     "data": {
      "text/plain": [
       "(10.68+0j)"
      ]
     },
     "metadata": {},
     "execution_count": 27
    }
   ],
   "source": [
    "complex(10.68) # float to complex"
   ]
  },
  {
   "cell_type": "code",
   "execution_count": 28,
   "metadata": {},
   "outputs": [
    {
     "output_type": "execute_result",
     "data": {
      "text/plain": [
       "(10.68+5.18j)"
      ]
     },
     "metadata": {},
     "execution_count": 28
    }
   ],
   "source": [
    "complex(10.68, 5.18)"
   ]
  }
 ]
}