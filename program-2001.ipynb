{
 "metadata": {
  "language_info": {
   "codemirror_mode": {
    "name": "ipython",
    "version": 3
   },
   "file_extension": ".py",
   "mimetype": "text/x-python",
   "name": "python",
   "nbconvert_exporter": "python",
   "pygments_lexer": "ipython3",
   "version": "3.9.5"
  },
  "orig_nbformat": 2,
  "kernelspec": {
   "name": "python3",
   "display_name": "Python 3.9.5 64-bit"
  },
  "metadata": {
   "interpreter": {
    "hash": "ac59ebe37160ed0dfa835113d9b8498d9f09ceb179beaac4002f036b9467c963"
   }
  },
  "interpreter": {
   "hash": "ac59ebe37160ed0dfa835113d9b8498d9f09ceb179beaac4002f036b9467c963"
  }
 },
 "nbformat": 4,
 "nbformat_minor": 2,
 "cells": [
  {
   "source": [
    "### String to int (oct, hex, binary), float Decimal, float hexadecimal, complex"
   ],
   "cell_type": "markdown",
   "metadata": {}
  },
  {
   "cell_type": "code",
   "execution_count": 1,
   "metadata": {},
   "outputs": [
    {
     "output_type": "execute_result",
     "data": {
      "text/plain": [
       "10"
      ]
     },
     "metadata": {},
     "execution_count": 1
    }
   ],
   "source": [
    "int('10') # string to int"
   ]
  },
  {
   "cell_type": "code",
   "execution_count": 2,
   "metadata": {},
   "outputs": [
    {
     "output_type": "execute_result",
     "data": {
      "text/plain": [
       "'0o12'"
      ]
     },
     "metadata": {},
     "execution_count": 2
    }
   ],
   "source": [
    "oct(int('10')) # string to oct"
   ]
  },
  {
   "cell_type": "code",
   "execution_count": 3,
   "metadata": {},
   "outputs": [
    {
     "output_type": "execute_result",
     "data": {
      "text/plain": [
       "'0xa'"
      ]
     },
     "metadata": {},
     "execution_count": 3
    }
   ],
   "source": [
    "hex(int('10')) # string to hex"
   ]
  },
  {
   "cell_type": "code",
   "execution_count": 4,
   "metadata": {},
   "outputs": [
    {
     "output_type": "execute_result",
     "data": {
      "text/plain": [
       "'0b1010'"
      ]
     },
     "metadata": {},
     "execution_count": 4
    }
   ],
   "source": [
    "bin(int('10')) # string to binary"
   ]
  },
  {
   "cell_type": "code",
   "execution_count": 5,
   "metadata": {},
   "outputs": [
    {
     "output_type": "execute_result",
     "data": {
      "text/plain": [
       "10.68"
      ]
     },
     "metadata": {},
     "execution_count": 5
    }
   ],
   "source": [
    "float('10.68') # string to float decimal"
   ]
  },
  {
   "cell_type": "code",
   "execution_count": 6,
   "metadata": {},
   "outputs": [
    {
     "output_type": "execute_result",
     "data": {
      "text/plain": [
       "0.00023"
      ]
     },
     "metadata": {},
     "execution_count": 6
    }
   ],
   "source": [
    "float('23e-5')"
   ]
  },
  {
   "cell_type": "code",
   "execution_count": 7,
   "metadata": {},
   "outputs": [
    {
     "output_type": "execute_result",
     "data": {
      "text/plain": [
       "'0x1.55c28f5c28f5cp+3'"
      ]
     },
     "metadata": {},
     "execution_count": 7
    }
   ],
   "source": [
    "float('10.68').hex() # string to float hexadecimal"
   ]
  },
  {
   "cell_type": "code",
   "execution_count": 8,
   "metadata": {},
   "outputs": [
    {
     "output_type": "execute_result",
     "data": {
      "text/plain": [
       "(3+2j)"
      ]
     },
     "metadata": {},
     "execution_count": 8
    }
   ],
   "source": [
    "complex('3+2j') # string to complex"
   ]
  },
  {
   "source": [
    "### int (oct, hex, binary), float decimal, float hexadecimal, complex to string"
   ],
   "cell_type": "markdown",
   "metadata": {}
  },
  {
   "cell_type": "code",
   "execution_count": 9,
   "metadata": {},
   "outputs": [
    {
     "output_type": "execute_result",
     "data": {
      "text/plain": [
       "'10'"
      ]
     },
     "metadata": {},
     "execution_count": 9
    }
   ],
   "source": [
    "str(10) # int to string"
   ]
  },
  {
   "cell_type": "code",
   "execution_count": 10,
   "metadata": {},
   "outputs": [
    {
     "output_type": "execute_result",
     "data": {
      "text/plain": [
       "'10'"
      ]
     },
     "metadata": {},
     "execution_count": 10
    }
   ],
   "source": [
    "str(0o12) # oct to string"
   ]
  },
  {
   "cell_type": "code",
   "execution_count": 11,
   "metadata": {},
   "outputs": [
    {
     "output_type": "execute_result",
     "data": {
      "text/plain": [
       "'10'"
      ]
     },
     "metadata": {},
     "execution_count": 11
    }
   ],
   "source": [
    "str(0xa) # hex to string"
   ]
  },
  {
   "cell_type": "code",
   "execution_count": 12,
   "metadata": {},
   "outputs": [
    {
     "output_type": "execute_result",
     "data": {
      "text/plain": [
       "'10'"
      ]
     },
     "metadata": {},
     "execution_count": 12
    }
   ],
   "source": [
    "str(0b1010) # binary to string"
   ]
  },
  {
   "cell_type": "code",
   "execution_count": 13,
   "metadata": {},
   "outputs": [
    {
     "output_type": "execute_result",
     "data": {
      "text/plain": [
       "'10.68'"
      ]
     },
     "metadata": {},
     "execution_count": 13
    }
   ],
   "source": [
    "str(10.68) # float decimal to string"
   ]
  },
  {
   "cell_type": "code",
   "execution_count": 14,
   "metadata": {},
   "outputs": [
    {
     "output_type": "execute_result",
     "data": {
      "text/plain": [
       "10.68"
      ]
     },
     "metadata": {},
     "execution_count": 14
    }
   ],
   "source": [
    "float.fromhex('0x1.55c28f5c28f5cp+3')"
   ]
  },
  {
   "cell_type": "code",
   "execution_count": 15,
   "metadata": {},
   "outputs": [
    {
     "output_type": "execute_result",
     "data": {
      "text/plain": [
       "'(3+2j)'"
      ]
     },
     "metadata": {},
     "execution_count": 15
    }
   ],
   "source": [
    "str(3+2j) # complex to string"
   ]
  },
  {
   "source": [
    "### int, float decimal to complex conversion"
   ],
   "cell_type": "markdown",
   "metadata": {}
  },
  {
   "cell_type": "code",
   "execution_count": 16,
   "metadata": {},
   "outputs": [
    {
     "output_type": "execute_result",
     "data": {
      "text/plain": [
       "(10+0j)"
      ]
     },
     "metadata": {},
     "execution_count": 16
    }
   ],
   "source": [
    "complex(10) # int to complex conversion"
   ]
  },
  {
   "cell_type": "code",
   "execution_count": 17,
   "metadata": {},
   "outputs": [
    {
     "output_type": "execute_result",
     "data": {
      "text/plain": [
       "(1-2j)"
      ]
     },
     "metadata": {},
     "execution_count": 17
    }
   ],
   "source": [
    "complex(1, -2)"
   ]
  },
  {
   "cell_type": "code",
   "execution_count": 18,
   "metadata": {},
   "outputs": [
    {
     "output_type": "execute_result",
     "data": {
      "text/plain": [
       "(10.68+0j)"
      ]
     },
     "metadata": {},
     "execution_count": 18
    }
   ],
   "source": [
    "complex(10.68) # float decimal to complex"
   ]
  },
  {
   "cell_type": "code",
   "execution_count": 19,
   "metadata": {},
   "outputs": [
    {
     "output_type": "execute_result",
     "data": {
      "text/plain": [
       "(-10.68-5.18j)"
      ]
     },
     "metadata": {},
     "execution_count": 19
    }
   ],
   "source": [
    "complex(-10.68, -5.18)"
   ]
  },
  {
   "source": [
    "### Conclusions\n",
    "#### 1. no built-in functions for converting from octal, binary, hexadecimal to integer\n",
    "#### 2. no built-in functions for converting float octal to and from strings\n",
    "#### 3. no built-in functions for converting any number system to any number system\n",
    "#### 4. no complex to int or float conversions (meaning less)"
   ],
   "cell_type": "markdown",
   "metadata": {}
  },
  {
   "source": [
    "### float decimal to float octal"
   ],
   "cell_type": "markdown",
   "metadata": {}
  },
  {
   "cell_type": "code",
   "execution_count": 20,
   "metadata": {},
   "outputs": [],
   "source": [
    "#better implementation using list data structure\n",
    "from decimal import Decimal\n",
    "def float_to_octal(num, precision=4):\n",
    "    # converting the whole part\n",
    "    whole = int(num)\n",
    "    octstr = oct(whole)[2:]\n",
    "    octstr += '.'\n",
    "\n",
    "    #converting fractional part\n",
    "    fraction = Decimal(num - whole)\n",
    "    for i in range(precision):\n",
    "        fraction *= 8\n",
    "        digit = int(fraction)\n",
    "        octstr += str(digit)\n",
    "        fraction -= digit\n",
    "        if fraction.is_zero():\n",
    "            break\n",
    "    return float(octstr)"
   ]
  },
  {
   "cell_type": "code",
   "execution_count": 21,
   "metadata": {},
   "outputs": [
    {
     "output_type": "execute_result",
     "data": {
      "text/plain": [
       "3.1075"
      ]
     },
     "metadata": {},
     "execution_count": 21
    }
   ],
   "source": [
    "float_to_octal(3.14)"
   ]
  },
  {
   "cell_type": "code",
   "execution_count": 22,
   "metadata": {},
   "outputs": [
    {
     "output_type": "execute_result",
     "data": {
      "text/plain": [
       "0.005"
      ]
     },
     "metadata": {},
     "execution_count": 22
    }
   ],
   "source": [
    "float_to_octal(0.01)"
   ]
  },
  {
   "cell_type": "code",
   "execution_count": 23,
   "metadata": {},
   "outputs": [
    {
     "output_type": "execute_result",
     "data": {
      "text/plain": [
       "14.2463"
      ]
     },
     "metadata": {},
     "execution_count": 23
    }
   ],
   "source": [
    "float_to_octal(12.325)"
   ]
  },
  {
   "cell_type": "code",
   "execution_count": 24,
   "metadata": {},
   "outputs": [
    {
     "output_type": "execute_result",
     "data": {
      "text/plain": [
       "31.0"
      ]
     },
     "metadata": {},
     "execution_count": 24
    }
   ],
   "source": [
    "float_to_octal(25)"
   ]
  },
  {
   "source": [
    "### float octal to float decimal"
   ],
   "cell_type": "markdown",
   "metadata": {}
  },
  {
   "cell_type": "code",
   "execution_count": 25,
   "metadata": {},
   "outputs": [],
   "source": [
    "def octal_to_float(num, precision = 4):\n",
    "    whole = int(num)\n",
    "    fraction = Decimal(num - whole)\n",
    "\n",
    "    # convert the whole part\n",
    "    fv = 0\n",
    "    pv = 1\n",
    "    while whole > 0:\n",
    "        digit = whole % 10\n",
    "        fv += digit * pv\n",
    "        whole //= 10\n",
    "        pv <<= 3\n",
    "\n",
    "    #converting fractional part\n",
    "    pv = 1 / 8\n",
    "    while not fraction.is_zero():\n",
    "        fraction *= 10\n",
    "        digit = int(fraction)\n",
    "        fv += digit * pv\n",
    "        fraction -= digit\n",
    "        pv /= 8\n",
    "    \n",
    "    return round(fv, precision)"
   ]
  },
  {
   "cell_type": "code",
   "execution_count": 26,
   "metadata": {},
   "outputs": [
    {
     "output_type": "execute_result",
     "data": {
      "text/plain": [
       "12.325"
      ]
     },
     "metadata": {},
     "execution_count": 26
    }
   ],
   "source": [
    "octal_to_float(14.2463)\n"
   ]
  },
  {
   "cell_type": "code",
   "execution_count": 27,
   "metadata": {},
   "outputs": [
    {
     "output_type": "execute_result",
     "data": {
      "text/plain": [
       "0.01"
      ]
     },
     "metadata": {},
     "execution_count": 27
    }
   ],
   "source": [
    "octal_to_float(0.005, 2)"
   ]
  },
  {
   "cell_type": "code",
   "execution_count": 28,
   "metadata": {},
   "outputs": [
    {
     "output_type": "execute_result",
     "data": {
      "text/plain": [
       "3.14"
      ]
     },
     "metadata": {},
     "execution_count": 28
    }
   ],
   "source": [
    "octal_to_float(3.1075, 2)"
   ]
  },
  {
   "source": [
    "### float decimal or int to any number system"
   ],
   "cell_type": "markdown",
   "metadata": {}
  },
  {
   "cell_type": "code",
   "execution_count": 29,
   "metadata": {},
   "outputs": [],
   "source": [
    "def to_radix(num, precision = 0, radix = 2):\n",
    "    whole = int(num)\n",
    "    fraction = Decimal(num - whole)\n",
    "    \n",
    "    # convert the whole part\n",
    "    fv = ''\n",
    "    while whole > 0:\n",
    "        digit = whole % radix\n",
    "        fv = (str(digit) if digit <= 9 else chr(digit+55)) + fv\n",
    "        whole //= radix\n",
    "\n",
    "    if not fraction.is_zero():\n",
    "        fv += '.'\n",
    "        # convert the fraction part\n",
    "        for i in range(precision, 0, -1):\n",
    "            fraction *= radix\n",
    "            digit = int(fraction)\n",
    "            fv += str(digit) if digit <= 9 else chr(digit+55)\n",
    "            fraction -= digit\n",
    "\n",
    "    return fv"
   ]
  },
  {
   "cell_type": "code",
   "execution_count": 30,
   "metadata": {},
   "outputs": [
    {
     "output_type": "execute_result",
     "data": {
      "text/plain": [
       "'1010'"
      ]
     },
     "metadata": {},
     "execution_count": 30
    }
   ],
   "source": [
    "to_radix(10)"
   ]
  },
  {
   "cell_type": "code",
   "execution_count": 31,
   "metadata": {},
   "outputs": [
    {
     "output_type": "execute_result",
     "data": {
      "text/plain": [
       "'1010.0100'"
      ]
     },
     "metadata": {},
     "execution_count": 31
    }
   ],
   "source": [
    "to_radix(10.25, 4)"
   ]
  },
  {
   "cell_type": "code",
   "execution_count": 32,
   "metadata": {},
   "outputs": [
    {
     "output_type": "execute_result",
     "data": {
      "text/plain": [
       "'12.20'"
      ]
     },
     "metadata": {},
     "execution_count": 32
    }
   ],
   "source": [
    "to_radix(10.25, 2, 8)"
   ]
  },
  {
   "cell_type": "code",
   "execution_count": 33,
   "metadata": {},
   "outputs": [
    {
     "output_type": "execute_result",
     "data": {
      "text/plain": [
       "'A.4'"
      ]
     },
     "metadata": {},
     "execution_count": 33
    }
   ],
   "source": [
    "to_radix(10.25, 1, 16)"
   ]
  },
  {
   "cell_type": "code",
   "execution_count": 34,
   "metadata": {},
   "outputs": [
    {
     "output_type": "execute_result",
     "data": {
      "text/plain": [
       "'20.1111'"
      ]
     },
     "metadata": {},
     "execution_count": 34
    }
   ],
   "source": [
    "to_radix(10.25, 4, 5)"
   ]
  },
  {
   "source": [
    "### any number system to float decimal or int"
   ],
   "cell_type": "markdown",
   "metadata": {}
  },
  {
   "cell_type": "code",
   "execution_count": 35,
   "metadata": {},
   "outputs": [],
   "source": [
    "def from_radix(num, precision = 0, radix = 2):\n",
    "    tokens = num.split('.') \n",
    "    wholestr = tokens[0][::-1]\n",
    "    fractionstr = tokens[1] if len(tokens) == 2 else ''\n",
    "    \n",
    "    # convert the whole part\n",
    "    fv = 0\n",
    "    pv = 1\n",
    "    for ch in wholestr:\n",
    "        digit = ord(ch) - (87 if ch >= 'a' else 55 if ch >= 'A' else 48)\n",
    "        if digit > radix:\n",
    "            print('INPUT ERROR')\n",
    "            sys.exit(0)\n",
    "        fv += (digit) * pv\n",
    "        pv *= radix\n",
    "\n",
    "    # convert the fraction part\n",
    "    pv = 1/radix\n",
    "    for ch in fractionstr:\n",
    "        digit = ord(ch) - (87 if ch >= 'a' else 55 if ch >= 'A' else 48)\n",
    "        if digit > radix:\n",
    "            print('INPUT ERROR')\n",
    "            sys.exit(0)\n",
    "        fv += digit * pv\n",
    "        pv /= radix\n",
    "\n",
    "    return round(fv, precision)"
   ]
  },
  {
   "cell_type": "code",
   "execution_count": 36,
   "metadata": {},
   "outputs": [
    {
     "output_type": "execute_result",
     "data": {
      "text/plain": [
       "10.25"
      ]
     },
     "metadata": {},
     "execution_count": 36
    }
   ],
   "source": [
    "from_radix('12.2', 2, 8)"
   ]
  },
  {
   "cell_type": "code",
   "execution_count": 37,
   "metadata": {},
   "outputs": [
    {
     "output_type": "execute_result",
     "data": {
      "text/plain": [
       "10.25"
      ]
     },
     "metadata": {},
     "execution_count": 37
    }
   ],
   "source": [
    "from_radix('20.1111', 2, 5)"
   ]
  },
  {
   "cell_type": "code",
   "execution_count": 38,
   "metadata": {},
   "outputs": [
    {
     "output_type": "execute_result",
     "data": {
      "text/plain": [
       "10.25"
      ]
     },
     "metadata": {},
     "execution_count": 38
    }
   ],
   "source": [
    "from_radix('1010.01', 2)"
   ]
  },
  {
   "cell_type": "code",
   "execution_count": 39,
   "metadata": {},
   "outputs": [
    {
     "output_type": "execute_result",
     "data": {
      "text/plain": [
       "10.25"
      ]
     },
     "metadata": {},
     "execution_count": 39
    }
   ],
   "source": [
    "from_radix('A.4', 2, 16)"
   ]
  },
  {
   "cell_type": "code",
   "execution_count": 40,
   "metadata": {},
   "outputs": [
    {
     "output_type": "execute_result",
     "data": {
      "text/plain": [
       "10"
      ]
     },
     "metadata": {},
     "execution_count": 40
    }
   ],
   "source": [
    "from_radix('A', 2, 16)"
   ]
  },
  {
   "cell_type": "code",
   "execution_count": 41,
   "metadata": {},
   "outputs": [
    {
     "output_type": "execute_result",
     "data": {
      "text/plain": [
       "10"
      ]
     },
     "metadata": {},
     "execution_count": 41
    }
   ],
   "source": [
    "from_radix('a', 2, 16)"
   ]
  },
  {
   "cell_type": "code",
   "execution_count": 42,
   "metadata": {},
   "outputs": [
    {
     "output_type": "stream",
     "name": "stdout",
     "text": [
      "INPUT ERROR\n"
     ]
    },
    {
     "output_type": "error",
     "ename": "SystemExit",
     "evalue": "0",
     "traceback": [
      "An exception has occurred, use %tb to see the full traceback.\n",
      "\u001b[1;31mSystemExit\u001b[0m\u001b[1;31m:\u001b[0m 0\n"
     ]
    }
   ],
   "source": [
    "from_radix('h', 2, 16)"
   ]
  }
 ]
}